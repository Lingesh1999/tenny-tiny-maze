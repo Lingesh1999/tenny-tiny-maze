{
 "cells": [
  {
   "cell_type": "markdown",
   "id": "eacb7dfd",
   "metadata": {},
   "source": [
    "# QUESTIONS:"
   ]
  },
  {
   "cell_type": "markdown",
   "id": "24d7463f",
   "metadata": {},
   "source": [
    "1. What is the result of the code, and explain?\n",
    "\n",
    "    >>> X = 'iNeuron'\n",
    "    >>> def func():\n",
    "    print(X)\n",
    "\n",
    "\n",
    "    >>> func()\n",
    "\n",
    "\n",
    "2. What is the result of the code, and explain?\n",
    "\n",
    "\n",
    "    >>> X = 'iNeuron'\n",
    "    >>> def func():\n",
    "    X = 'NI!'\n",
    "\n",
    "\n",
    "    >>> func()\n",
    "    >>> print(X)\n",
    "\n",
    "\n",
    "3. What does this code print, and why?\n",
    "\n",
    "\n",
    "    >>> X = 'iNeuron'\n",
    "    >>> def func():\n",
    "    X = 'NI'\n",
    "    print(X)\n",
    "\n",
    "\n",
    "    >>> func()\n",
    "    >>> print(X)\n",
    "\n",
    "\n",
    "4. What output does this code produce? Why?\n",
    "\n",
    "\n",
    "    >>> X = 'iNeuron'\n",
    "    >>> def func():\n",
    "    global X\n",
    "    X = 'NI'\n",
    "\n",
    "\n",
    "    >>> func()\n",
    "    >>> print(X)\n",
    "\n",
    "\n",
    "5. What about this code—what’s the output, and why?\n",
    "\n",
    "    >>> X = 'iNeuron'\n",
    "    >>> def func():\n",
    "    X = 'NI'\n",
    "    def nested():\n",
    "    print(X)\n",
    "    nested()\n",
    "\n",
    "\n",
    "    >>> func()\n",
    "    >>> X\n",
    "\n",
    "6. How about this code: what is its output in Python 3, and explain?\n",
    "\n",
    "    >>> def func():\n",
    "    X = 'NI'\n",
    "    def nested():\n",
    "    nonlocal X\n",
    "    X = 'Spam'\n",
    "    nested()\n",
    "    print(X)\n",
    "\n",
    "    >>> func()"
   ]
  },
  {
   "cell_type": "markdown",
   "id": "392ed9b6",
   "metadata": {},
   "source": [
    "# ANSWERS:"
   ]
  },
  {
   "cell_type": "markdown",
   "id": "161a5b3c",
   "metadata": {},
   "source": [
    "    1). The result of the code is 'iNeuron'. Here the func() is called and the func() has only one operation to do \n",
    "    \n",
    "    that is printing X, where x is assigned as \"iNeuron\"."
   ]
  },
  {
   "cell_type": "markdown",
   "id": "fe0f04f6",
   "metadata": {},
   "source": [
    "    2). The result of the code is as follows : \n",
    "    \n",
    "    i) first func() is called and it has one operation to do that is assigning value \"NI!\" to variable x.\n",
    "    but it will not show any output from this as there is no print in function.\n",
    "    \n",
    "    ii) print(x) is mentioned in below it will print \"iNeuron\" because x variable is assigned to value \"iNeuron\"\n",
    "    but the value in function does not affect it because x variable and print() statement are global which \n",
    "    is outside the func() function."
   ]
  },
  {
   "cell_type": "markdown",
   "id": "252ddd18",
   "metadata": {},
   "source": [
    "    3). The result of the code is as follows:\n",
    "    \n",
    "    i) Here there is a variable x outside func() function and print() statement also outside so they are global\n",
    "    so the output for final print() statement is \"iNeuron\".\n",
    "    \n",
    "    ii) Then the function func() is also called here so there is a variable x again which has value \"NI\"\n",
    "    and there is print() statement locally that is inside the function. so when the func() called the output will\n",
    "    be \"NI\"."
   ]
  },
  {
   "cell_type": "markdown",
   "id": "655e7c0e",
   "metadata": {},
   "source": [
    "        4). The result of the code as follows : \n",
    "        \n",
    "        The output of the code will be \"NI\". Because we are using global variable keyword inside the function\n",
    "        func(). so the value of x is replaced by \"NI\". so when the function func() is called it updates the \n",
    "        value of the global variable x which is outside the function. Then the print(x) statement prints the\n",
    "        updated value \"NI\"."
   ]
  },
  {
   "cell_type": "markdown",
   "id": "dceab4a0",
   "metadata": {},
   "source": [
    "    5). The result of the code as follows :\n",
    "    \n",
    "    i) Here the global variable x has value \"iNeuron\" and two functions func() and nested(). the func() has one condition that is x = \"NI\" and nested() has one condition that is print(x). \n",
    "    so when the function nested() called the print() statement will be executed and the result will be \n",
    "    \"iNeuron\".\n",
    "    \n",
    "    ii) Then the func() is called and it does not have any effects because the scope is local not global\n",
    "    \n",
    "    and finally the print(x) statement prints the global x because it also present outside of functions.\n",
    "    so the output will be \"iNeuron\"."
   ]
  },
  {
   "cell_type": "markdown",
   "id": "3f2d53c1",
   "metadata": {},
   "source": [
    "    6). The result is :\n",
    "    \n",
    "    i) the variable we want access inside and outside of the function we must use global keyword before variable\n",
    "    inside the function and the output of the code is there will be no binding for nonlocal \"X\" found."
   ]
  }
 ],
 "metadata": {
  "kernelspec": {
   "display_name": "Python 3 (ipykernel)",
   "language": "python",
   "name": "python3"
  },
  "language_info": {
   "codemirror_mode": {
    "name": "ipython",
    "version": 3
   },
   "file_extension": ".py",
   "mimetype": "text/x-python",
   "name": "python",
   "nbconvert_exporter": "python",
   "pygments_lexer": "ipython3",
   "version": "3.9.7"
  }
 },
 "nbformat": 4,
 "nbformat_minor": 5
}
