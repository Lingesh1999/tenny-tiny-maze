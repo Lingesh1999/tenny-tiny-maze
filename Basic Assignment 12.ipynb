{
 "cells": [
  {
   "cell_type": "markdown",
   "id": "1329a3dd",
   "metadata": {},
   "source": [
    "# QUESTIONS:"
   ]
  },
  {
   "cell_type": "markdown",
   "id": "03ea7685",
   "metadata": {},
   "source": [
    "1. In what modes should the PdfFileReader() and PdfFileWriter() File objects will be opened?\n",
    "\n",
    "2. From a PdfFileReader object, how do you get a Page object for page 5?\n",
    "\n",
    "3. What PdfFileReader variable stores the number of pages in the PDF document?\n",
    "\n",
    "4. If a PdfFileReader object’s PDF is encrypted with the password swordfish, what must you do before you can obtain Page objects from it?\n",
    "\n",
    "5. What methods do you use to rotate a page?\n",
    "\n",
    "6. What is the difference between a Run object and a Paragraph object?\n",
    "\n",
    "7. How do you obtain a list of Paragraph objects for a Document object that’s stored in a variable named doc?\n",
    "\n",
    "8. What type of object has bold, underline, italic, strike, and outline variables?\n",
    "\n",
    "9. What is the difference between False, True, and None for the bold variable?\n",
    "\n",
    "10. How do you create a Document object for a new Word document?\n",
    "\n",
    "11. How do you add a paragraph with the text 'Hello, there!' to a Document object stored in a variable named doc?\n",
    "\n",
    "12. What integers represent the levels of headings available in Word documents?"
   ]
  },
  {
   "cell_type": "markdown",
   "id": "5c32cdfb",
   "metadata": {},
   "source": [
    "# ANSWERS:"
   ]
  },
  {
   "cell_type": "markdown",
   "id": "97e061dd",
   "metadata": {},
   "source": [
    "    1). PdfReader() --> read binary('rb') mode\n",
    "    \n",
    "        PdfWriter() --> write binary('wb') mode."
   ]
  },
  {
   "cell_type": "markdown",
   "id": "b6d8e68c",
   "metadata": {},
   "source": [
    "    2). when we call getPage function it gives the exact page we needed. In this case we need to call\n",
    "    \n",
    "        getPage(4). Because getPage(0) is first page."
   ]
  },
  {
   "cell_type": "markdown",
   "id": "22523630",
   "metadata": {},
   "source": [
    "    3). numPages variables stores number of pages in integer of the read object."
   ]
  },
  {
   "cell_type": "markdown",
   "id": "81f5d8c9",
   "metadata": {},
   "source": [
    "    4). call decrypt('swordfish')"
   ]
  },
  {
   "cell_type": "markdown",
   "id": "27f46391",
   "metadata": {},
   "source": [
    "    5).  There are two functions which can be used to rotate. They are rotateClockwise()\n",
    "    \n",
    "        and rotateCounterClockwise() and we can pass certain degrees for rotation in the format of integer.\n",
    "    \n",
    "        "
   ]
  },
  {
   "cell_type": "markdown",
   "id": "ed89c36f",
   "metadata": {},
   "source": [
    "    6). A document contains multiple paragraphs. A paragraph begins on a new line and contains multiple runs. Runs are \n",
    "    \n",
    "        contiguous groups of characters within a paragraph.\n",
    "    "
   ]
  },
  {
   "cell_type": "markdown",
   "id": "ef3f8ba8",
   "metadata": {},
   "source": [
    "    7). doc.paragraphs will give you list of paragraph objects."
   ]
  },
  {
   "cell_type": "markdown",
   "id": "bed0430c",
   "metadata": {},
   "source": [
    "    8). They are Run objects."
   ]
  },
  {
   "cell_type": "markdown",
   "id": "70d0a8d6",
   "metadata": {},
   "source": [
    "    9). True always makes the Run object bolded and False makes it always not bolded .\n",
    "    \n",
    "        None will make the Run object just use the style’s bold setting.\n",
    "    "
   ]
  },
  {
   "cell_type": "markdown",
   "id": "d10aba36",
   "metadata": {},
   "source": [
    "    10). docx.Document() function will create a document object."
   ]
  },
  {
   "cell_type": "markdown",
   "id": "5f7a3cb7",
   "metadata": {},
   "source": [
    "    11). doc.add_paragraph('Hello there!')"
   ]
  },
  {
   "cell_type": "markdown",
   "id": "3381afcf",
   "metadata": {},
   "source": [
    "    12). The available integers are 0,1,2,3,4"
   ]
  }
 ],
 "metadata": {
  "kernelspec": {
   "display_name": "Python 3 (ipykernel)",
   "language": "python",
   "name": "python3"
  },
  "language_info": {
   "codemirror_mode": {
    "name": "ipython",
    "version": 3
   },
   "file_extension": ".py",
   "mimetype": "text/x-python",
   "name": "python",
   "nbconvert_exporter": "python",
   "pygments_lexer": "ipython3",
   "version": "3.9.7"
  }
 },
 "nbformat": 4,
 "nbformat_minor": 5
}
