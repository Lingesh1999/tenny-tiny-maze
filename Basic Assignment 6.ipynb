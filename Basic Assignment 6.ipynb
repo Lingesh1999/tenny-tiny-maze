{
 "cells": [
  {
   "cell_type": "markdown",
   "id": "e3b7a6e4",
   "metadata": {},
   "source": [
    "# QUESTIONS:"
   ]
  },
  {
   "cell_type": "markdown",
   "id": "3cfc95e1",
   "metadata": {},
   "source": [
    "1. What are escape characters, and how do you use them?\n",
    "\n",
    "2. What do the escape characters n and t stand for?\n",
    "\n",
    "3. What is the way to include backslash characters in a string?\n",
    "\n",
    "4. The string \"Howl's Moving Castle\" is a correct value. Why isn't the single quote character in the word Howl's not escaped a problem?\n",
    "\n",
    "5. How do you write a string of newlines if you don't want to use the n character?\n",
    "\n",
    "6. What are the values of the given expressions?\n",
    "    'Hello, world!'[1]\n",
    "    'Hello, world!'[0:5]\n",
    "    'Hello, world!'[:5]\n",
    "    'Hello, world!'[3:]\n",
    "\n",
    "7. What are the values of the following expressions?\n",
    "    'Hello'.upper()\n",
    "    'Hello'.upper().isupper()\n",
    "    'Hello'.upper().lower()\n",
    "\n",
    "8. What are the values of the following expressions?\n",
    "    'Remember, remember, the fifth of July.'.split()\n",
    "    '-'.join('There can only one.'.split())\n",
    "\n",
    "9. What are the methods for right-justifying, left-justifying, and centering a string?\n",
    "\n",
    "10. What is the best way to remove whitespace characters from the start or end?"
   ]
  },
  {
   "cell_type": "markdown",
   "id": "34360b7b",
   "metadata": {},
   "source": [
    "# ANSWERS:"
   ]
  },
  {
   "cell_type": "markdown",
   "id": "dbcec67d",
   "metadata": {},
   "source": [
    "    1). To insert characters that are illegal in a string, we use an escape character.\n",
    "\n",
    "    An escape character is a backslash \\ followed by the character you want to insert within the quotes.\n",
    "    \n",
    "    examples : \\n,\\t "
   ]
  },
  {
   "cell_type": "markdown",
   "id": "88d4eaa6",
   "metadata": {},
   "source": [
    "    2). \\n is a newline \n",
    "        \n",
    "        \\t is a tab."
   ]
  },
  {
   "cell_type": "markdown",
   "id": "735544c4",
   "metadata": {},
   "source": [
    "    3). \\\\ character is a backslash character in a string."
   ]
  },
  {
   "cell_type": "markdown",
   "id": "c685dd2e",
   "metadata": {},
   "source": [
    "    4).  Because howl's has a single quotes. At the beginning and ending we have used double quotes.\n",
    "    \n",
    "         so there will be no error."
   ]
  },
  {
   "cell_type": "markdown",
   "id": "b5aaafa2",
   "metadata": {},
   "source": [
    "    5). multiline strings will allow you to write newline strings.\n",
    "    \n",
    "        symbol of multiline strings is \"\"\"\"\"\"."
   ]
  },
  {
   "cell_type": "markdown",
   "id": "c131a3c7",
   "metadata": {},
   "source": [
    "    6). The output for the given silcing operations on hello world! are :\n",
    "    \n",
    "        'e'\n",
    "\n",
    "        'Hello'\n",
    "\n",
    "        'Hello'\n",
    "\n",
    "        'lo world!"
   ]
  },
  {
   "cell_type": "markdown",
   "id": "4414731a",
   "metadata": {},
   "source": [
    "    7). The value for the expressions given are :\n",
    "    \n",
    "        'HELLO'\n",
    "\n",
    "         True\n",
    "\n",
    "         'hello'"
   ]
  },
  {
   "cell_type": "markdown",
   "id": "6c135653",
   "metadata": {},
   "source": [
    "    8). The values for the expressions are : \n",
    "    \n",
    "        ['Remember,', 'remember,', 'the', 'fifth', 'of', 'November.']\n",
    "\n",
    "        'There-can-be-only-one.'"
   ]
  },
  {
   "cell_type": "markdown",
   "id": "2b10083b",
   "metadata": {},
   "source": [
    "    9). They are ljust() for left-justifying\n",
    "    \n",
    "        rjust() for right-justifying and\n",
    "        \n",
    "        center() for center in strings."
   ]
  },
  {
   "cell_type": "markdown",
   "id": "bc0fde72",
   "metadata": {},
   "source": [
    "    10). The rstrip() and lstrip() will be used to remove whitespaces from start or end."
   ]
  }
 ],
 "metadata": {
  "kernelspec": {
   "display_name": "Python 3 (ipykernel)",
   "language": "python",
   "name": "python3"
  },
  "language_info": {
   "codemirror_mode": {
    "name": "ipython",
    "version": 3
   },
   "file_extension": ".py",
   "mimetype": "text/x-python",
   "name": "python",
   "nbconvert_exporter": "python",
   "pygments_lexer": "ipython3",
   "version": "3.9.7"
  }
 },
 "nbformat": 4,
 "nbformat_minor": 5
}
