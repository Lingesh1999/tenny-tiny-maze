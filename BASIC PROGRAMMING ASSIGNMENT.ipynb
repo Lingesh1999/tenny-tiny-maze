{
 "cells": [
  {
   "cell_type": "markdown",
   "id": "06338a39",
   "metadata": {},
   "source": [
    "# QUESTIONS"
   ]
  },
  {
   "cell_type": "code",
   "execution_count": null,
   "id": "e037db98",
   "metadata": {},
   "outputs": [],
   "source": [
    "\n",
    "1.Write a Python program to print \"Hello Python\"?\n",
    "\n",
    "2.Write a Python program to do arithmetical operations addition and division.?\n",
    "\n",
    "3.Write a Python program to find the area of a triangle?\n",
    "\n",
    "4.Write a Python program to swap two variables?\n",
    "\n",
    "5.Write a Python program to generate a random number?\n"
   ]
  },
  {
   "cell_type": "markdown",
   "id": "c333d5ba",
   "metadata": {},
   "source": [
    "# ANSWERS"
   ]
  },
  {
   "cell_type": "code",
   "execution_count": 1,
   "id": "b5519750",
   "metadata": {},
   "outputs": [
    {
     "name": "stdout",
     "output_type": "stream",
     "text": [
      "Hello Python\n"
     ]
    }
   ],
   "source": [
    "# first question's answer\n",
    "\n",
    "print(\"Hello Python\")"
   ]
  },
  {
   "cell_type": "code",
   "execution_count": 2,
   "id": "f865b421",
   "metadata": {},
   "outputs": [
    {
     "name": "stdout",
     "output_type": "stream",
     "text": [
      "enter the first number : 4\n",
      "enter the second number : 4\n",
      "8.0\n",
      "1.0\n"
     ]
    }
   ],
   "source": [
    "# second question's answer\n",
    "\n",
    "# reason for using float instead of int is the user can give any input whole or decimal number.\n",
    "\n",
    "a = float(input(\"enter the first number : \"))\n",
    "\n",
    "b = float(input(\"enter the second number : \"))\n",
    "\n",
    "addition = a + b\n",
    "\n",
    "division = a / b\n",
    "\n",
    "print(addition)\n",
    "print(division)"
   ]
  },
  {
   "cell_type": "code",
   "execution_count": 7,
   "id": "86b02780",
   "metadata": {},
   "outputs": [
    {
     "name": "stdout",
     "output_type": "stream",
     "text": [
      "enter the length of first side : 10\n",
      "enter the length of second side : 11\n",
      "enter the length of third side : 12\n",
      "51.521233486786784\n"
     ]
    }
   ],
   "source": [
    "# third question's answer\n",
    "\n",
    "# we can find area of triangle using heron's formula\n",
    "\n",
    "a = float(input(\"enter the length of first side : \"))\n",
    "\n",
    "b = float(input(\"enter the length of second side : \"))\n",
    "\n",
    "c = float(input(\"enter the length of third side : \"))\n",
    "\n",
    "d = (a + b + c) / 2 # d is nothing but semi - perimeter\n",
    "\n",
    "area = (d*(d-a)*(d-b)*(d-c))**0.5  # this is heron's formula \n",
    "\n",
    "print(area)"
   ]
  },
  {
   "cell_type": "code",
   "execution_count": 9,
   "id": "7694eed4",
   "metadata": {},
   "outputs": [
    {
     "name": "stdout",
     "output_type": "stream",
     "text": [
      "enter the first number : 34.7\n",
      "enter the second number : 32.9\n",
      "32.9\n",
      "34.7\n"
     ]
    }
   ],
   "source": [
    "# fourth question's answer\n",
    "\n",
    "a = float(input(\"enter the first number : \"))\n",
    "\n",
    "b = float(input(\"enter the second number : \"))\n",
    "\n",
    "a = a - b\n",
    "\n",
    "b = a + b\n",
    "\n",
    "a = b - a\n",
    "\n",
    "print(a)\n",
    "print(b)"
   ]
  },
  {
   "cell_type": "code",
   "execution_count": 14,
   "id": "0c164bd6",
   "metadata": {},
   "outputs": [
    {
     "name": "stdout",
     "output_type": "stream",
     "text": [
      "enter the first range number : 0\n",
      "enter the second range number : 9\n",
      "8\n"
     ]
    }
   ],
   "source": [
    "# fifth question's answer\n",
    "\n",
    "import random # random is an inbuilt module used to get a random number\n",
    "\n",
    "a = float(input(\"enter the first range number : \"))\n",
    "\n",
    "b = float(input(\"enter the second range number : \"))\n",
    "\n",
    "c = random.randint(a, b) # randint is specifically used to get a single integer between given ranges.\n",
    "\n",
    "print(c)"
   ]
  }
 ],
 "metadata": {
  "kernelspec": {
   "display_name": "Python 3 (ipykernel)",
   "language": "python",
   "name": "python3"
  },
  "language_info": {
   "codemirror_mode": {
    "name": "ipython",
    "version": 3
   },
   "file_extension": ".py",
   "mimetype": "text/x-python",
   "name": "python",
   "nbconvert_exporter": "python",
   "pygments_lexer": "ipython3",
   "version": "3.9.7"
  }
 },
 "nbformat": 4,
 "nbformat_minor": 5
}
