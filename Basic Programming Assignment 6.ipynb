{
 "cells": [
  {
   "cell_type": "markdown",
   "id": "70dc43ee",
   "metadata": {},
   "source": [
    "# QUESTIONS:"
   ]
  },
  {
   "cell_type": "markdown",
   "id": "2c97b984",
   "metadata": {},
   "source": [
    "1. Write a Python Program to Display Fibonacci Sequence Using Recursion?\n",
    "\n",
    "2. Write a Python Program to Find Factorial of Number Using Recursion?\n",
    "\n",
    "3. Write a Python Program to calculate your Body Mass Index?\n",
    "\n",
    "4. Write a Python Program to calculate the natural logarithm of any number?\n",
    "\n",
    "5. Write a Python Program for cube sum of first n natural numbers?"
   ]
  },
  {
   "cell_type": "markdown",
   "id": "2de54789",
   "metadata": {},
   "source": [
    "# ANSWERS:"
   ]
  },
  {
   "cell_type": "code",
   "execution_count": 1,
   "id": "a4203345",
   "metadata": {},
   "outputs": [
    {
     "name": "stdout",
     "output_type": "stream",
     "text": [
      "enter the number to find fibonacci for : 5\n",
      "Fibonacci sequence:\n",
      "0\n",
      "1\n",
      "1\n",
      "2\n",
      "3\n"
     ]
    }
   ],
   "source": [
    "#1). display fibonacci sequence using recursion :\n",
    "\n",
    "def fibonacci(n):\n",
    "    if n <= 1:\n",
    "        return n\n",
    "    else:\n",
    "        return(fibonacci(n-1) + fibonacci(n-2))\n",
    "\n",
    "a = int(input(\"enter the number to find fibonacci for : \"))\n",
    "\n",
    "if a <= 0:\n",
    "    print(\"Plese enter a positive integer\")\n",
    "else:\n",
    "    print(\"Fibonacci sequence:\")\n",
    "    for i in range(a):\n",
    "        print(fibonacci(i))\n"
   ]
  },
  {
   "cell_type": "code",
   "execution_count": 2,
   "id": "cedca143",
   "metadata": {},
   "outputs": [
    {
     "name": "stdout",
     "output_type": "stream",
     "text": [
      "enter the number to which factorial needed : 5\n",
      "The factorial of 5 is 120\n"
     ]
    }
   ],
   "source": [
    "#2). find factorial of number using recursion:\n",
    "\n",
    "def factorial(n):\n",
    "    if n == 1:\n",
    "        return n\n",
    "    else:\n",
    "        return n * factorial(n-1)\n",
    "\n",
    "num = int(input(\"enter the number to which factorial needed : \"))\n",
    "\n",
    "if num < 0:\n",
    "    print(\"Sorry, factorial does not exist for negative numbers\")\n",
    "elif num == 0:\n",
    "    print(\"The factorial of 0 is 1\")\n",
    "else:\n",
    "    print(\"The factorial of\", num, \"is\", factorial(num))\n"
   ]
  },
  {
   "cell_type": "code",
   "execution_count": 3,
   "id": "f2005dc9",
   "metadata": {},
   "outputs": [
    {
     "name": "stdout",
     "output_type": "stream",
     "text": [
      "enter the height in cm : 180\n",
      "enter the weight in kg : 70\n",
      "The body mass index of the given input is 21.604938271604937.\n"
     ]
    }
   ],
   "source": [
    "#3). calculate body mass index:\n",
    "\n",
    "height = float(input(\"enter the height in cm : \"))\n",
    "weight = float(input(\"enter the weight in kg : \"))\n",
    "\n",
    "body_mass_index = weight/(height/100) ** 2\n",
    "\n",
    "print(f\"The body mass index of the given input is {body_mass_index}.\")"
   ]
  },
  {
   "cell_type": "code",
   "execution_count": 4,
   "id": "0fc88156",
   "metadata": {},
   "outputs": [
    {
     "name": "stdout",
     "output_type": "stream",
     "text": [
      "enter the number to be calculated for natural logarithm : 23\n",
      "3.1354942159291497\n"
     ]
    }
   ],
   "source": [
    "#4). calculate natural logarithm of any number :\n",
    "\n",
    "import numpy\n",
    "\n",
    "n = int(input(\"enter the number to be calculated for natural logarithm : \"))\n",
    "\n",
    "print(numpy.log(n))"
   ]
  },
  {
   "cell_type": "code",
   "execution_count": 6,
   "id": "1f08020d",
   "metadata": {},
   "outputs": [
    {
     "name": "stdout",
     "output_type": "stream",
     "text": [
      "enter the number to which the cube sum of all numbers to be calculated : 2\n"
     ]
    },
    {
     "data": {
      "text/plain": [
       "9"
      ]
     },
     "execution_count": 6,
     "metadata": {},
     "output_type": "execute_result"
    }
   ],
   "source": [
    "#5). cube sum of first n natural numbers:\n",
    "\n",
    "def sum_of_first_n_natural_numbers():\n",
    "    \n",
    "    sum = 0\n",
    "    \n",
    "    n = int(input(\"enter the number to which the cube sum of all numbers to be calculated : \"))\n",
    "    \n",
    "    for i in range(1 , n+1):\n",
    "        sum = sum + (i*i*i)\n",
    "    return sum\n",
    "\n",
    "\n",
    "sum_of_first_n_natural_numbers()"
   ]
  }
 ],
 "metadata": {
  "kernelspec": {
   "display_name": "Python 3 (ipykernel)",
   "language": "python",
   "name": "python3"
  },
  "language_info": {
   "codemirror_mode": {
    "name": "ipython",
    "version": 3
   },
   "file_extension": ".py",
   "mimetype": "text/x-python",
   "name": "python",
   "nbconvert_exporter": "python",
   "pygments_lexer": "ipython3",
   "version": "3.9.7"
  }
 },
 "nbformat": 4,
 "nbformat_minor": 5
}
