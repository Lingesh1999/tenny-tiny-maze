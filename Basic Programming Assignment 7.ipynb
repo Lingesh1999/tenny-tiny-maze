{
 "cells": [
  {
   "cell_type": "markdown",
   "id": "57d68361",
   "metadata": {},
   "source": [
    "# QUESTIONS:"
   ]
  },
  {
   "cell_type": "markdown",
   "id": "3782cd68",
   "metadata": {},
   "source": [
    "1. Write a Python Program to find sum of array?\n",
    "\n",
    "2. Write a Python Program to find largest element in an array?\n",
    "\n",
    "3. Write a Python Program for array rotation?\n",
    "\n",
    "4. Write a Python Program to Split the array and add the first part to the end?\n",
    "\n",
    "5. Write a Python Program to check if given array is Monotonic?"
   ]
  },
  {
   "cell_type": "markdown",
   "id": "2c343ac8",
   "metadata": {},
   "source": [
    "# ANSWERS:"
   ]
  },
  {
   "cell_type": "code",
   "execution_count": 3,
   "id": "3798b045",
   "metadata": {},
   "outputs": [
    {
     "name": "stdout",
     "output_type": "stream",
     "text": [
      "Enter number of elements : 5\n",
      "12\n",
      "23\n",
      "34\n",
      "45\n",
      "56\n",
      "Sum of all elements in a array is 170\n"
     ]
    }
   ],
   "source": [
    "#1). find sum of array :\n",
    "\n",
    "a = []\n",
    "\n",
    "n = int(input(\"Enter number of elements : \"))\n",
    "\n",
    "for i in range(0, n):\n",
    "    b = int(input())\n",
    "\n",
    "    a.append(b)\n",
    "\n",
    "sum = 0\n",
    "\n",
    "for i in range(0, len(a)):\n",
    "    sum = sum + a[i]\n",
    "    \n",
    "print(f\"Sum of all elements in a array is {sum}\")"
   ]
  },
  {
   "cell_type": "code",
   "execution_count": 4,
   "id": "17679298",
   "metadata": {},
   "outputs": [
    {
     "name": "stdout",
     "output_type": "stream",
     "text": [
      "Enter number of elements : 3\n",
      "45\n",
      "56\n",
      "32\n",
      "The largest element in the array is 56\n"
     ]
    }
   ],
   "source": [
    "#2). find largest element in an array :\n",
    "\n",
    "a = []\n",
    "\n",
    "n = int(input(\"Enter number of elements : \"))\n",
    "\n",
    "for i in range(0, n):\n",
    "    b = int(input())\n",
    "\n",
    "    a.append(b)\n",
    "    \n",
    "max_array = 0\n",
    "\n",
    "for i in range(0, len(a)):\n",
    "    if max_array < a[i]:\n",
    "        max_array = a[i]\n",
    "\n",
    "print(f\"The largest element in the array is {max_array}\")"
   ]
  },
  {
   "cell_type": "code",
   "execution_count": 5,
   "id": "60d18fa9",
   "metadata": {},
   "outputs": [
    {
     "name": "stdout",
     "output_type": "stream",
     "text": [
      "Array after left rotation is:  [3, 4, 5, 6, 7, 1, 2]\n"
     ]
    }
   ],
   "source": [
    "#3). array rotation:\n",
    "\n",
    "def rotateArray(arr, n, d):\n",
    "    temp = []\n",
    "    i = 0\n",
    "    while (i < d):\n",
    "        temp.append(arr[i])\n",
    "        i = i + 1\n",
    "    i = 0\n",
    "    while (d < n):\n",
    "        arr[i] = arr[d]\n",
    "        i = i + 1\n",
    "        d = d + 1\n",
    "    arr[:] = arr[: i] + temp\n",
    "    return arr\n",
    "\n",
    "arr = [1, 2, 3, 4, 5, 6, 7]\n",
    "print(\"Array after left rotation is: \", end=' ')\n",
    "print(rotateArray(arr, len(arr), 2))"
   ]
  },
  {
   "cell_type": "code",
   "execution_count": 6,
   "id": "1fad13d5",
   "metadata": {},
   "outputs": [
    {
     "name": "stdout",
     "output_type": "stream",
     "text": [
      "23 54 12 56 2 10 "
     ]
    }
   ],
   "source": [
    "#4). split the array and add first part to the end :\n",
    "\n",
    "def splitArr(a, n, k):\n",
    "    b = a[:k]\n",
    "    return (a[k::]+b[::])\n",
    "\n",
    "arr = [2, 10, 23, 54, 12, 56]\n",
    "\n",
    "n = len(arr)\n",
    "position = 2\n",
    "arr = splitArr(arr, n, position)\n",
    "for i in range(0, n):\n",
    "    print(arr[i], end = ' ')"
   ]
  },
  {
   "cell_type": "code",
   "execution_count": 14,
   "id": "4f97e85f",
   "metadata": {},
   "outputs": [
    {
     "name": "stdout",
     "output_type": "stream",
     "text": [
      "Enter number of elements : 3\n",
      "2\n",
      "3\n",
      "3\n",
      "True\n"
     ]
    }
   ],
   "source": [
    "#5). to check if given array is monotonic : \n",
    "\n",
    "def isMonotonic(a):\n",
    "\n",
    "    return (all(a[i] <= a[i + 1] for i in range(len(a) - 1)) or\n",
    "           all(a[i] >= a[i + 1] for i in range(len(a) - 1)))\n",
    "\n",
    "\n",
    "a = []\n",
    "\n",
    "n = int(input(\"Enter number of elements : \"))\n",
    "\n",
    "for i in range(0, n):\n",
    "    b = int(input())\n",
    "\n",
    "    a.append(b)\n",
    "\n",
    "print(isMonotonic(a))"
   ]
  }
 ],
 "metadata": {
  "kernelspec": {
   "display_name": "Python 3 (ipykernel)",
   "language": "python",
   "name": "python3"
  },
  "language_info": {
   "codemirror_mode": {
    "name": "ipython",
    "version": 3
   },
   "file_extension": ".py",
   "mimetype": "text/x-python",
   "name": "python",
   "nbconvert_exporter": "python",
   "pygments_lexer": "ipython3",
   "version": "3.9.7"
  }
 },
 "nbformat": 4,
 "nbformat_minor": 5
}
