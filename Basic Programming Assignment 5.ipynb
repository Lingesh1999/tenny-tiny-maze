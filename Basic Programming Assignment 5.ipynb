{
 "cells": [
  {
   "cell_type": "markdown",
   "id": "ac28e173",
   "metadata": {},
   "source": [
    "# QUESTIONS:"
   ]
  },
  {
   "cell_type": "markdown",
   "id": "b3e2f4f9",
   "metadata": {},
   "source": [
    "1. Write a Python Program to Find LCM?\n",
    "\n",
    "2. Write a Python Program to Find HCF?\n",
    "\n",
    "3. Write a Python Program to Convert Decimal to Binary, Octal and Hexadecimal?\n",
    "\n",
    "4. Write a Python Program To Find ASCII value of a character?\n",
    "\n",
    "5. Write a Python Program to Make a Simple Calculator with 4 basic mathematical operations?"
   ]
  },
  {
   "cell_type": "markdown",
   "id": "f266a6ad",
   "metadata": {},
   "source": [
    "# ANSWERS:"
   ]
  },
  {
   "cell_type": "code",
   "execution_count": 1,
   "id": "7181337a",
   "metadata": {},
   "outputs": [
    {
     "name": "stdout",
     "output_type": "stream",
     "text": [
      "enter the number1 : 12\n",
      "enter the number2 : 24\n",
      "The L.C.M. is 24\n"
     ]
    }
   ],
   "source": [
    "# 1). program to find LCM:\n",
    "\n",
    "def lcm(x, y):\n",
    "\n",
    "    if x > y:\n",
    "        greater = x\n",
    "    else:\n",
    "        greater = y\n",
    "\n",
    "    while(True):\n",
    "        if((greater % x == 0) and (greater % y == 0)):\n",
    "            a = greater\n",
    "            break\n",
    "        greater += 1\n",
    "\n",
    "    return a\n",
    "\n",
    "num1 = int(input(\"enter the number1 : \"))\n",
    "num2 = int(input(\"enter the number2 : \"))\n",
    "\n",
    "print(\"The L.C.M. is\", lcm(num1, num2))"
   ]
  },
  {
   "cell_type": "code",
   "execution_count": 2,
   "id": "40b20d64",
   "metadata": {},
   "outputs": [
    {
     "name": "stdout",
     "output_type": "stream",
     "text": [
      "enter the number1 : 23\n",
      "enter the number2 : 46\n",
      "The H.C.F. is 23\n"
     ]
    }
   ],
   "source": [
    "# 2). program to find HCF:\n",
    "\n",
    "def hcf(x, y):\n",
    "\n",
    "    if x > y:\n",
    "        smaller = y\n",
    "    else:\n",
    "        smaller = x\n",
    "        \n",
    "    for i in range(1, smaller+1):\n",
    "        if((x % i == 0) and (y % i == 0)):\n",
    "             b= i \n",
    "    return b\n",
    "\n",
    "num1 = int(input(\"enter the number1 : \"))\n",
    "num2 = int(input(\"enter the number2 : \"))\n",
    "\n",
    "print(\"The H.C.F. is\", hcf(num1, num2))\n"
   ]
  },
  {
   "cell_type": "code",
   "execution_count": 3,
   "id": "b6884f53",
   "metadata": {},
   "outputs": [
    {
     "name": "stdout",
     "output_type": "stream",
     "text": [
      "enter the decimal number to be converted : 56\n",
      "0b111000 --> binary.\n",
      "0o70 --> octal.\n",
      "0x38 --> hexadecimal.\n"
     ]
    }
   ],
   "source": [
    "#3). program to convert decimal to binary,octal,hexadecimal : \n",
    "\n",
    "def decimal_conversion():\n",
    "    \n",
    "    n = int(input(\"enter the decimal number to be converted : \"))\n",
    "    \n",
    "    print(bin(n), \"--> binary.\")\n",
    "    print(oct(n), \"--> octal.\")\n",
    "    print(hex(n), \"--> hexadecimal.\")\n",
    "\n",
    "    \n",
    "decimal_conversion()"
   ]
  },
  {
   "cell_type": "code",
   "execution_count": 4,
   "id": "44567653",
   "metadata": {},
   "outputs": [
    {
     "name": "stdout",
     "output_type": "stream",
     "text": [
      "Enter the character to know the ASCII value : y\n",
      "The ASCII value of the character y is 121\n"
     ]
    }
   ],
   "source": [
    "#4). program to find ASCII value of a character : \n",
    "\n",
    "def ASCII():\n",
    "    \n",
    "    s = input(\"Enter the character to know the ASCII value : \")\n",
    "    d = ord(s)\n",
    "    print(f\"The ASCII value of the character {s} is {d}\")\n",
    "    \n",
    "    \n",
    "ASCII()"
   ]
  },
  {
   "cell_type": "code",
   "execution_count": 5,
   "id": "604d9086",
   "metadata": {},
   "outputs": [
    {
     "name": "stdout",
     "output_type": "stream",
     "text": [
      "Select operation.\n",
      "1.Add\n",
      "2.Subtract\n",
      "3.Multiply\n",
      "4.Divide\n",
      "Enter choice(1/2/3/4): 3\n",
      "Enter first number: 3\n",
      "Enter second number: 5\n",
      "3.0 * 5.0 = 15.0\n",
      "Let's do next calculation? (yes/no): no\n"
     ]
    }
   ],
   "source": [
    "#5) . program to make simple calculator :\n",
    "\n",
    "def add(x, y):\n",
    "    return x + y\n",
    "\n",
    "def subtract(x, y):\n",
    "    return x - y\n",
    "\n",
    "def multiply(x, y):\n",
    "    return x * y\n",
    "\n",
    "def divide(x, y):\n",
    "    return x / y\n",
    "\n",
    "\n",
    "print(\"Select operation.\")\n",
    "print(\"1.Add\")\n",
    "print(\"2.Subtract\")\n",
    "print(\"3.Multiply\")\n",
    "print(\"4.Divide\")\n",
    "\n",
    "while True:\n",
    "    \n",
    "    choice = input(\"Enter choice(1/2/3/4): \")\n",
    "\n",
    "    if choice in ('1', '2', '3', '4'):\n",
    "        \n",
    "        num1 = float(input(\"Enter first number: \"))\n",
    "        num2 = float(input(\"Enter second number: \"))\n",
    "\n",
    "        if choice == '1':\n",
    "            print(num1, \"+\", num2, \"=\", add(num1, num2))\n",
    "\n",
    "        elif choice == '2':\n",
    "            print(num1, \"-\", num2, \"=\", subtract(num1, num2))\n",
    "\n",
    "        elif choice == '3':\n",
    "            print(num1, \"*\", num2, \"=\", multiply(num1, num2))\n",
    "\n",
    "        elif choice == '4':\n",
    "            print(num1, \"/\", num2, \"=\", divide(num1, num2))\n",
    "\n",
    "        next_calculation = input(\"Let's do next calculation? (yes/no): \")\n",
    "        if next_calculation == \"no\":\n",
    "            break\n",
    "    \n",
    "    else:\n",
    "        print(\"Invalid Input\")"
   ]
  }
 ],
 "metadata": {
  "kernelspec": {
   "display_name": "Python 3 (ipykernel)",
   "language": "python",
   "name": "python3"
  },
  "language_info": {
   "codemirror_mode": {
    "name": "ipython",
    "version": 3
   },
   "file_extension": ".py",
   "mimetype": "text/x-python",
   "name": "python",
   "nbconvert_exporter": "python",
   "pygments_lexer": "ipython3",
   "version": "3.9.7"
  }
 },
 "nbformat": 4,
 "nbformat_minor": 5
}
