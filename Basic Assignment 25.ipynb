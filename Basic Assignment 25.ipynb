{
 "cells": [
  {
   "cell_type": "markdown",
   "id": "84346054",
   "metadata": {},
   "source": [
    "# QUESTIONS:"
   ]
  },
  {
   "cell_type": "markdown",
   "id": "8c132839",
   "metadata": {},
   "source": [
    "1) . What is the difference between enclosing a list comprehension in square brackets and parentheses?\n",
    "\n",
    "2) What is the relationship between generators and iterators?\n",
    "\n",
    "3) What are the signs that a function is a generator function?\n",
    "\n",
    "4) What is the purpose of a yield statement?\n",
    "\n",
    "5) What is the relationship between map calls and list comprehensions? Make a comparison and contrast between the two."
   ]
  },
  {
   "cell_type": "markdown",
   "id": "df357a8a",
   "metadata": {},
   "source": [
    "# ANSWERS:"
   ]
  },
  {
   "cell_type": "markdown",
   "id": "3f84fd37",
   "metadata": {},
   "source": [
    "    1). the list comprehension enclosed in square brackets is a list comprehension eg.[i for i in x]\n",
    "    \n",
    "    whereas the list comprehension enclosed in parenthesis is a tuple generator eg. (i for i in x)\n",
    "    \n",
    "    the main point is tuple are not mutable whereas list are mutable."
   ]
  },
  {
   "cell_type": "markdown",
   "id": "2c9e5e23",
   "metadata": {},
   "source": [
    "    2). Generator  easily creates iterator . Generator is a function that generates a sequence of results instead of a \n",
    "    \n",
    "    single value. When yield statement is executed the function generates a next value in a list. Generator is also an \n",
    "    \n",
    "    iterator."
   ]
  },
  {
   "cell_type": "markdown",
   "id": "e5e4d013",
   "metadata": {},
   "source": [
    "    3). The function which has yield statement that is a generator function."
   ]
  },
  {
   "cell_type": "markdown",
   "id": "789aae47",
   "metadata": {},
   "source": [
    "    4). A yield statement looks much like a return statement, except that instead of stopping execution of the function and returning,yield instead provides a value to the code looping over the generator and pauses execution of the generator function.\n"
   ]
  },
  {
   "cell_type": "markdown",
   "id": "c47ec9e3",
   "metadata": {},
   "source": [
    "    5). List comprehension are used when a list of results is required as map only returns a map object and does not return any list. \n",
    "\n",
    "    List comprehension is faster than map when we need to evaluate expressions that are too long or complicated to  \n",
    "    express.\n",
    "    \n",
    "    Map is faster in case of calling an already defined function."
   ]
  }
 ],
 "metadata": {
  "kernelspec": {
   "display_name": "Python 3 (ipykernel)",
   "language": "python",
   "name": "python3"
  },
  "language_info": {
   "codemirror_mode": {
    "name": "ipython",
    "version": 3
   },
   "file_extension": ".py",
   "mimetype": "text/x-python",
   "name": "python",
   "nbconvert_exporter": "python",
   "pygments_lexer": "ipython3",
   "version": "3.9.7"
  }
 },
 "nbformat": 4,
 "nbformat_minor": 5
}
