{
 "cells": [
  {
   "cell_type": "markdown",
   "id": "9064687d",
   "metadata": {},
   "source": [
    "# QUESTIONS:"
   ]
  },
  {
   "cell_type": "markdown",
   "id": "b89b2755",
   "metadata": {},
   "source": [
    "1. What advantages do Excel spreadsheets have over CSV spreadsheets?\n",
    "\n",
    "2. What do you pass to csv.reader() and csv.writer() to create reader and writer objects?\n",
    "\n",
    "3. What modes do File objects for reader and writer objects need to be opened in?\n",
    "\n",
    "4. What method takes a list argument and writes it to a CSV file?\n",
    "\n",
    "5. What do the keyword arguments delimiter and line terminator do?\n",
    "\n",
    "6. What function takes a string of JSON data and returns a Python data structure?\n",
    "\n",
    "7. What function takes a Python data structure and returns a string of JSON data?"
   ]
  },
  {
   "cell_type": "markdown",
   "id": "015aa11e",
   "metadata": {},
   "source": [
    "# ANSWERS:"
   ]
  },
  {
   "cell_type": "markdown",
   "id": "b6fb41f2",
   "metadata": {},
   "source": [
    "    1). In Excel, spreadsheets can have values of data types other than strings,\n",
    "    \n",
    "        cells can have different fonts, sizes,\n",
    "        \n",
    "        cells can have varying widths and heights,\n",
    "        \n",
    "        adjacent cells can be merged  and you can embed images and charts.    "
   ]
  },
  {
   "cell_type": "markdown",
   "id": "154a3314",
   "metadata": {},
   "source": [
    "    2). You pass a File object, obtained from a call to open()."
   ]
  },
  {
   "cell_type": "markdown",
   "id": "afb8333a",
   "metadata": {},
   "source": [
    "    3). For reader the file objects need to be opened in --> read-binary('rb') mode.\n",
    "    \n",
    "        For writer the file objects need to be opened in --> write-binary('wb') mode."
   ]
  },
  {
   "cell_type": "markdown",
   "id": "726de054",
   "metadata": {},
   "source": [
    "    4). writerow() method takes a list argument and writes it into a csv file."
   ]
  },
  {
   "cell_type": "markdown",
   "id": "06e2194e",
   "metadata": {},
   "source": [
    "    5). The delimiter argument changes the string used to separate cells in a row. \n",
    "    \n",
    "        The lineterminator argument changes the string used to separate rows."
   ]
  },
  {
   "cell_type": "markdown",
   "id": "7d11231d",
   "metadata": {},
   "source": [
    "    6). json.loads()"
   ]
  },
  {
   "cell_type": "markdown",
   "id": "f5d08c8f",
   "metadata": {},
   "source": [
    "    7). json.dumps() "
   ]
  }
 ],
 "metadata": {
  "kernelspec": {
   "display_name": "Python 3 (ipykernel)",
   "language": "python",
   "name": "python3"
  },
  "language_info": {
   "codemirror_mode": {
    "name": "ipython",
    "version": 3
   },
   "file_extension": ".py",
   "mimetype": "text/x-python",
   "name": "python",
   "nbconvert_exporter": "python",
   "pygments_lexer": "ipython3",
   "version": "3.9.7"
  }
 },
 "nbformat": 4,
 "nbformat_minor": 5
}
