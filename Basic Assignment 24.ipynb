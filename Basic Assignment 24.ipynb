{
 "cells": [
  {
   "cell_type": "markdown",
   "id": "856f6c3b",
   "metadata": {},
   "source": [
    "# QUESTIONS:"
   ]
  },
  {
   "cell_type": "markdown",
   "id": "d18d1077",
   "metadata": {},
   "source": [
    "1. What is the relationship between def statements and lambda expressions ?\n",
    "\n",
    "2. What is the benefit of lambda?\n",
    "\n",
    "3. Compare and contrast map, filter, and reduce.\n",
    "\n",
    "4. What are function annotations, and how are they used?\n",
    "\n",
    "5. What are recursive functions, and how are they used?\n",
    "\n",
    "6. What are some general design guidelines for coding functions?\n",
    "\n",
    "7. Name three or more ways that functions can communicate results to a caller."
   ]
  },
  {
   "cell_type": "markdown",
   "id": "5a228c49",
   "metadata": {},
   "source": [
    "# ANSWERS:"
   ]
  },
  {
   "cell_type": "markdown",
   "id": "1620169e",
   "metadata": {},
   "source": [
    "    1). The relationship between def statements and lambda expressions is both create same kind of function.\n",
    "    \n",
    "        But the difference is lambda is an expression producing function , \n",
    "        \n",
    "        whereas def is statement producing function."
   ]
  },
  {
   "cell_type": "markdown",
   "id": "5109c75e",
   "metadata": {},
   "source": [
    "    2). i) first and foremost benefit of using lambda is reduction of code.\n",
    "    \n",
    "        ii) while using lambda function there is no need of additional variables."
   ]
  },
  {
   "cell_type": "markdown",
   "id": "2a93e734",
   "metadata": {},
   "source": [
    "    3). \n",
    "    \n",
    "    i) The map() function iterates through all items in the given iterable and\n",
    "       \n",
    "       executes the function we passed as an argument on each of them. The map() function\n",
    "       \n",
    "       returns map_object type.\n",
    "       \n",
    "     ii) The filter() takes a function object and an iterable and creates a new list.\n",
    "     \n",
    "     filter() forms a new list that contains only elements that satisfy a certain condition, i.e. the function we \n",
    "     \n",
    "     passed returns True.\n",
    "     \n",
    "     iii) reduce() does not return a new list based on the function and iterable we've passed. Instead  it returns a \n",
    "     \n",
    "     single value. reduce() works by calling the function we passed for the first two items in the sequence. The \n",
    "     \n",
    "     result returned by the function is used in another call to function alongside with the next (third in this case), \n",
    "     \n",
    "     element.This process repeats until we've gone through all the elements in the sequence."
   ]
  },
  {
   "cell_type": "markdown",
   "id": "dd678610",
   "metadata": {},
   "source": [
    "    4). Function annotations are arbitrary python expressions that are associated with various part of functions. \n",
    "    \n",
    "    These expressions are evaluated at compile time and have no life in python’s runtime environment. Python does not \n",
    "    \n",
    "    attach any meaning to these annotations. The primary purpose was to have a standard way to link metadata to \n",
    "    \n",
    "    function parameters and return value."
   ]
  },
  {
   "cell_type": "markdown",
   "id": "e805df80",
   "metadata": {},
   "source": [
    "    5). Recursion  means that a function calls itself. This has \n",
    "    \n",
    "        the benefit of meaning that you can loop through data to reach a result. \n",
    "        \n",
    "        def a_recursion():\n",
    "              k = int(input(\"enter the number until to be recursived  : ))\n",
    "              if(k>0):\n",
    "                result = k+a_recursion(k-1)\n",
    "                print(result)\n",
    "              else:\n",
    "                result = 0\n",
    "              return result\n",
    "              \n",
    "              \n",
    "        a_recursion()"
   ]
  },
  {
   "cell_type": "markdown",
   "id": "7b877b8b",
   "metadata": {},
   "source": [
    "    6). Use 4-space indentation and no tabs.\n",
    "        2. Use docstrings\n",
    "        3. Wrap linethat they don’t exceed 79 characters\n",
    "        4. Use of regular and updated comments are valuable to both the coders and users\n",
    "        5. Use of trailing commas : in case of tuple -> ('good',)\n",
    "        6. Use Python’s default UTF-8 or ASCII encodings and not any fancy encodings\n",
    "        7. Naming Conventions"
   ]
  },
  {
   "cell_type": "markdown",
   "id": "3f331fb6",
   "metadata": {},
   "source": [
    "    7). 1. Function can return single value\n",
    "        2. Can return multiple values, tuple\n",
    "        3. can return list,dictionary\n",
    "        4. can return function object\n",
    "        5. can return class object"
   ]
  }
 ],
 "metadata": {
  "kernelspec": {
   "display_name": "Python 3 (ipykernel)",
   "language": "python",
   "name": "python3"
  },
  "language_info": {
   "codemirror_mode": {
    "name": "ipython",
    "version": 3
   },
   "file_extension": ".py",
   "mimetype": "text/x-python",
   "name": "python",
   "nbconvert_exporter": "python",
   "pygments_lexer": "ipython3",
   "version": "3.9.7"
  }
 },
 "nbformat": 4,
 "nbformat_minor": 5
}
