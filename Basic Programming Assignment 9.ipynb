{
 "cells": [
  {
   "cell_type": "markdown",
   "id": "b0984cee",
   "metadata": {},
   "source": [
    "# QUESTIONS:"
   ]
  },
  {
   "cell_type": "markdown",
   "id": "32bddd4b",
   "metadata": {},
   "source": [
    "1. Write a Python program to check if the given number is a Disarium Number?\n",
    "\n",
    "2. Write a Python program to print all disarium numbers between 1 to 100?\n",
    "\n",
    "3. Write a Python program to check if the given number is Happy Number?\n",
    "\n",
    "4. Write a Python program to print all happy numbers between 1 and 100?\n",
    "\n",
    "5. Write a Python program to determine whether the given number is a Harshad Number?\n",
    "\n",
    "6. Write a Python program to print all pronic numbers between 1 and 100?"
   ]
  },
  {
   "cell_type": "markdown",
   "id": "2a661154",
   "metadata": {},
   "source": [
    "# ANSWERS:"
   ]
  },
  {
   "cell_type": "code",
   "execution_count": 1,
   "id": "6bdb24ba",
   "metadata": {},
   "outputs": [
    {
     "name": "stdout",
     "output_type": "stream",
     "text": [
      "enter the number to check whether the number is disarium : 175\n",
      "175 is a disarium number.\n"
     ]
    }
   ],
   "source": [
    "#1). program to check given number is disarium number : \n",
    "\n",
    "import math\n",
    "\n",
    "def disarium():\n",
    "    \n",
    "    n = int(input(\"enter the number to check whether the number is disarium : \"))\n",
    "    count_digits = len(str(n))\n",
    "    sum = 0\n",
    "    x = n\n",
    "    while(x!=0):\n",
    "        r = x % 10\n",
    "        sum = (int)(sum + math.pow(r, count_digits))\n",
    "        count_digits = count_digits - 1\n",
    "        x = x // 10\n",
    "        \n",
    "    if sum == n:\n",
    "        print(f\"{n} is a disarium number.\")\n",
    "    else:\n",
    "        print(f\"{n} is not a disarium number.\")\n",
    "        \n",
    "        \n",
    "disarium()"
   ]
  },
  {
   "cell_type": "code",
   "execution_count": 2,
   "id": "3c66827d",
   "metadata": {},
   "outputs": [
    {
     "name": "stdout",
     "output_type": "stream",
     "text": [
      "Disarium numbers between 1 and 100 are\n",
      "1\n",
      "2\n",
      "3\n",
      "4\n",
      "5\n",
      "6\n",
      "7\n",
      "8\n",
      "9\n",
      "89\n"
     ]
    }
   ],
   "source": [
    "#2). program to print all disarium numbers between 1 to 100:\n",
    "\n",
    "def Length(n):    \n",
    "    length = 0;    \n",
    "    while(n != 0):                    \n",
    "        length = length + 1;    \n",
    "        n = n//10;    \n",
    "    return length;  \n",
    "\n",
    "       \n",
    "def sumdigit(num):    \n",
    "    rem = sum = 0;    \n",
    "    len = Length(num);  \n",
    "        \n",
    "    while(num > 0):    \n",
    "        rem = num%10;   \n",
    "        sum = sum + (rem**len);    \n",
    "        num = num//10;    \n",
    "        len = len - 1;    \n",
    "    return sum;    \n",
    "      \n",
    "result = 0;    \n",
    "     \n",
    "\n",
    "print(\"Disarium numbers between 1 and 100 are\");    \n",
    "for i in range(1, 101):      \n",
    "    result = sumdigit(i);    \n",
    "        \n",
    "    if(result == i):    \n",
    "        print(i),   "
   ]
  },
  {
   "cell_type": "code",
   "execution_count": 4,
   "id": "21c09fde",
   "metadata": {},
   "outputs": [
    {
     "name": "stdout",
     "output_type": "stream",
     "text": [
      "True\n"
     ]
    }
   ],
   "source": [
    "#3). program to check if the given number is happy number :\n",
    "\n",
    "def is_Happy_num(n):\n",
    "    past = set()\n",
    "    while n != 1:\n",
    "        n = sum(int(i)**2 for i in str(n))\n",
    "        if n in past:\n",
    "            return False\n",
    "        past.add(n)\n",
    "    return True\n",
    "\n",
    "\n",
    "print(is_Happy_num(19))"
   ]
  },
  {
   "cell_type": "code",
   "execution_count": 5,
   "id": "abbcd1dc",
   "metadata": {},
   "outputs": [
    {
     "name": "stdout",
     "output_type": "stream",
     "text": [
      "Enter a range:\n",
      "1\n",
      "100\n",
      "Happy numbers between  1  and  100  are: \n",
      "1 7 10 13 19 23 28 31 32 44 49 68 70 79 82 86 91 94 97 100 "
     ]
    }
   ],
   "source": [
    "#4). program to print all happy numbers between 1 and 100:\n",
    "\n",
    "print(\"Enter a range:\")\n",
    "range1=int(input())\n",
    "range2=int(input())\n",
    "print(\"Happy numbers between \",range1,\" and \",range2,\" are: \")\n",
    "for i in range(range1,range2+1):\n",
    "    num=i\n",
    "    sum=0\n",
    "    while sum != 1 and sum != 4:\n",
    "        sum = 0\n",
    "        while num != 0:\n",
    "            rem = num % 10\n",
    "            sum += (rem * rem)\n",
    "            num //= 10\n",
    "        num = sum\n",
    "\n",
    "    if sum == 1:\n",
    "        print(i,end=\" \")"
   ]
  },
  {
   "cell_type": "code",
   "execution_count": 7,
   "id": "9e5937d9",
   "metadata": {},
   "outputs": [
    {
     "name": "stdout",
     "output_type": "stream",
     "text": [
      "Enter a number: 156\n",
      "156 is a Harshad Number.\n"
     ]
    }
   ],
   "source": [
    "#5). program to determine whether the given number is a harshad number:\n",
    "\n",
    "num = int(input(\"Enter a number: \"))    \n",
    "digit = sum = 0\n",
    "temp = num   \n",
    "         \n",
    "while(temp > 0):    \n",
    "    digit = temp % 10\n",
    "    sum = sum + digit    \n",
    "    temp = temp // 10    \n",
    "         \n",
    "if num % sum == 0:    \n",
    "    print(num, \"is a Harshad Number.\")    \n",
    "else:    \n",
    "    print(num, \"is not a Harshad Number.\")"
   ]
  },
  {
   "cell_type": "code",
   "execution_count": 8,
   "id": "be07904b",
   "metadata": {},
   "outputs": [
    {
     "name": "stdout",
     "output_type": "stream",
     "text": [
      "Enter a range:\n",
      "1\n",
      "100\n",
      "Pronic numbers between  1  and  100  are: \n",
      "2 6 12 20 30 42 56 72 90 "
     ]
    }
   ],
   "source": [
    "#6). program to print all pronic numbers between 1 and 100:\n",
    "\n",
    "import math\n",
    "print(\"Enter a range:\")\n",
    "range1=int(input())\n",
    "range2=int(input())\n",
    "print(\"Pronic numbers between \",range1,\" and \",range2,\" are: \")\n",
    "for i in range(range1,range2+1):\n",
    "    flag = 0\n",
    "    for j in range(0, i + 1):\n",
    "        if j * (j + 1) == i:\n",
    "            flag = 1\n",
    "            break\n",
    "    if flag == 1:\n",
    "        print(i,end=\" \")"
   ]
  }
 ],
 "metadata": {
  "kernelspec": {
   "display_name": "Python 3 (ipykernel)",
   "language": "python",
   "name": "python3"
  },
  "language_info": {
   "codemirror_mode": {
    "name": "ipython",
    "version": 3
   },
   "file_extension": ".py",
   "mimetype": "text/x-python",
   "name": "python",
   "nbconvert_exporter": "python",
   "pygments_lexer": "ipython3",
   "version": "3.9.7"
  }
 },
 "nbformat": 4,
 "nbformat_minor": 5
}
