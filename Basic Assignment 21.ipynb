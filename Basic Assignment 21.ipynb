{
 "cells": [
  {
   "cell_type": "markdown",
   "id": "fc375b40",
   "metadata": {},
   "source": [
    "# QUESTIONS:"
   ]
  },
  {
   "cell_type": "markdown",
   "id": "dbc16111",
   "metadata": {},
   "source": [
    "1. Add the current date to the text file today.txt as a string.\n",
    "\n",
    "2. Read the text file today.txt into the string today_string\n",
    "\n",
    "3. Parse the date from today_string.\n",
    "\n",
    "4. List the files in your current directory\n",
    "\n",
    "5. Create a list of all of the files in your parent directory (minimum five files should be available).\n",
    "\n",
    "6. Use multiprocessing to create three separate processes. Make each one wait a random number of seconds between one and five, print the current time, and then exit.\n",
    "\n",
    "7. Create a date object of your day of birth.\n",
    "\n",
    "8. What day of the week was your day of birth?\n",
    "\n",
    "9. When will you be (or when were you) 10,000 days old?"
   ]
  },
  {
   "cell_type": "markdown",
   "id": "af841f91",
   "metadata": {},
   "source": [
    "# ANSWERS:"
   ]
  },
  {
   "cell_type": "code",
   "execution_count": 4,
   "id": "999f75f0",
   "metadata": {},
   "outputs": [],
   "source": [
    "#1).\n",
    "\n",
    "from datetime import date\n",
    "\n",
    "sa = date.today()\n",
    "\n",
    "da = sa.isoformat()\n",
    "\n",
    "with open(\"today.txt\", \"w\") as f:\n",
    "    f.write(da)"
   ]
  },
  {
   "cell_type": "code",
   "execution_count": 6,
   "id": "59e8dfc3",
   "metadata": {},
   "outputs": [
    {
     "data": {
      "text/plain": [
       "'2022-03-10'"
      ]
     },
     "execution_count": 6,
     "metadata": {},
     "output_type": "execute_result"
    }
   ],
   "source": [
    "#2). \n",
    "\n",
    "with open(\"today.txt\", \"r\") as f:\n",
    "    today_string = f.read()\n",
    "    \n",
    "today_string"
   ]
  },
  {
   "cell_type": "code",
   "execution_count": 12,
   "id": "a079a445",
   "metadata": {},
   "outputs": [
    {
     "data": {
      "text/plain": [
       "datetime.datetime(2022, 3, 10, 0, 0)"
      ]
     },
     "execution_count": 12,
     "metadata": {},
     "output_type": "execute_result"
    }
   ],
   "source": [
    "#3).\n",
    "\n",
    "import datetime\n",
    "\n",
    "format = '%Y-%m-%d'\n",
    "\n",
    "datetime.datetime.strptime(today_string, format)"
   ]
  },
  {
   "cell_type": "code",
   "execution_count": 15,
   "id": "81400052",
   "metadata": {},
   "outputs": [
    {
     "data": {
      "text/plain": [
       "['.ipynb_checkpoints',\n",
       " 'ASSIGNMENT 1.ipynb',\n",
       " 'Basic Assignment 10.ipynb',\n",
       " 'Basic Assignment 11.ipynb',\n",
       " 'Basic Assignment 12.ipynb',\n",
       " 'Basic Assignment 13.ipynb',\n",
       " 'Basic Assignment 14.ipynb',\n",
       " 'Basic Assignment 15.ipynb',\n",
       " 'Basic Assignment 16.ipynb',\n",
       " 'Basic Assignment 17.ipynb',\n",
       " 'Basic Assignment 18.ipynb',\n",
       " 'Basic Assignment 19.ipynb',\n",
       " 'BASIC ASSIGNMENT 2.ipynb',\n",
       " 'Basic Assignment 20.ipynb',\n",
       " 'Basic Assignment 21.ipynb',\n",
       " 'BASIC ASSIGNMENT 3.ipynb',\n",
       " 'BASIC ASSIGNMENT 4.ipynb',\n",
       " 'BASIC ASSIGNMENT 5.ipynb',\n",
       " 'Basic Assignment 6.ipynb',\n",
       " 'Basic Assignment 7.ipynb',\n",
       " 'Basic Assignment 8.ipynb',\n",
       " 'Basic Assignment 9.ipynb',\n",
       " 'books.csv',\n",
       " 'books.db',\n",
       " 'test.txt',\n",
       " 'today.txt',\n",
       " 'zoo.py',\n",
       " '__pycache__']"
      ]
     },
     "execution_count": 15,
     "metadata": {},
     "output_type": "execute_result"
    }
   ],
   "source": [
    "#4). \n",
    "\n",
    "import os\n",
    "\n",
    "os.listdir()"
   ]
  },
  {
   "cell_type": "code",
   "execution_count": 17,
   "id": "25e77827",
   "metadata": {},
   "outputs": [
    {
     "data": {
      "text/plain": [
       "['advanced assignment',\n",
       " 'advanced programming assignment',\n",
       " 'basic assignment',\n",
       " 'basic programming assignment',\n",
       " 'Untitled Folder']"
      ]
     },
     "execution_count": 17,
     "metadata": {},
     "output_type": "execute_result"
    }
   ],
   "source": [
    "#5).\n",
    "\n",
    "import os\n",
    "\n",
    "list1 = os.listdir(\"..\")\n",
    "\n",
    "list1"
   ]
  },
  {
   "cell_type": "code",
   "execution_count": 20,
   "id": "ecf733b1",
   "metadata": {},
   "outputs": [
    {
     "name": "stdout",
     "output_type": "stream",
     "text": [
      "wait 0.13487346537784184 seconds, time is 2022-03-10 10:46:50.811468\n"
     ]
    }
   ],
   "source": [
    "#6).\n",
    "\n",
    "import multiprocessing\n",
    "\n",
    "import random\n",
    "\n",
    "from datetime import datetime\n",
    "\n",
    "from time import sleep\n",
    "\n",
    "def now(seconds):\n",
    "    \n",
    "    sleep(seconds)\n",
    "    print(f\"wait {seconds} seconds, time is {datetime.utcnow()}\")\n",
    "    \n",
    "    \n",
    "if __name__ == \"__main__\":\n",
    "    \n",
    "    for n in range(3):\n",
    "        seconds = random.random()\n",
    "        a = multiprocessing.Process(target = now, args = (seconds,))\n",
    "        a.start()\n",
    "        \n",
    "now(seconds)"
   ]
  },
  {
   "cell_type": "code",
   "execution_count": 21,
   "id": "bb6e3cbb",
   "metadata": {},
   "outputs": [
    {
     "data": {
      "text/plain": [
       "datetime.date(1999, 11, 22)"
      ]
     },
     "execution_count": 21,
     "metadata": {},
     "output_type": "execute_result"
    }
   ],
   "source": [
    "#7).\n",
    "\n",
    "birth_day = date(1999, 11, 22)\n",
    "\n",
    "birth_day"
   ]
  },
  {
   "cell_type": "code",
   "execution_count": 26,
   "id": "2258781b",
   "metadata": {},
   "outputs": [
    {
     "name": "stdout",
     "output_type": "stream",
     "text": [
      "0\n"
     ]
    },
    {
     "data": {
      "text/plain": [
       "1"
      ]
     },
     "execution_count": 26,
     "metadata": {},
     "output_type": "execute_result"
    }
   ],
   "source": [
    "#8).\n",
    "\n",
    "print(birth_day.weekday())\n",
    "\n",
    "birth_day.isoweekday()"
   ]
  },
  {
   "cell_type": "code",
   "execution_count": 27,
   "id": "be7ae636",
   "metadata": {},
   "outputs": [
    {
     "data": {
      "text/plain": [
       "datetime.date(2027, 4, 9)"
      ]
     },
     "execution_count": 27,
     "metadata": {},
     "output_type": "execute_result"
    }
   ],
   "source": [
    "#9).\n",
    "\n",
    "from datetime import timedelta\n",
    "\n",
    "days_10000_after_birthday = birth_day + timedelta(days = 10000)\n",
    "\n",
    "days_10000_after_birthday"
   ]
  }
 ],
 "metadata": {
  "kernelspec": {
   "display_name": "Python 3 (ipykernel)",
   "language": "python",
   "name": "python3"
  },
  "language_info": {
   "codemirror_mode": {
    "name": "ipython",
    "version": 3
   },
   "file_extension": ".py",
   "mimetype": "text/x-python",
   "name": "python",
   "nbconvert_exporter": "python",
   "pygments_lexer": "ipython3",
   "version": "3.9.7"
  }
 },
 "nbformat": 4,
 "nbformat_minor": 5
}
