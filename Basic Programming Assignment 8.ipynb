{
 "cells": [
  {
   "cell_type": "markdown",
   "id": "b56f0d93",
   "metadata": {},
   "source": [
    "# QUESTIONS:"
   ]
  },
  {
   "cell_type": "markdown",
   "id": "68eb1f24",
   "metadata": {},
   "source": [
    "1. Write a Python Program to Add Two Matrices?\n",
    "\n",
    "2. Write a Python Program to Multiply Two Matrices?\n",
    "\n",
    "3. Write a Python Program to Transpose a Matrix?\n",
    "\n",
    "4. Write a Python Program to Sort Words in Alphabetic Order?\n",
    "\n",
    "5. Write a Python Program to Remove Punctuation From a String?"
   ]
  },
  {
   "cell_type": "markdown",
   "id": "bf2ddb3a",
   "metadata": {},
   "source": [
    "# ANSWERS:"
   ]
  },
  {
   "cell_type": "code",
   "execution_count": 1,
   "id": "f815a691",
   "metadata": {},
   "outputs": [
    {
     "name": "stdout",
     "output_type": "stream",
     "text": [
      "[15, 15, 4]\n",
      "[46, 12, 9]\n",
      "[7, 13, 18]\n"
     ]
    }
   ],
   "source": [
    "#1). program to add two matrices :\n",
    "\n",
    "X = [[10,7,3],\n",
    "    [40 ,5,6],\n",
    "    [3 ,8,9]]\n",
    "\n",
    "Y = [[5,8,1],\n",
    "    [6,7,3],\n",
    "    [4,5,9]]\n",
    "\n",
    "z = [[X[i][j] + Y[i][j]  for j in range(len(X[0]))] for i in range(len(X))]\n",
    "\n",
    "for a in z:\n",
    "    print(a)"
   ]
  },
  {
   "cell_type": "code",
   "execution_count": 2,
   "id": "4bae1f2a",
   "metadata": {},
   "outputs": [
    {
     "name": "stdout",
     "output_type": "stream",
     "text": [
      "[114, 160, 60, 27]\n",
      "[74, 97, 73, 14]\n",
      "[119, 157, 112, 23]\n"
     ]
    }
   ],
   "source": [
    "#2). program to multiply two matrices : \n",
    "\n",
    "X = [[12,7,3],\n",
    "    [4 ,5,6],\n",
    "    [7 ,8,9]]\n",
    "\n",
    "Y = [[5,8,1,2],\n",
    "    [6,7,3,0],\n",
    "    [4,5,9,1]]\n",
    "\n",
    "z = [[0,0,0,0],\n",
    "    [0,0,0,0],\n",
    "    [0,0,0,0]]\n",
    "\n",
    "for i in range(len(X)):\n",
    "    for j in range(len(Y[0])):\n",
    "        for k in range(len(Y)):\n",
    "            z[i][j] = z[i][j] + X[i][k] * Y[k][j]\n",
    "\n",
    "for a in z:\n",
    "    print(a)"
   ]
  },
  {
   "cell_type": "code",
   "execution_count": 3,
   "id": "515e79ac",
   "metadata": {},
   "outputs": [
    {
     "name": "stdout",
     "output_type": "stream",
     "text": [
      "[23, 34, 67]\n",
      "[87, 36, 90]\n"
     ]
    }
   ],
   "source": [
    "#3). program to transpose a matrix : \n",
    "\n",
    "X = [[23,87],\n",
    "    [34 ,36],\n",
    "    [67 ,90]]\n",
    "\n",
    "z = [[X[j][i] for j in range(len(X))] for i in range(len(X[0]))]\n",
    "\n",
    "for a in z:\n",
    "    print(a)"
   ]
  },
  {
   "cell_type": "code",
   "execution_count": 4,
   "id": "6d683f13",
   "metadata": {},
   "outputs": [
    {
     "name": "stdout",
     "output_type": "stream",
     "text": [
      "Enter the string : this is an ineuron assignment\n",
      "an\n",
      "assignment\n",
      "ineuron\n",
      "is\n",
      "this\n"
     ]
    }
   ],
   "source": [
    "#4). program to sort words in alphabetic order : \n",
    "\n",
    "my_str = input(\"Enter the string : \")\n",
    "\n",
    "j = [i.lower() for i in my_str.split()]\n",
    "\n",
    "j.sort()\n",
    "\n",
    "for i in j:\n",
    "    print(i)"
   ]
  },
  {
   "cell_type": "code",
   "execution_count": 6,
   "id": "a84a2486",
   "metadata": {},
   "outputs": [
    {
     "name": "stdout",
     "output_type": "stream",
     "text": [
      "Enter a string with punctuations : hello!! there.\n",
      "hello there\n"
     ]
    }
   ],
   "source": [
    "#5). program to remove punctuation from a string :\n",
    "\n",
    "my_str = input(\"Enter a string with punctuations : \")\n",
    "\n",
    "punctuations = '''!()-[]{};:'\"\\,<>./?@#$%^&*_~'''\n",
    "\n",
    "x = \"\"\n",
    "    \n",
    "for i in my_str:\n",
    "    if i not in punctuations:\n",
    "        x = x + i\n",
    "        \n",
    "print(x)"
   ]
  }
 ],
 "metadata": {
  "kernelspec": {
   "display_name": "Python 3 (ipykernel)",
   "language": "python",
   "name": "python3"
  },
  "language_info": {
   "codemirror_mode": {
    "name": "ipython",
    "version": 3
   },
   "file_extension": ".py",
   "mimetype": "text/x-python",
   "name": "python",
   "nbconvert_exporter": "python",
   "pygments_lexer": "ipython3",
   "version": "3.9.7"
  }
 },
 "nbformat": 4,
 "nbformat_minor": 5
}
