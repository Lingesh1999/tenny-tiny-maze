{
 "cells": [
  {
   "cell_type": "markdown",
   "id": "96f9bfcf",
   "metadata": {},
   "source": [
    "# QUESTIONS:"
   ]
  },
  {
   "cell_type": "markdown",
   "id": "914d0109",
   "metadata": {},
   "source": [
    "Question 1:\n",
    "Please write a program using generator to print the numbers which can be divisible by 5 and 7 between 0 and n in comma separated form while n is input by console.\n",
    "Example:\n",
    "If the following n is given as input to the program:\n",
    "100\n",
    "Then, the output of the program should be:\n",
    "0,35,70\n",
    "\n",
    "Question 2:\n",
    "Please write a program using generator to print the even numbers between 0 and n in comma separated form while n is input by console.\n",
    "Example:\n",
    "If the following n is given as input to the program:\n",
    "10\n",
    "Then, the output of the program should be:\n",
    "0,2,4,6,8,10\n",
    "\n",
    "Question 3:\n",
    "The Fibonacci Sequence is computed based on the following formula:\n",
    "f(n)=0 if n=0\n",
    "f(n)=1 if n=1\n",
    "f(n)=f(n-1)+f(n-2) if n>1\n",
    "Please write a program using list comprehension to print the Fibonacci Sequence in comma separated form with a given n input by console.\n",
    "Example:\n",
    "If the following n is given as input to the program:\n",
    "7\n",
    "\n",
    "Then, the output of the program should be:\n",
    "0,1,1,2,3,5,8,13\n",
    "\n",
    "Question 4:\n",
    "Assuming that we have some email addresses in the \"username@companyname.com\" format, please write program to print the user name of a given email address. Both user names and company names are composed of letters only.\n",
    "Example:\n",
    "If the following email address is given as input to the program:\n",
    "john@google.com\n",
    "Then, the output of the program should be:\n",
    "john\n",
    "\n",
    "Question 5:\n",
    "Define a class named Shape and its subclass Square. The Square class has an init function which takes a length as argument. Both classes have a area function which can print the area of the shape where Shape's area is 0 by default.\n"
   ]
  },
  {
   "cell_type": "markdown",
   "id": "9acc73b7",
   "metadata": {},
   "source": [
    "# ANSWERS:"
   ]
  },
  {
   "cell_type": "code",
   "execution_count": 21,
   "id": "1b89bc6f",
   "metadata": {},
   "outputs": [
    {
     "name": "stdout",
     "output_type": "stream",
     "text": [
      "enter the upper range : 100\n",
      "0,35,70\n"
     ]
    }
   ],
   "source": [
    "#1).\n",
    "\n",
    "n = int(input(\"enter the upper range : \"))\n",
    "\n",
    "def divisible_by_5_and_7():\n",
    "    for i in range(0, n):\n",
    "        if i % 5 == 0 and i % 7 == 0:\n",
    "            yield i\n",
    "   \n",
    "\n",
    "li = []            \n",
    "for num in divisible_by_5_and_7():\n",
    "    li.append(str(num))\n",
    "    \n",
    "print(\",\".join(li))"
   ]
  },
  {
   "cell_type": "code",
   "execution_count": 20,
   "id": "2d4d9c75",
   "metadata": {},
   "outputs": [
    {
     "name": "stdout",
     "output_type": "stream",
     "text": [
      "enter the upper range : 10\n",
      "0,2,4,6,8\n"
     ]
    }
   ],
   "source": [
    "#2).\n",
    "\n",
    "n = int(input(\"enter the upper range : \"))\n",
    "\n",
    "def even_numbers_for_the_given_range():\n",
    "    for i in range(0, n):\n",
    "        if i % 2 == 0:\n",
    "            yield i\n",
    "        \n",
    "        \n",
    "l1 = []            \n",
    "for numb in even_numbers_for_the_given_range():\n",
    "    l1.append(str(numb))\n",
    "    \n",
    "print(\",\".join(l1))"
   ]
  },
  {
   "cell_type": "code",
   "execution_count": 15,
   "id": "b8e9853e",
   "metadata": {},
   "outputs": [
    {
     "name": "stdout",
     "output_type": "stream",
     "text": [
      "8\n",
      "0,1,1,2,3,5,8,13,21\n"
     ]
    }
   ],
   "source": [
    "#3).\n",
    "\n",
    "def fibo(n):\n",
    "    if n < 2: return n\n",
    "    return fibo(n-1)+fibo(n-2)\n",
    "\n",
    "def print_fiblist(n):\n",
    "    fib_list = [(str(fibo(i))) for i in range(0, n+1)]\n",
    "    return print(\",\".join(fib_list))\n",
    "n = int(input())\n",
    "print_fiblist(n)"
   ]
  },
  {
   "cell_type": "code",
   "execution_count": 31,
   "id": "2d52b4a2",
   "metadata": {},
   "outputs": [
    {
     "name": "stdout",
     "output_type": "stream",
     "text": [
      "john@google.com\n",
      "john\n"
     ]
    }
   ],
   "source": [
    "#4).\n",
    "\n",
    "import re\n",
    "\n",
    "emailAddress = input()\n",
    "\n",
    "pattern = \"(\\w+)@(\\w+)\\.(com)\"\n",
    "\n",
    "result = re.match(pattern, emailAddress)\n",
    "\n",
    "print(result.group(1))"
   ]
  },
  {
   "cell_type": "code",
   "execution_count": 33,
   "id": "157cf973",
   "metadata": {},
   "outputs": [
    {
     "name": "stdout",
     "output_type": "stream",
     "text": [
      "25\n"
     ]
    }
   ],
   "source": [
    "#5).\n",
    "\n",
    "class shape():\n",
    "    def __init__(self):\n",
    "        pass\n",
    "    def area():\n",
    "        return 0\n",
    "    \n",
    "class square(shape):\n",
    "    def __init__(self, length):\n",
    "        shape.__init__(self)\n",
    "        self.length = length\n",
    "            \n",
    "    def area(self):\n",
    "        return self.length * self.length\n",
    "    \n",
    "    \n",
    "a = square(5)\n",
    "print(a.area())"
   ]
  }
 ],
 "metadata": {
  "kernelspec": {
   "display_name": "Python 3 (ipykernel)",
   "language": "python",
   "name": "python3"
  },
  "language_info": {
   "codemirror_mode": {
    "name": "ipython",
    "version": 3
   },
   "file_extension": ".py",
   "mimetype": "text/x-python",
   "name": "python",
   "nbconvert_exporter": "python",
   "pygments_lexer": "ipython3",
   "version": "3.9.7"
  }
 },
 "nbformat": 4,
 "nbformat_minor": 5
}
