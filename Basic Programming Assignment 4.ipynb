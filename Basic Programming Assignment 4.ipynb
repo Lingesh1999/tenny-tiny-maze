{
 "cells": [
  {
   "cell_type": "markdown",
   "id": "f47fb0c4",
   "metadata": {},
   "source": [
    "# QUESTIONS:"
   ]
  },
  {
   "cell_type": "markdown",
   "id": "6368c1a4",
   "metadata": {},
   "source": [
    "1. Write a Python Program to Find the Factorial of a Number?\n",
    "\n",
    "2. Write a Python Program to Display the multiplication Table?\n",
    "\n",
    "3. Write a Python Program to Print the Fibonacci sequence?\n",
    "\n",
    "4. Write a Python Program to Check Armstrong Number?\n",
    "\n",
    "5. Write a Python Program to Find Armstrong Number in an Interval?\n",
    "\n",
    "6. Write a Python Program to Find the Sum of Natural Numbers?\n"
   ]
  },
  {
   "cell_type": "markdown",
   "id": "2ec03249",
   "metadata": {},
   "source": [
    "# ANSWERS :"
   ]
  },
  {
   "cell_type": "code",
   "execution_count": 1,
   "id": "4c98c1d5",
   "metadata": {},
   "outputs": [
    {
     "name": "stdout",
     "output_type": "stream",
     "text": [
      "Enter a number to find factorial of it : 5\n",
      "The factorial for the number 5 is 120.\n"
     ]
    }
   ],
   "source": [
    "#1 ). program to find factorial of a number:\n",
    "\n",
    "def factorial():\n",
    "    \n",
    "    n = int(input(\"Enter a number to find factorial of it : \"))\n",
    "    f = 1\n",
    "    \n",
    "    if n < 0:\n",
    "        print(\"Factorial does not exist for negative numbers\")\n",
    "        \n",
    "    elif n == 0:\n",
    "        print(\"Factorial of 0 is 1.\")\n",
    "    \n",
    "    else:\n",
    "        for i in range(1, n+1):\n",
    "            f = f * i\n",
    "        print(f\"The factorial for the number {n} is {f}.\")\n",
    "        \n",
    "\n",
    "factorial()"
   ]
  },
  {
   "cell_type": "code",
   "execution_count": 2,
   "id": "00d134c3",
   "metadata": {},
   "outputs": [
    {
     "name": "stdout",
     "output_type": "stream",
     "text": [
      "Enter the number to which you want multiplication table : 12\n",
      "MULTIPLICATION TABLE For: 12 \n",
      "\n",
      "12 * 1 = 12\n",
      "12 * 2 = 24\n",
      "12 * 3 = 36\n",
      "12 * 4 = 48\n",
      "12 * 5 = 60\n",
      "12 * 6 = 72\n",
      "12 * 7 = 84\n",
      "12 * 8 = 96\n",
      "12 * 9 = 108\n",
      "12 * 10 = 120\n"
     ]
    }
   ],
   "source": [
    "# 2). program to display the multiplication table\n",
    "\n",
    "def multiplication_table():\n",
    "    \n",
    "    n = int(input(\"Enter the number to which you want multiplication table : \"))\n",
    "    \n",
    "    print(f\"MULTIPLICATION TABLE For: {n} \\n\")\n",
    "    \n",
    "    for i in range(n, n+1):\n",
    "        for j in range(1, 11):\n",
    "            mul = i*j\n",
    "            print(f\"{i} * {j} = {mul}\")\n",
    "            \n",
    "            \n",
    "multiplication_table()"
   ]
  },
  {
   "cell_type": "code",
   "execution_count": 3,
   "id": "68ca8e73",
   "metadata": {},
   "outputs": [
    {
     "name": "stdout",
     "output_type": "stream",
     "text": [
      "enter the number to which fibonacci is required : 5\n"
     ]
    },
    {
     "data": {
      "text/plain": [
       "3"
      ]
     },
     "execution_count": 3,
     "metadata": {},
     "output_type": "execute_result"
    }
   ],
   "source": [
    "#3). python program to print fibonacci sequence\n",
    "\n",
    "def fibonacci():\n",
    "    \n",
    "    n = int(input(\"enter the number to which fibonacci is required : \"))\n",
    "    a = 0\n",
    "    b = 1\n",
    "    \n",
    "    if n == 0 :\n",
    "        print(f\"The fibonacci of {n} is {a}\")\n",
    "        \n",
    "    elif n == 1:\n",
    "        print(f\"The fibonacci of {n} is {b}\")\n",
    "        \n",
    "    else:\n",
    "        for i in range(2,n):\n",
    "            c = a + b\n",
    "            a = b\n",
    "            b = c\n",
    "        return b\n",
    "    \n",
    "    \n",
    "fibonacci()"
   ]
  },
  {
   "cell_type": "code",
   "execution_count": 4,
   "id": "61d03224",
   "metadata": {},
   "outputs": [
    {
     "name": "stdout",
     "output_type": "stream",
     "text": [
      "Enter the number to check whether it is armstrong or not : 407\n",
      "407 is a armstrong number.\n"
     ]
    }
   ],
   "source": [
    "#4). program to check armstrong number : \n",
    "\n",
    "def armstrong_number():\n",
    "    \n",
    "    n = int(input(\"Enter the number to check whether it is armstrong or not : \"))\n",
    "    \n",
    "    sum = 0 \n",
    "    \n",
    "    n1 = n \n",
    "    \n",
    "    while n1 > 0:\n",
    "        \n",
    "        a = n1 % 10\n",
    "        sum = sum + a ** 3\n",
    "        n1 = n1 // 10\n",
    "        \n",
    "    if n == sum:\n",
    "        print(f\"{n} is a armstrong number.\")\n",
    "    else:\n",
    "        print(f\"{n} is not a armstrong number.\")\n",
    "        \n",
    "\n",
    "armstrong_number()"
   ]
  },
  {
   "cell_type": "code",
   "execution_count": 5,
   "id": "51b829eb",
   "metadata": {},
   "outputs": [
    {
     "name": "stdout",
     "output_type": "stream",
     "text": [
      "Enter the lower interval number to which you want armstrong number : 100\n",
      "Enter the upper interval number to which you want armstrong number : 1000\n",
      "\n",
      "The armstrong numbers for the given interval are : \n",
      "\n",
      "153\n",
      "370\n",
      "371\n",
      "407\n"
     ]
    }
   ],
   "source": [
    "# 5) . find armstrong number in an interval:\n",
    "\n",
    "def armstrong_number_interval():\n",
    "    \n",
    "    n_lower = int(input(\"Enter the lower interval number to which you want armstrong number : \"))\n",
    "    n_upper = int(input(\"Enter the upper interval number to which you want armstrong number : \"))\n",
    "    \n",
    "    print(\"\\nThe armstrong numbers for the given interval are : \\n\")\n",
    "    \n",
    "    for i in range(n_lower, n_upper+1):\n",
    "        \n",
    "        order = len(str(i))\n",
    "        \n",
    "        sum = 0\n",
    "        \n",
    "        n1 = i\n",
    "        while n1 > 0:\n",
    "        \n",
    "            a = n1 % 10\n",
    "            sum = sum + a ** order\n",
    "            n1 = n1 // 10\n",
    "            \n",
    "        if i == sum:\n",
    "            print(i)\n",
    "            \n",
    "            \n",
    "armstrong_number_interval()"
   ]
  },
  {
   "cell_type": "code",
   "execution_count": 6,
   "id": "0cee1423",
   "metadata": {},
   "outputs": [
    {
     "name": "stdout",
     "output_type": "stream",
     "text": [
      "enter the number to which you want sum of all natural numbers : 14\n",
      "The sum of all Natural numbers to 14 is 105.\n"
     ]
    }
   ],
   "source": [
    "#6 ). program to find sum of natural numbers:\n",
    "\n",
    "def sum_of_natural_numbers():\n",
    "    \n",
    "    n = int(input(\"enter the number to which you want sum of all natural numbers : \"))\n",
    "    \n",
    "    a = 0\n",
    "    \n",
    "    for i in range(n+1):\n",
    "        a = a + i\n",
    "    print(f\"The sum of all Natural numbers to {n} is {a}.\")\n",
    "    \n",
    "    \n",
    "sum_of_natural_numbers()"
   ]
  }
 ],
 "metadata": {
  "kernelspec": {
   "display_name": "Python 3 (ipykernel)",
   "language": "python",
   "name": "python3"
  },
  "language_info": {
   "codemirror_mode": {
    "name": "ipython",
    "version": 3
   },
   "file_extension": ".py",
   "mimetype": "text/x-python",
   "name": "python",
   "nbconvert_exporter": "python",
   "pygments_lexer": "ipython3",
   "version": "3.9.7"
  }
 },
 "nbformat": 4,
 "nbformat_minor": 5
}
