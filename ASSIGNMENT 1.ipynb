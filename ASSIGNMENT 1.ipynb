{
 "cells": [
  {
   "cell_type": "markdown",
   "id": "4efe5736",
   "metadata": {},
   "source": [
    "# QUESTIONS"
   ]
  },
  {
   "cell_type": "code",
   "execution_count": null,
   "id": "877e7fcb",
   "metadata": {},
   "outputs": [],
   "source": [
    "1. In the below elements which of them are values or an expression? eg:- values can be integer or string and expressions will be mathematical operators.\n",
    "* \n",
    "'hello'\n",
    "-87.8\n",
    "- \n",
    "/ \n",
    "+\n",
    "6 \n",
    "\n",
    "2. What is the difference between string and variable?\n",
    "\n",
    "3. Describe three different data types.\n",
    "\n",
    "4. What is an expression made up of? What do all expressions do?\n",
    "\n",
    "5. This assignment statements, like spam = 10. What is the difference between an expression and a statement?\n",
    "\n",
    "6. After running the following code, what does the variable bacon contain?\n",
    "bacon = 22\n",
    "bacon + 1\n",
    "\n",
    "7. What should the values of the following two terms be?\n",
    "'spam' + 'spamspam'\n",
    "'spam' * 3\n",
    "\n",
    "8. Why is eggs a valid variable name while 100 is invalid?\n",
    "\n",
    "9. What three functions can be used to get the integer, floating-point number, or string version of a value?\n",
    "\n",
    "10. Why does this expression cause an error? How can you fix it?\n",
    "'I have eaten ' + 99 + ' burritos.'\n"
   ]
  },
  {
   "cell_type": "markdown",
   "id": "046fa27f",
   "metadata": {},
   "source": [
    "# ANSWERS"
   ]
  },
  {
   "cell_type": "code",
   "execution_count": null,
   "id": "d8241178",
   "metadata": {},
   "outputs": [],
   "source": [
    "1. The values of the following given statements are:\n",
    "\n",
    "    'hello'\n",
    "     -87.8\n",
    "     6\n",
    "     \n",
    "   The expressions of the following given statements are:\n",
    "   \n",
    "     *\n",
    "     -\n",
    "     /\n",
    "     +"
   ]
  },
  {
   "cell_type": "code",
   "execution_count": null,
   "id": "26f2cd1f",
   "metadata": {},
   "outputs": [],
   "source": [
    "2. Variable is used to store information in a program. The information stored will be in a format of text or number or both.\n",
    "   \n",
    "   The information is known as values. A string is nothing but a value which is stored inside a variable which has sequence \n",
    "   \n",
    "   of characters. Variable does not start and end with quotes whereas string does. "
   ]
  },
  {
   "cell_type": "code",
   "execution_count": null,
   "id": "1657bb0f",
   "metadata": {},
   "outputs": [],
   "source": [
    "3. 1) Numeric Data Types. It has three sub-types.\n",
    "    \n",
    "      i)Integer. It is nothing but whole numbers. example - 90,78.\n",
    "      \n",
    "      ii)Float. It is nothing but decimal numbers. example - 78.8, 92.3.\n",
    "      \n",
    "      iii)Complex numbers. It is nothing but a number which has real and imaginary part. example - 4+9j, 5+3j.\n",
    "      \n",
    "   2) Strings. They are a sequence of characters like words and they should be closed in apostrophe. example - 'hey','good'.\n",
    "   \n",
    "   3) Boolean Data Types. There are two boolean values True or False.\n",
    "   \n",
    "       i) If a certain condition meets it's requirements it is True.\n",
    "       \n",
    "       ii) If a certain condition fail to meet certain condition it is False."
   ]
  },
  {
   "cell_type": "code",
   "execution_count": null,
   "id": "2809a27a",
   "metadata": {},
   "outputs": [],
   "source": [
    "4. expressions are made up of combination of operators,values,variables and calls to functions. An expression is nothing but\n",
    "\n",
    "   an instruction that combine values and operators and always evaluates them to a single value."
   ]
  },
  {
   "cell_type": "code",
   "execution_count": null,
   "id": "c7372f3f",
   "metadata": {},
   "outputs": [],
   "source": [
    "5. spam = 10 is a statement that assigns spam to the value of the expression 10. Here the statement is nothing but a certain \n",
    "\n",
    "   piece of code which assigns the value 10 to spam, Where expression is the value of spam . And another main difference is\n",
    "   \n",
    "   expression evaluates to a single value whereas statement can't perform that."
   ]
  },
  {
   "cell_type": "code",
   "execution_count": null,
   "id": "a4136803",
   "metadata": {},
   "outputs": [],
   "source": [
    "6. bacon = 22 . In this statement bacon value is assigned to 22.\n",
    "  \n",
    "   bacon + 1 expression cannot be executed because we are not reassigning the value to bacon\n",
    "   \n",
    "   and the expression should be like this  bacon = bacon + 1.\n",
    "   \n",
    "   so for the following code the bacon value be in 22(remains the same)."
   ]
  },
  {
   "cell_type": "code",
   "execution_count": null,
   "id": "0bc8d0b0",
   "metadata": {},
   "outputs": [],
   "source": [
    "7. the values for both the expressions are same and it is 'spamspamspam'."
   ]
  },
  {
   "cell_type": "code",
   "execution_count": null,
   "id": "47c642a5",
   "metadata": {},
   "outputs": [],
   "source": [
    "8. The variable name starting with letters are valid and it should not be same as function names.\n",
    "\n",
    "   Whereas variable names starting with numbers are invalid."
   ]
  },
  {
   "cell_type": "code",
   "execution_count": null,
   "id": "1023e4bb",
   "metadata": {},
   "outputs": [],
   "source": [
    "9. For Interger - int()\n",
    "\n",
    "   For Float - float()\n",
    "   \n",
    "   For String - str()"
   ]
  },
  {
   "cell_type": "code",
   "execution_count": null,
   "id": "055ef7fb",
   "metadata": {},
   "outputs": [],
   "source": [
    "10. The problem in the given expression is concatenation. Here the number 99 cannot be concatenated because it is a different\n",
    "\n",
    "    data type to the others which are strings.To solve the above problem, 99 should be enclosed in a str() function.\n",
    "    \n",
    "    The correct expression is : 'I have eaten ' + str(99) + ' burritos.'"
   ]
  }
 ],
 "metadata": {
  "kernelspec": {
   "display_name": "Python 3 (ipykernel)",
   "language": "python",
   "name": "python3"
  },
  "language_info": {
   "codemirror_mode": {
    "name": "ipython",
    "version": 3
   },
   "file_extension": ".py",
   "mimetype": "text/x-python",
   "name": "python",
   "nbconvert_exporter": "python",
   "pygments_lexer": "ipython3",
   "version": "3.9.7"
  }
 },
 "nbformat": 4,
 "nbformat_minor": 5
}
