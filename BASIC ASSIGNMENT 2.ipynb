{
 "cells": [
  {
   "cell_type": "markdown",
   "id": "256b3eda",
   "metadata": {},
   "source": [
    "# Questions:"
   ]
  },
  {
   "cell_type": "markdown",
   "id": "7d51bc13",
   "metadata": {},
   "source": [
    "1.What are the two values of the Boolean data type? How do you write them?\n",
    "\n",
    "2. What are the three different types of Boolean operators?\n",
    "\n",
    "3. Make a list of each Boolean operator's truth tables (i.e. every possible combination of Boolean values for the operator and what it evaluate ).\n",
    "\n",
    "4. What are the values of the following expressions?\n",
    "(5 > 4) and (3 == 5)\n",
    "not (5 > 4)\n",
    "(5 > 4) or (3 == 5)\n",
    "not ((5 > 4) or (3 == 5))\n",
    "(True and True) and (True == False)\n",
    "(not False) or (not True)\n",
    "\n",
    "5. What are the six comparison operators?\n",
    "\n",
    "6. How do you tell the difference between the equal to and assignment operators?Describe a condition and when you would use one.\n",
    "\n",
    "7. Identify the three blocks in this code:\n",
    "spam = 0\n",
    "if spam == 10:\n",
    "print('eggs')\n",
    "if spam > 5:\n",
    "print('bacon')\n",
    "else:\n",
    "print('ham')\n",
    "print('spam')\n",
    "\n",
    "8. Write code that prints Hello if 1 is stored in spam, prints Howdy if 2 is stored in spam, and prints Greetings! if anything else is stored in spam.\n",
    "\n",
    "9.If your programme is stuck in an endless loop, what keys you’ll press?\n",
    "\n",
    "10. How can you tell the difference between break and continue?\n",
    "\n",
    "11. In a for loop, what is the difference between range(10), range(0, 10), and range(0, 10, 1)?\n",
    "\n",
    "12. Write a short program that prints the numbers 1 to 10 using a for loop. Then write an equivalent program that prints the numbers 1 to 10 using a while loop.\n",
    "\n",
    "13. If you had a function named bacon() inside a module named spam, how would you call it after importing spam?\n"
   ]
  },
  {
   "cell_type": "markdown",
   "id": "c115d40d",
   "metadata": {},
   "source": [
    "# Answers:"
   ]
  },
  {
   "cell_type": "markdown",
   "id": "c8af7659",
   "metadata": {},
   "source": [
    "1. The two values of boolean data types are True and False and \n",
    "\n",
    "   the way to write them is start with a captial letter T and F and all remaining letter in lowercase."
   ]
  },
  {
   "cell_type": "markdown",
   "id": "860c8c8b",
   "metadata": {},
   "source": [
    "2. three types of boolean operators:\n",
    "\n",
    "     i) and\n",
    "     \n",
    "     ii) or\n",
    "     \n",
    "     iii) not"
   ]
  },
  {
   "cell_type": "markdown",
   "id": "7ca1b40f",
   "metadata": {},
   "source": [
    "3. List of boolean operators truth table:\n",
    "    \n",
    "             True and True is True\n",
    "             True and False is False\n",
    "             False and True is False\n",
    "             False and False is False\n",
    "\n",
    "             True or True is True\n",
    "             True or False is True\n",
    "             False or True is True\n",
    "             False or False is False\n",
    "\n",
    "             not True is False\n",
    "             not False is True"
   ]
  },
  {
   "cell_type": "markdown",
   "id": "8c6e4437",
   "metadata": {},
   "source": [
    "4. values of above expressions:\n",
    "\n",
    "        False\n",
    "        False\n",
    "        True\n",
    "        False\n",
    "        False\n",
    "        True"
   ]
  },
  {
   "cell_type": "markdown",
   "id": "a7dd2a39",
   "metadata": {},
   "source": [
    "5. six types of comparsion operators:\n",
    "\n",
    "           <(less than)\n",
    "           >(greater than)\n",
    "           <=(less than equal to)\n",
    "           >=(greater than equal to)\n",
    "           ==(equal to)\n",
    "           !=(not equal to)"
   ]
  },
  {
   "cell_type": "markdown",
   "id": "7eedcb97",
   "metadata": {},
   "source": [
    "6. difference between equal to's and usage:\n",
    "\n",
    "        == is a comparsion operator which compares two values and give boolean data types(True or False),\n",
    "        whereas = is an assignment operator which is used to assign and store a value to a variable."
   ]
  },
  {
   "cell_type": "markdown",
   "id": "0e74c0fc",
   "metadata": {},
   "source": [
    "7. Three blocks in the above code :\n",
    "\n",
    "        print('bacon'),print('eggs'),print('ham')"
   ]
  },
  {
   "cell_type": "markdown",
   "id": "1ad77fa2",
   "metadata": {},
   "source": [
    "8. code for given question :\n",
    "\n",
    "        if spam == 1:\n",
    "            print('Hello')\n",
    "        elif spam == 2:\n",
    "            print('Howdy')\n",
    "        else:\n",
    "            print('Greetings!')"
   ]
  },
  {
   "cell_type": "markdown",
   "id": "e0bc163b",
   "metadata": {},
   "source": [
    "9. To end endless loop the keys to be pressed : \n",
    "\n",
    "        To end a program which stuck in a endless loop we need to press CTRL-C(control + c)."
   ]
  },
  {
   "cell_type": "markdown",
   "id": "c3016c0b",
   "metadata": {},
   "source": [
    "10. difference between break and continue:\n",
    "\n",
    "        The continue statement will move the execution to start of the loop while the break statement will move \n",
    "\n",
    "        the execution outside of the loop when some conditions externally triggered and continue the flow of \n",
    "         the program.  "
   ]
  },
  {
   "cell_type": "markdown",
   "id": "36b7d857",
   "metadata": {},
   "source": [
    "11. difference between range functions in for loop:\n",
    "\n",
    "        range(10) function call values from 0 to 10 but not 10(only 10 indexes).\n",
    "\n",
    "        range(0,10) function specifically call start values from 0 to 10.\n",
    "\n",
    "        range(0,10,1) function call values from 0 to 10 and move values +1(step given).\n",
    "\n",
    "        but all range functions give the same output."
   ]
  },
  {
   "cell_type": "markdown",
   "id": "a2dbc3ea",
   "metadata": {},
   "source": [
    "12. program to print numbers 1 to 10 using for and while loop:\n",
    "\n",
    "        for x in range(1,11):\n",
    "            print(x)\n",
    "\n",
    "        Now using while loop :\n",
    "\n",
    "        n = 1\n",
    "        while n < 11:\n",
    "            print(n)\n",
    "            n = n + 1"
   ]
  },
  {
   "cell_type": "markdown",
   "id": "efbdd6ae",
   "metadata": {},
   "source": [
    "13. calling function inside a module after importing the module:\n",
    "\n",
    "        The function can be called by using spam.bacon()"
   ]
  }
 ],
 "metadata": {
  "kernelspec": {
   "display_name": "Python 3 (ipykernel)",
   "language": "python",
   "name": "python3"
  },
  "language_info": {
   "codemirror_mode": {
    "name": "ipython",
    "version": 3
   },
   "file_extension": ".py",
   "mimetype": "text/x-python",
   "name": "python",
   "nbconvert_exporter": "python",
   "pygments_lexer": "ipython3",
   "version": "3.9.7"
  }
 },
 "nbformat": 4,
 "nbformat_minor": 5
}
