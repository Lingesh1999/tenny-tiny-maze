{
 "cells": [
  {
   "cell_type": "markdown",
   "id": "1f84eae3",
   "metadata": {},
   "source": [
    "# QUESTIONS:"
   ]
  },
  {
   "cell_type": "markdown",
   "id": "4075b17d",
   "metadata": {},
   "source": [
    "1. Is the Python Standard Library included with PyInputPlus?\n",
    "\n",
    "2. Why is PyInputPlus commonly imported with import pyinputplus as pypi?\n",
    "\n",
    "3. How do you distinguish between inputInt() and inputFloat()?\n",
    "\n",
    "4. Using PyInputPlus, how do you ensure that the user enters a whole number between 0 and 99?\n",
    "\n",
    "5. What is transferred to the keyword arguments allowRegexes and blockRegexes?\n",
    "\n",
    "6. If a blank input is entered three times, what does inputStr(limit=3) do?\n",
    "\n",
    "7. If blank input is entered three times, what does inputStr(limit=3, default='hello') do?"
   ]
  },
  {
   "cell_type": "markdown",
   "id": "ec69725c",
   "metadata": {},
   "source": [
    "# ANSWERS:"
   ]
  },
  {
   "cell_type": "markdown",
   "id": "3986c490",
   "metadata": {},
   "source": [
    "    1). PyInputPlus is not a part of the Python Standard Library, so you must install it separately using Pip.\n",
    "    \n",
    "    "
   ]
  },
  {
   "cell_type": "markdown",
   "id": "e53223a0",
   "metadata": {},
   "source": [
    "    2). The pyinputplus is commonly imported as import pyinputplus as pypi because it takes\n",
    "    \n",
    "        more time to call pyinputplus every time so we use alias as pypi. It reduces the time \n",
    "        \n",
    "        to call it."
   ]
  },
  {
   "cell_type": "markdown",
   "id": "5a544bf2",
   "metadata": {},
   "source": [
    "    3). inputInt() : Accepts an integer value. This also takes additional parameters 'min', 'max', 'greaterThan' and 'lessThan' for bounds. Returns an int. inputFloat() : Accepts a floating-point numeric value"
   ]
  },
  {
   "cell_type": "markdown",
   "id": "8d363677",
   "metadata": {},
   "source": [
    "    4). import pyinputplus as pypi\n",
    "    \n",
    "        answer = pypi.inputInt(\"Enter the number\" : min = 0, max = 99)"
   ]
  },
  {
   "cell_type": "markdown",
   "id": "54145011",
   "metadata": {},
   "source": [
    "    5). The allowRegexes and blockRegexes keyword arguments take a list of regular expression strings to determine what the PyInputPlus function will accept or reject as valid input."
   ]
  },
  {
   "cell_type": "markdown",
   "id": "944a7c39",
   "metadata": {},
   "source": [
    "    6). inputStr() raises a TimeoutException exception. If the user answers incorrectly more than 3 times, it raises a RetryLimitException exception."
   ]
  },
  {
   "cell_type": "markdown",
   "id": "f68decf6",
   "metadata": {},
   "source": [
    "    7). It returns default value \"hello\"."
   ]
  }
 ],
 "metadata": {
  "kernelspec": {
   "display_name": "Python 3 (ipykernel)",
   "language": "python",
   "name": "python3"
  },
  "language_info": {
   "codemirror_mode": {
    "name": "ipython",
    "version": 3
   },
   "file_extension": ".py",
   "mimetype": "text/x-python",
   "name": "python",
   "nbconvert_exporter": "python",
   "pygments_lexer": "ipython3",
   "version": "3.9.7"
  }
 },
 "nbformat": 4,
 "nbformat_minor": 5
}
