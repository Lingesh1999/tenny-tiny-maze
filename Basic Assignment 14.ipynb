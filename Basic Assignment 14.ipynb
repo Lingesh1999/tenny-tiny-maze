{
 "cells": [
  {
   "cell_type": "markdown",
   "id": "a6d90630",
   "metadata": {},
   "source": [
    "# QUESTIONS:"
   ]
  },
  {
   "cell_type": "markdown",
   "id": "bb2f91ea",
   "metadata": {},
   "source": [
    "1. What does RGBA stand for?\n",
    "\n",
    "2. From the Pillow module, how do you get the RGBA value of any images?\n",
    "\n",
    "3. What is a box tuple, and how does it work?\n",
    "\n",
    "4. Use your image and load in notebook then, How can you find out the width and height of an Image object?\n",
    "\n",
    "5. What method would you call to get Image object for a 100×100 image, excluding the lower-left quarter of it?\n",
    "\n",
    "6. After making changes to an Image object, how could you save it as an image file?\n",
    "\n",
    "7. What module contains Pillow’s shape-drawing code?\n",
    "\n",
    "8. Image objects do not have drawing methods. What kind of object does? How do you get this kind of object?"
   ]
  },
  {
   "cell_type": "markdown",
   "id": "af8cb2e5",
   "metadata": {},
   "source": [
    "# ANSWERS:"
   ]
  },
  {
   "cell_type": "markdown",
   "id": "993463e3",
   "metadata": {},
   "source": [
    "    1). An RGBA value is a tuple of 4 integers each ranging from 0 to 255. The four integers correspond to the amount \n",
    "    \n",
    "        of red, green, blue, and alpha in color."
   ]
  },
  {
   "cell_type": "markdown",
   "id": "76a4f2ed",
   "metadata": {},
   "source": [
    "    2). ImageColor.getcolor() in which we need to pass two arguments one is to get rgba value so 'RGBA'\n",
    "    \n",
    "        parameter should be passed with the color you want to get rgba value as second parameter. For \n",
    "        \n",
    "        example, ImageColor.getcolor(\"red\",\"RGBA\")"
   ]
  },
  {
   "cell_type": "markdown",
   "id": "80b2d06d",
   "metadata": {},
   "source": [
    "    3). A box-tuple is  a tuple value of four integers. They are height, weight, top-edge y- coordinate\n",
    "    \n",
    "        and left-edge x-coordinate."
   ]
  },
  {
   "cell_type": "markdown",
   "id": "53d88e32",
   "metadata": {},
   "source": [
    "    4). imageObj.size is a tuple of two integers, the width and the height from which we can find\n",
    "    \n",
    "        height and width of the image."
   ]
  },
  {
   "cell_type": "markdown",
   "id": "a595ea4a",
   "metadata": {},
   "source": [
    "    5). imageObj.crop((0, 20, 30, 40)) "
   ]
  },
  {
   "cell_type": "markdown",
   "id": "0f97ecf6",
   "metadata": {},
   "source": [
    "    6). imageObj.save('filename.jpg') or in .png format we can save."
   ]
  },
  {
   "cell_type": "markdown",
   "id": "620cf64b",
   "metadata": {},
   "source": [
    "    7). ImageDraw module contains code to draw images."
   ]
  },
  {
   "cell_type": "markdown",
   "id": "e86a689c",
   "metadata": {},
   "source": [
    "    8). It has point(),rectangle(),line() shape-drawing methods. They can be obtained by passing the \n",
    "    \n",
    "        ImageDraw.Draw() function."
   ]
  }
 ],
 "metadata": {
  "kernelspec": {
   "display_name": "Python 3 (ipykernel)",
   "language": "python",
   "name": "python3"
  },
  "language_info": {
   "codemirror_mode": {
    "name": "ipython",
    "version": 3
   },
   "file_extension": ".py",
   "mimetype": "text/x-python",
   "name": "python",
   "nbconvert_exporter": "python",
   "pygments_lexer": "ipython3",
   "version": "3.9.7"
  }
 },
 "nbformat": 4,
 "nbformat_minor": 5
}
