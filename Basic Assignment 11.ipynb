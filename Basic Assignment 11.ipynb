{
 "cells": [
  {
   "cell_type": "markdown",
   "id": "7a4a46c3",
   "metadata": {},
   "source": [
    "# QUESTIONS:"
   ]
  },
  {
   "cell_type": "markdown",
   "id": "41a44d30",
   "metadata": {},
   "source": [
    "1. Create an assert statement that throws an AssertionError if the variable spam is a negative integer.\n",
    "\n",
    "2. Write an assert statement that triggers an AssertionError if the variables eggs and bacon contain strings that are the same as each other, even if their cases are different (that is, 'hello' and 'hello' are considered the same, and 'goodbye' and 'GOODbye' are also considered the same).\n",
    "\n",
    "3. Create an assert statement that throws an AssertionError every time.\n",
    "\n",
    "4. What are the two lines that must be present in your software in order to call logging.debug()?\n",
    "\n",
    "5. What are the two lines that your program must have in order to have logging.debug() send a logging message to a file named programLog.txt?\n",
    "\n",
    "6. What are the five levels of logging?\n",
    "\n",
    "7. What line of code would you add to your software to disable all logging messages?\n",
    "\n",
    "8. Why is using logging messages better than using print() to display the same message?\n",
    "\n",
    "9. What are the differences between the Step Over, Step In, and Step Out buttons in the debugger?\n",
    "\n",
    "10. After you click Continue, when will the debugger stop ?\n",
    "\n",
    "11. What is the concept of a breakpoint?"
   ]
  },
  {
   "cell_type": "markdown",
   "id": "3ee719e6",
   "metadata": {},
   "source": [
    "# ANSWERS:"
   ]
  },
  {
   "cell_type": "markdown",
   "id": "a75b4cd1",
   "metadata": {},
   "source": [
    "    1). assert spam > 0 , 'The variable spam is a negative integer.'"
   ]
  },
  {
   "cell_type": "markdown",
   "id": "efcb456e",
   "metadata": {},
   "source": [
    "    2). assert eggs.lower() != bacon.lower(), 'The variables eggs and bacon are the same!' or assert eggs.upper() != bacon.upper(), 'The variables eggs and bacon are the same!'"
   ]
  },
  {
   "cell_type": "markdown",
   "id": "d3596b5f",
   "metadata": {},
   "source": [
    "    3).  assert False, 'This assertion always throw an assertion error.'"
   ]
  },
  {
   "cell_type": "markdown",
   "id": "9c3ff59f",
   "metadata": {},
   "source": [
    "    4). import logging\n",
    "    \n",
    "        logging.basicConfig(level = logging.DEBUG, format=' %(asctime)s - %(levelname)s -  %(message)s')"
   ]
  },
  {
   "cell_type": "markdown",
   "id": "a1742218",
   "metadata": {},
   "source": [
    "    5). import logging\n",
    "\n",
    "        logging.basicConfig(filename = 'programLog.txt', level = logging.DEBUG, format=' %(asctime)s - %(levelname)s -  %(message)s') "
   ]
  },
  {
   "cell_type": "markdown",
   "id": "3ec8e9a2",
   "metadata": {},
   "source": [
    "    6).  DEBUG,INFO,WARNING,ERROR,CRITICAL"
   ]
  },
  {
   "cell_type": "markdown",
   "id": "03274955",
   "metadata": {},
   "source": [
    "    7). logging.disable(logging.CRITICAL)"
   ]
  },
  {
   "cell_type": "markdown",
   "id": "2611f4fe",
   "metadata": {},
   "source": [
    "    8). there are many reasons. first logging messages gives timestamp where print statement does not.\n",
    "    \n",
    "        We can disable low_level logging messages and also we can logging messages without removing\n",
    "        \n",
    "        logging function calls."
   ]
  },
  {
   "cell_type": "markdown",
   "id": "5830d87f",
   "metadata": {},
   "source": [
    "    9). The Step button will move the debugger to the function call. The Over button execute the \n",
    "    \n",
    "        function call without stepping on to it . The Out button executes the rest of the code\n",
    "        \n",
    "        until it steps out of the current function ."
   ]
  },
  {
   "cell_type": "markdown",
   "id": "d244422a",
   "metadata": {},
   "source": [
    "    10). After clicking Go, the debugger will stop only it reached the end of the program or \n",
    "    \n",
    "        a command line with a breakpoint."
   ]
  },
  {
   "cell_type": "markdown",
   "id": "0ae165d8",
   "metadata": {},
   "source": [
    "    11).  A breakpoint is nothing but a setting in a line of code when the debugger reaches the line\n",
    "    \n",
    "        breakpoint will help to stop the debugger."
   ]
  }
 ],
 "metadata": {
  "kernelspec": {
   "display_name": "Python 3 (ipykernel)",
   "language": "python",
   "name": "python3"
  },
  "language_info": {
   "codemirror_mode": {
    "name": "ipython",
    "version": 3
   },
   "file_extension": ".py",
   "mimetype": "text/x-python",
   "name": "python",
   "nbconvert_exporter": "python",
   "pygments_lexer": "ipython3",
   "version": "3.9.7"
  }
 },
 "nbformat": 4,
 "nbformat_minor": 5
}
