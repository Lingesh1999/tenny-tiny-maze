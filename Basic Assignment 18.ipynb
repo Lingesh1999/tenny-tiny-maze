{
 "cells": [
  {
   "cell_type": "markdown",
   "id": "6d4bb1ea",
   "metadata": {},
   "source": [
    "# QUESTIONS:"
   ]
  },
  {
   "cell_type": "markdown",
   "id": "5db208cd",
   "metadata": {},
   "source": [
    "1. Create a zoo.py file first. Define the hours() function, which prints the string 'Open 9-5 daily'. Then, use the interactive interpreter to import the zoo module and call its hours() function.\n",
    "\n",
    "2. In the interactive interpreter, import the zoo module as menagerie and call its hours() function.\n",
    "\n",
    "3. Using the interpreter, explicitly import and call the hours() function from zoo.\n",
    "\n",
    "4. Import the hours() function as info and call it.\n",
    "\n",
    "5. Create a plain dictionary with the key-value pairs 'a': 1, 'b': 2, and 'c': 3, and print it out.\n",
    "\n",
    "6. Make an OrderedDict called fancy from the same pairs listed in 5 and print it. Did it print in the same order as plain?\n",
    "\n",
    "7. Make a default dictionary called dict_of_lists and pass it the argument list. Make the list dict_of_lists['a'] and append the value 'something for a' to it in one assignment. Print dict_of_lists['a']."
   ]
  },
  {
   "cell_type": "markdown",
   "id": "72deaf02",
   "metadata": {},
   "source": [
    "# ANSWERS:"
   ]
  },
  {
   "cell_type": "code",
   "execution_count": 1,
   "id": "25055fd9",
   "metadata": {},
   "outputs": [
    {
     "name": "stdout",
     "output_type": "stream",
     "text": [
      "Open 9-5 daily.\n"
     ]
    }
   ],
   "source": [
    "#1). import the zoo module and call it hours() function :\n",
    "\n",
    "import zoo\n",
    "\n",
    "zoo.hours()"
   ]
  },
  {
   "cell_type": "code",
   "execution_count": 2,
   "id": "fba2aa6e",
   "metadata": {},
   "outputs": [
    {
     "name": "stdout",
     "output_type": "stream",
     "text": [
      "Open 9-5 daily.\n"
     ]
    }
   ],
   "source": [
    "#2). import zoo module as menagerie :\n",
    "\n",
    "import zoo as menagerie\n",
    "\n",
    "menagerie.hours()"
   ]
  },
  {
   "cell_type": "code",
   "execution_count": 4,
   "id": "ac725d12",
   "metadata": {},
   "outputs": [
    {
     "name": "stdout",
     "output_type": "stream",
     "text": [
      "Open 9-5 daily.\n"
     ]
    }
   ],
   "source": [
    "#3). import hours() function from zoo : \n",
    "\n",
    "from zoo import hours\n",
    "\n",
    "hours()"
   ]
  },
  {
   "cell_type": "code",
   "execution_count": 5,
   "id": "a73112be",
   "metadata": {},
   "outputs": [
    {
     "name": "stdout",
     "output_type": "stream",
     "text": [
      "Open 9-5 daily.\n"
     ]
    }
   ],
   "source": [
    "#4).\n",
    "\n",
    "from zoo import hours as info\n",
    "\n",
    "info()"
   ]
  },
  {
   "cell_type": "code",
   "execution_count": 6,
   "id": "6b7af297",
   "metadata": {},
   "outputs": [
    {
     "data": {
      "text/plain": [
       "{'a': 1, 'b': 2, 'c': 3}"
      ]
     },
     "execution_count": 6,
     "metadata": {},
     "output_type": "execute_result"
    }
   ],
   "source": [
    "#5). \n",
    "\n",
    "plain = {\"a\" : 1, \"b\" : 2, \"c\" : 3}\n",
    "\n",
    "plain"
   ]
  },
  {
   "cell_type": "code",
   "execution_count": 7,
   "id": "917466c1",
   "metadata": {},
   "outputs": [
    {
     "data": {
      "text/plain": [
       "OrderedDict([('a', 1), ('b', 2), ('c', 3)])"
      ]
     },
     "execution_count": 7,
     "metadata": {},
     "output_type": "execute_result"
    }
   ],
   "source": [
    "#6). \n",
    "\n",
    "from collections import OrderedDict\n",
    "\n",
    "fancy = OrderedDict([(\"a\",1), (\"b\",2), (\"c\",3)])\n",
    "\n",
    "fancy"
   ]
  },
  {
   "cell_type": "code",
   "execution_count": 9,
   "id": "17fa1686",
   "metadata": {},
   "outputs": [
    {
     "data": {
      "text/plain": [
       "['something for a']"
      ]
     },
     "execution_count": 9,
     "metadata": {},
     "output_type": "execute_result"
    }
   ],
   "source": [
    "#7). \n",
    "\n",
    "from collections import defaultdict\n",
    "\n",
    "dict_of_lists = defaultdict(list)\n",
    "\n",
    "dict_of_lists[\"a\"].append(\"something for a\")\n",
    "\n",
    "dict_of_lists[\"a\"]"
   ]
  }
 ],
 "metadata": {
  "kernelspec": {
   "display_name": "Python 3 (ipykernel)",
   "language": "python",
   "name": "python3"
  },
  "language_info": {
   "codemirror_mode": {
    "name": "ipython",
    "version": 3
   },
   "file_extension": ".py",
   "mimetype": "text/x-python",
   "name": "python",
   "nbconvert_exporter": "python",
   "pygments_lexer": "ipython3",
   "version": "3.9.7"
  }
 },
 "nbformat": 4,
 "nbformat_minor": 5
}
