{
 "cells": [
  {
   "cell_type": "markdown",
   "id": "c07675ce",
   "metadata": {},
   "source": [
    "# QUESTIONS:"
   ]
  },
  {
   "cell_type": "markdown",
   "id": "f81d2985",
   "metadata": {},
   "source": [
    "1. What is the name of the feature responsible for generating Regex objects?\n",
    "\n",
    "2. Why do raw strings often appear in Regex objects?\n",
    "\n",
    "3. What is the return value of the search() method?\n",
    "\n",
    "4. From a Match item, how do you get the actual strings that match the pattern?\n",
    "\n",
    "5. In the regex which created from the r'(\\d\\d\\d)-(\\d\\d\\d-\\d\\d\\d\\d)', what does group zero cover? Group 2? Group 1?\n",
    "\n",
    "6. In standard expression syntax, parentheses and intervals have distinct meanings. How can you tell a regex that you \n",
    "    want it to fit real parentheses and periods?\n",
    "\n",
    "7. The findall() method returns a string list or a list of string tuples. What causes it to return one of the two options?\n",
    "\n",
    "8. In standard expressions, what does the | character mean?\n",
    "\n",
    "9. In regular expressions, what does the character stand for?\n",
    "\n",
    "10. In regular expressions, what is the difference between the + and * characters?\n",
    "\n",
    "11. What is the difference between {4} and {4,5} in regular expression?\n",
    "\n",
    "12. What do you mean by the \\d, \\w, and \\s shorthand character classes signify in regular expressions?\n",
    "\n",
    "13. What do means by \\D, \\W, and \\S shorthand character classes signify in regular expressions?\n",
    "\n",
    "14. What is the difference between .*? and .*?\n",
    "\n",
    "15. What is the syntax for matching both numbers and lowercase letters with a character class?\n",
    "\n",
    "16. What is the procedure for making a normal expression in regax case insensitive?\n",
    "\n",
    "17. What does the . character normally match? What does it match if re.DOTALL is passed as 2nd argument in \n",
    "    re.compile()?\n",
    "\n",
    "18. If numReg = re.compile(r'\\d+'), what will numRegex.sub('X', '11 drummers, 10 pipers, five rings, 4 hen') return?\n",
    "\n",
    "19. What does passing re.VERBOSE as the 2nd argument to re.compile() allow to do?\n",
    "\n",
    "20. How would you write a regex that match a number with comma for every three digits? It must match the given following:\n",
    "    '42'\n",
    "    '1,234'\n",
    "    '6,368,745'\n",
    "    but not the following:\n",
    "    '12,34,567' (which has only two digits between the commas)\n",
    "    '1234' (which lacks commas)\n",
    "\n",
    "21. How would you write a regex that matches the full name of someone whose last name is Watanabe? You can assume that the first name that comes before it will always be one word that begins with a capital letter. The regex must match the following:\n",
    "    'Haruto Watanabe'\n",
    "    'Alice Watanabe'\n",
    "    'RoboCop Watanabe'\n",
    "    but not the following:\n",
    "    'haruto Watanabe' (where the first name is not capitalized)\n",
    "    'Mr. Watanabe' (where the preceding word has a nonletter character)\n",
    "    'Watanabe' (which has no first name)\n",
    "    'Haruto watanabe' (where Watanabe is not capitalized)\n",
    "\n",
    "22. How would you write a regex that matches a sentence where the first word is either Alice, Bob, or Carol; the second word is either eats, pets, or throws; the third word is apples, cats, or baseballs; and the sentence ends with a period? This regex should be case-insensitive. It must match the following:\n",
    "    'Alice eats apples.'\n",
    "    'Bob pets cats.'\n",
    "    'Carol throws baseballs.'\n",
    "    'Alice throws Apples.'\n",
    "    'BOB EATS CATS.'\n",
    "    but not the following:\n",
    "    'RoboCop eats apples.'\n",
    "    'ALICE THROWS FOOTBALLS.'\n",
    "    'Carol eats 7 cats.'"
   ]
  },
  {
   "cell_type": "markdown",
   "id": "01efc171",
   "metadata": {},
   "source": [
    "# ANSWERS:"
   ]
  },
  {
   "cell_type": "markdown",
   "id": "37b1e23e",
   "metadata": {},
   "source": [
    "    1). To generate regex objects use the re.compile() function."
   ]
  },
  {
   "cell_type": "markdown",
   "id": "143a92a3",
   "metadata": {},
   "source": [
    "    2). Raw strings appears in regex objects because it prevents backslash objects to be escaped"
   ]
  },
  {
   "cell_type": "markdown",
   "id": "85f36498",
   "metadata": {},
   "source": [
    "    3).  The search() method returns match objects."
   ]
  },
  {
   "cell_type": "markdown",
   "id": "6efe3e10",
   "metadata": {},
   "source": [
    "    4). The group() method returns strings of the matched text."
   ]
  },
  {
   "cell_type": "markdown",
   "id": "de8f9e56",
   "metadata": {},
   "source": [
    "    5). group 0 covers the entire match, \n",
    "    \n",
    "        group 1 covers the first set of parenthesis, \n",
    "        \n",
    "        group 2 covers the second set of parenthesis."
   ]
  },
  {
   "cell_type": "markdown",
   "id": "b72102d5",
   "metadata": {},
   "source": [
    "    6). Periods and parentheses can be escaped with a backslash: \\., \\(, and \\)."
   ]
  },
  {
   "cell_type": "markdown",
   "id": "6f507aa4",
   "metadata": {},
   "source": [
    "    7). If the regex has no groups, a list of strings is returned. If the regex has groups, a list of tuples of               strings is returned.\n",
    "\n",
    " "
   ]
  },
  {
   "cell_type": "markdown",
   "id": "268e6982",
   "metadata": {},
   "source": [
    "    8). It means that \"either, or\" between two groups "
   ]
  },
  {
   "cell_type": "markdown",
   "id": "5db9c0c0",
   "metadata": {},
   "source": [
    "    9). The character ? stands for either mean “match zero or one of the preceding group” or be used to signify nongreedy matching."
   ]
  },
  {
   "cell_type": "markdown",
   "id": "f470f049",
   "metadata": {},
   "source": [
    "    10). The difference between + and * are :\n",
    "    \n",
    "        + matches one or more where * matches zero or more."
   ]
  },
  {
   "cell_type": "markdown",
   "id": "4d8e01c6",
   "metadata": {},
   "source": [
    "    11). The {4} matches exactly four instances of the preceding group. The {4,5} matches between four and five instances in regular expression."
   ]
  },
  {
   "cell_type": "markdown",
   "id": "a246f548",
   "metadata": {},
   "source": [
    "    12). \\d,\\w and \\s shorthand characters classes match a single digit, word, or space character."
   ]
  },
  {
   "cell_type": "markdown",
   "id": "4413250d",
   "metadata": {},
   "source": [
    "    13). \\D,\\W AND \\S shorthand characters classes match a single character which is not digit,word or space\n",
    "    \n",
    "    character."
   ]
  },
  {
   "cell_type": "markdown",
   "id": "3c517818",
   "metadata": {},
   "source": [
    "    14). Passing re.I or re.IGNORECASE as the second argument to re.compile() will make the matching case insensitive."
   ]
  },
  {
   "cell_type": "markdown",
   "id": "69c10e73",
   "metadata": {},
   "source": [
    "    15). The . character normally matches any character except the newline character. If re.DOTALL is passed as the second argument to re.compile(), then the dot will also match newline characters.\n",
    "    \n",
    "\n"
   ]
  },
  {
   "cell_type": "markdown",
   "id": "2d607e6d",
   "metadata": {},
   "source": [
    "    16). to make regax case insensitive , the .* performs a greedy match, and the .*? performs a nongreedy match."
   ]
  },
  {
   "cell_type": "markdown",
   "id": "45077db5",
   "metadata": {},
   "source": [
    "    17). The . character normally matches any character except the newline character. If re.DOTALL is passed as the second argument to re.compile(), then the dot will also match newline characters."
   ]
  },
  {
   "cell_type": "markdown",
   "id": "b00450c2",
   "metadata": {},
   "source": [
    "    18). 'X drummers, X pipers, five rings, X hens'"
   ]
  },
  {
   "cell_type": "markdown",
   "id": "036594e2",
   "metadata": {},
   "source": [
    "    19). The re.VERBOSE argument allows you to add whitespace and comments to the string passed to re.compile()."
   ]
  },
  {
   "cell_type": "markdown",
   "id": "8c0041e2",
   "metadata": {},
   "source": [
    "    20). re.compile(r'^\\d{1,3}(,\\d{3})*$')"
   ]
  },
  {
   "cell_type": "markdown",
   "id": "badb1251",
   "metadata": {},
   "source": [
    "    21). re.compile(r'[A-Z][a-z]*\\sNakamoto')"
   ]
  },
  {
   "cell_type": "markdown",
   "id": "9eebad44",
   "metadata": {},
   "source": [
    "    22). re.compile(r'(Alice|Bob|Carol)\\s(eats|pets|throws)\\s(apples|cats|baseballs)\\.', re.IGNORECASE)"
   ]
  }
 ],
 "metadata": {
  "kernelspec": {
   "display_name": "Python 3 (ipykernel)",
   "language": "python",
   "name": "python3"
  },
  "language_info": {
   "codemirror_mode": {
    "name": "ipython",
    "version": 3
   },
   "file_extension": ".py",
   "mimetype": "text/x-python",
   "name": "python",
   "nbconvert_exporter": "python",
   "pygments_lexer": "ipython3",
   "version": "3.9.7"
  }
 },
 "nbformat": 4,
 "nbformat_minor": 5
}
