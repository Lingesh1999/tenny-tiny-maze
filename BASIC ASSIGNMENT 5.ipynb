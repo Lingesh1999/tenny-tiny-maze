{
 "cells": [
  {
   "cell_type": "markdown",
   "id": "6ff6f237",
   "metadata": {},
   "source": [
    "# Questions"
   ]
  },
  {
   "cell_type": "markdown",
   "id": "619efa6a",
   "metadata": {},
   "source": [
    "1. What does an empty dictionary's code look like?\n",
    "\n",
    "2. What is the value of a dictionary value with the key 'foo' and the value 42?\n",
    "\n",
    "3. What is the most significant distinction between a dictionary and a list?\n",
    "\n",
    "4. What happens if you try to access spam['foo'] if spam is {'bar': 100}?\n",
    "\n",
    "5. If a dictionary is stored in spam, what is the difference between the expressions 'cat' in spam and 'cat' in spam.keys()?\n",
    "\n",
    "6. If a dictionary is stored in spam, what is the difference between the expressions 'cat' in spam and 'cat' in spam.values()?\n",
    "\n",
    "7. What is a shortcut for the following code?\n",
    "if 'color' not in spam:\n",
    "spam['color'] = 'black'\n",
    "\n",
    "8. How do you \"pretty print\" dictionary values using which module and function?\n"
   ]
  },
  {
   "cell_type": "markdown",
   "id": "cf46a9c8",
   "metadata": {},
   "source": [
    "# Answers"
   ]
  },
  {
   "cell_type": "markdown",
   "id": "dd6bc8ae",
   "metadata": {},
   "source": [
    "1. The empty dictionary code will look like {}(two curley brackets without any values)."
   ]
  },
  {
   "cell_type": "markdown",
   "id": "0fe00bd0",
   "metadata": {},
   "source": [
    "2. {'foo' : 42}"
   ]
  },
  {
   "cell_type": "markdown",
   "id": "92143146",
   "metadata": {},
   "source": [
    "3. Items in list are ordered whereas in dictionary items are unordered and values stored are in key value pair."
   ]
  },
  {
   "cell_type": "markdown",
   "id": "ce5711a2",
   "metadata": {},
   "source": [
    "4. In spam there is 'bar' not 'foo'. so if we call 'foo' we get an KeyError error."
   ]
  },
  {
   "cell_type": "markdown",
   "id": "f80c659c",
   "metadata": {},
   "source": [
    "5. There is no difference basically the (in) operator checks whether a value exists as a key in the dictionary."
   ]
  },
  {
   "cell_type": "markdown",
   "id": "05246041",
   "metadata": {},
   "source": [
    "6. 'cat' in spam checks whether there is a 'cat' key in the dictionary.\n",
    "\n",
    "'cat' in spam.values() checks whether one of the keys in spam has a value named 'cat'."
   ]
  },
  {
   "cell_type": "markdown",
   "id": "4749bc24",
   "metadata": {},
   "source": [
    "7. spam.setdefault(\"color\" : \"black\") is the shorcut for the code."
   ]
  },
  {
   "cell_type": "markdown",
   "id": "417fbda2",
   "metadata": {},
   "source": [
    "8. pprint.pprint() is used to \"pretty print\" dictionary values."
   ]
  }
 ],
 "metadata": {
  "kernelspec": {
   "display_name": "Python 3 (ipykernel)",
   "language": "python",
   "name": "python3"
  },
  "language_info": {
   "codemirror_mode": {
    "name": "ipython",
    "version": 3
   },
   "file_extension": ".py",
   "mimetype": "text/x-python",
   "name": "python",
   "nbconvert_exporter": "python",
   "pygments_lexer": "ipython3",
   "version": "3.9.7"
  }
 },
 "nbformat": 4,
 "nbformat_minor": 5
}
