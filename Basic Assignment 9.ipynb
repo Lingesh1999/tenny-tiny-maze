{
 "cells": [
  {
   "cell_type": "markdown",
   "id": "010e6350",
   "metadata": {},
   "source": [
    "# QUESTIONS:"
   ]
  },
  {
   "cell_type": "markdown",
   "id": "d39a4381",
   "metadata": {},
   "source": [
    "1. To what does a relative path refer?\n",
    "\n",
    "2. What does an absolute path start with your operating system?\n",
    "\n",
    "3. What do the functions os.getcwd() and os.chdir() do?\n",
    "\n",
    "4. What are the . and .. folders?\n",
    "\n",
    "5. In C:\\bacon\\eggs\\spam.txt, which part is the dir name, and which part is the base name?\n",
    "\n",
    "6. What are the three “mode” arguments that can be passed to the open() function?\n",
    "\n",
    "7. What happens if an existing file is opened in write mode?\n",
    "\n",
    "8. How do you tell the difference between read() and readlines()?\n",
    "\n",
    "9. What data structure does a shelf value resemble?"
   ]
  },
  {
   "cell_type": "markdown",
   "id": "bab5e4a6",
   "metadata": {},
   "source": [
    "# ANSWERS:"
   ]
  },
  {
   "cell_type": "markdown",
   "id": "e27e7ebf",
   "metadata": {},
   "source": [
    "    1). Realtive paths refer to the relative to the current working directory(cwd)."
   ]
  },
  {
   "cell_type": "markdown",
   "id": "53861c08",
   "metadata": {},
   "source": [
    "    2). Absolute paths start with a root folder such as C:\\ or /"
   ]
  },
  {
   "cell_type": "markdown",
   "id": "92fe1050",
   "metadata": {},
   "source": [
    "    3). os.getcwd() gets the current working directory while os.chdir() changes the current working directory."
   ]
  },
  {
   "cell_type": "markdown",
   "id": "9ea45675",
   "metadata": {},
   "source": [
    "    4). The . folder refers to current folder while .. folder refers parent folder."
   ]
  },
  {
   "cell_type": "markdown",
   "id": "6f36382f",
   "metadata": {},
   "source": [
    "    5).  C:\\bacon\\eggs is the directory name where spam.txt is the base name."
   ]
  },
  {
   "cell_type": "markdown",
   "id": "83d6181c",
   "metadata": {},
   "source": [
    "    6). The three modes can be passed are \"r\" means read mode, \"w\" means write mode \n",
    "    \n",
    "    and \"a\" means append mode."
   ]
  },
  {
   "cell_type": "markdown",
   "id": "df90a387",
   "metadata": {},
   "source": [
    "    7). The existing file will be erased and overwritten completely."
   ]
  },
  {
   "cell_type": "markdown",
   "id": "be77de67",
   "metadata": {},
   "source": [
    "    8). The read() method returns the file’s entire contents as a single string value. The readlines() method returns a list of strings, where each string is a line from the file’s contents."
   ]
  },
  {
   "cell_type": "markdown",
   "id": "da33426d",
   "metadata": {},
   "source": [
    "    9). A shelf value resembles a dictionary value; it has keys and values, along with keys() and values() methods that work similarly to the dictionary methods of the same names."
   ]
  }
 ],
 "metadata": {
  "kernelspec": {
   "display_name": "Python 3 (ipykernel)",
   "language": "python",
   "name": "python3"
  },
  "language_info": {
   "codemirror_mode": {
    "name": "ipython",
    "version": 3
   },
   "file_extension": ".py",
   "mimetype": "text/x-python",
   "name": "python",
   "nbconvert_exporter": "python",
   "pygments_lexer": "ipython3",
   "version": "3.9.7"
  }
 },
 "nbformat": 4,
 "nbformat_minor": 5
}
