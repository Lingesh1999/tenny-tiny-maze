{
 "cells": [
  {
   "cell_type": "markdown",
   "id": "1c06d8dd",
   "metadata": {},
   "source": [
    "# QUESTIONS:"
   ]
  },
  {
   "cell_type": "markdown",
   "id": "aa08c039",
   "metadata": {},
   "source": [
    "1. Create a function in python to read the text file \n",
    "   and replace specific content of the file.\n",
    "\n",
    "    File name  -- >   example.txt\n",
    "\n",
    "    Origin file content -->  This is a placement assignment.\n",
    "\n",
    "    Replace string  --> Placement should be replaced by screening.\n",
    "\n",
    "    Replaced file content -->  This is a screening assignment.\n",
    "\n",
    "\n",
    "2. Demonstrate use of abstract class, multiple inheritance and decorator in python using        examples."
   ]
  },
  {
   "cell_type": "markdown",
   "id": "e30ae755",
   "metadata": {},
   "source": [
    "# solution for question 1:"
   ]
  },
  {
   "cell_type": "code",
   "execution_count": 1,
   "id": "d2d2a9f8",
   "metadata": {},
   "outputs": [],
   "source": [
    "#1). create a function to read a text file and replace the content in it:\n",
    "\n",
    "# First --> we need to make sure the file is already exists in the project folder\n",
    "\n",
    "# Second -- > Create a file name example.txt and add the origin contents in it:\n",
    "\n",
    "from os import path\n",
    "\n",
    "def creation():\n",
    "\n",
    "    if path.exists(\"example.txt\") == False:\n",
    "    \n",
    "        a = open(\"example.txt\",\"w+\")\n",
    "\n",
    "        a.write(\"This is a placement assignment.\")\n",
    "    \n",
    "        a.close()\n",
    "    \n",
    "    \n",
    "creation()"
   ]
  },
  {
   "cell_type": "code",
   "execution_count": 2,
   "id": "a0ab62e6",
   "metadata": {},
   "outputs": [
    {
     "name": "stdout",
     "output_type": "stream",
     "text": [
      "This is a placement assignment.\n"
     ]
    }
   ],
   "source": [
    "#now before replacing the content make sure the content is present or not:\n",
    "\n",
    "with open('example.txt', \"r\") as f:\n",
    "    \n",
    "    content = f.read()\n",
    "    \n",
    "    print(content)"
   ]
  },
  {
   "cell_type": "code",
   "execution_count": 3,
   "id": "edefbbb0",
   "metadata": {},
   "outputs": [],
   "source": [
    "# now using function we read the file and replace the contents in it:\n",
    "\n",
    "def replace_content():\n",
    "        \n",
    "        try:\n",
    "            if path.exists(\"example.txt\") == True:\n",
    "                with open(\"example.txt\", \"r\") as b: # we are using with open so no need to close the file it closes automatically.\n",
    "                    c = b.read()\n",
    "                    c = c.replace(\"placement\",\"screening\")\n",
    "                with open(\"example.txt\", \"w\") as b:\n",
    "                    b.write(c)\n",
    "            else:\n",
    "                pass\n",
    "        \n",
    "        except IOError as e:\n",
    "            print(\"File is not found\")\n",
    "            \n",
    "            \n",
    "replace_content()"
   ]
  },
  {
   "cell_type": "code",
   "execution_count": 4,
   "id": "ae0fd39f",
   "metadata": {},
   "outputs": [
    {
     "name": "stdout",
     "output_type": "stream",
     "text": [
      "This is a screening assignment.\n"
     ]
    }
   ],
   "source": [
    "#now check the content whether is changed or not:\n",
    "\n",
    "with open(\"example.txt\", \"r\") as f:\n",
    "    \n",
    "    replaced_content = f.read()\n",
    "    \n",
    "    print(replaced_content) # we replaced the text successfully."
   ]
  },
  {
   "cell_type": "markdown",
   "id": "7a3958a1",
   "metadata": {},
   "source": [
    "# solution for question 2:"
   ]
  },
  {
   "cell_type": "markdown",
   "id": "73c2547b",
   "metadata": {},
   "source": [
    "A class which does not instantiated is known as abstract class. But we can create class that \n",
    "\n",
    "can inherit from the abstract class. Abstract class is used to create blueprint for other\n",
    "\n",
    "classes. In python we use (abc) module to create abstract class.\n",
    "\n",
    "Multiple Inheritance :\n",
    "\n",
    "The ability of a class to inherit more than one class is called Multiple Inheritance.\n",
    "\n",
    "Decorator:\n",
    "\n",
    "A decorator is a function that changes the behavior of another function without explicitly \n",
    "\n",
    "modifying it. we can use @ symbol to decorate a function."
   ]
  },
  {
   "cell_type": "code",
   "execution_count": 6,
   "id": "c7de8863",
   "metadata": {},
   "outputs": [
    {
     "name": "stdout",
     "output_type": "stream",
     "text": [
      "hello there\n",
      "\n",
      "Hey there\n"
     ]
    }
   ],
   "source": [
    "# multiple inheritance:\n",
    "\n",
    "class Parent1:\n",
    "\n",
    "    def welcome(self):\n",
    "        print(\"hello there\")\n",
    "        print()\n",
    "\n",
    "        \n",
    "class Parent2:\n",
    "\n",
    "    def greetings(self):\n",
    "        print(\"Hey there\")\n",
    "\n",
    "\n",
    "class parent3(Parent1, Parent2):\n",
    "    pass\n",
    "\n",
    "\n",
    "#with help of multiple inheritance parent 3 has control over all methods in parent 1 and 2.\n",
    "\n",
    "x = parent3() # x is the object created using the parent 3\n",
    "\n",
    "x.welcome()\n",
    "\n",
    "x.greetings()"
   ]
  },
  {
   "cell_type": "code",
   "execution_count": 14,
   "id": "686d93e6",
   "metadata": {},
   "outputs": [
    {
     "name": "stdout",
     "output_type": "stream",
     "text": [
      "I am going to divide 12 and 24\n",
      "The Result is 0.5.\n",
      "\n",
      "I am going to divide 12 and 0\n",
      "Whoops! cannot divide\n"
     ]
    }
   ],
   "source": [
    "#decorators:\n",
    "\n",
    "def smart_divide(func):\n",
    "    def inner(a, b):\n",
    "        print(f\"I am going to divide {a} and {b}\")\n",
    "        if b == 0:\n",
    "            print(\"Whoops! cannot divide\")\n",
    "            return\n",
    "\n",
    "        return func(a, b)\n",
    "    return inner\n",
    "\n",
    "\n",
    "@smart_divide\n",
    "def divide(a, b):\n",
    "    \n",
    "    print(f\"The Result is {a/b}.\")\n",
    "    print()\n",
    "    \n",
    "    \n",
    "divide(12,24)\n",
    "divide(12,0)"
   ]
  },
  {
   "cell_type": "code",
   "execution_count": 22,
   "id": "4fac1d56",
   "metadata": {},
   "outputs": [
    {
     "name": "stdout",
     "output_type": "stream",
     "text": [
      "The addition of two numbers is 6.\n",
      "\n",
      "The addition of two numbers is -4.\n",
      "\n",
      "The addition of two numbers is 5.\n",
      "\n",
      "Can't instantiate abstract class Numbers with abstract method calculation\n"
     ]
    }
   ],
   "source": [
    "#abstract class:\n",
    "\n",
    "#we need to import abc module to use abstract class in python:\n",
    "\n",
    "#In this example we use inheritance and abstract method decorator also:\n",
    "\n",
    "from abc import ABC, abstractmethod\n",
    "\n",
    "class Numbers(ABC):\n",
    "    \n",
    "    @abstractmethod\n",
    "    def calculation(self):\n",
    "        pass\n",
    "    \n",
    "class Addition(Numbers): \n",
    "    \n",
    "    def calculation(self,a,b):\n",
    "        print(f\"The addition of two numbers is {a+b}.\")\n",
    "        print()\n",
    "\n",
    "class Subtraction(Numbers):\n",
    "    \n",
    "    def calculation(self,a,b):\n",
    "        print(f\"The addition of two numbers is {a-b}.\")\n",
    "        print()\n",
    "        \n",
    "class Multiplication(Numbers):\n",
    "    \n",
    "    def calculation(self,a,b):\n",
    "        print(f\"The addition of two numbers is {a*b}.\")\n",
    "        print()\n",
    "\n",
    "x = Addition()\n",
    "y = Subtraction()\n",
    "z = Multiplication()\n",
    "\n",
    "x.calculation(1,5)\n",
    "y.calculation(1,5)\n",
    "z.calculation(1,5)\n",
    "\n",
    "# when try creating an object using the Numbers class it throws error because \n",
    "# an class without instantiation is known as abstract class.\n",
    "\n",
    "try:\n",
    "    z1 = Numbers()\n",
    "except Exception as e:\n",
    "    print(e)"
   ]
  },
  {
   "cell_type": "code",
   "execution_count": null,
   "id": "9213ec1a",
   "metadata": {},
   "outputs": [],
   "source": []
  },
  {
   "cell_type": "code",
   "execution_count": null,
   "id": "1a7d760b",
   "metadata": {},
   "outputs": [],
   "source": []
  },
  {
   "cell_type": "code",
   "execution_count": null,
   "id": "aaca4d53",
   "metadata": {},
   "outputs": [],
   "source": []
  },
  {
   "cell_type": "code",
   "execution_count": null,
   "id": "f3cef328",
   "metadata": {},
   "outputs": [],
   "source": []
  },
  {
   "cell_type": "code",
   "execution_count": null,
   "id": "2e1b734c",
   "metadata": {},
   "outputs": [],
   "source": []
  },
  {
   "cell_type": "code",
   "execution_count": null,
   "id": "ac8e12d9",
   "metadata": {},
   "outputs": [],
   "source": []
  },
  {
   "cell_type": "code",
   "execution_count": null,
   "id": "dd1151d4",
   "metadata": {},
   "outputs": [],
   "source": []
  },
  {
   "cell_type": "code",
   "execution_count": null,
   "id": "061f19cb",
   "metadata": {},
   "outputs": [],
   "source": []
  },
  {
   "cell_type": "code",
   "execution_count": null,
   "id": "812a2725",
   "metadata": {},
   "outputs": [],
   "source": []
  },
  {
   "cell_type": "code",
   "execution_count": null,
   "id": "6afb9c15",
   "metadata": {},
   "outputs": [],
   "source": []
  },
  {
   "cell_type": "code",
   "execution_count": null,
   "id": "2c78e428",
   "metadata": {},
   "outputs": [],
   "source": []
  },
  {
   "cell_type": "code",
   "execution_count": null,
   "id": "1b567e20",
   "metadata": {},
   "outputs": [],
   "source": []
  },
  {
   "cell_type": "code",
   "execution_count": null,
   "id": "fc63e7b9",
   "metadata": {},
   "outputs": [],
   "source": []
  },
  {
   "cell_type": "code",
   "execution_count": null,
   "id": "8fdc13be",
   "metadata": {},
   "outputs": [],
   "source": []
  },
  {
   "cell_type": "code",
   "execution_count": null,
   "id": "16542082",
   "metadata": {},
   "outputs": [],
   "source": []
  }
 ],
 "metadata": {
  "kernelspec": {
   "display_name": "Python 3 (ipykernel)",
   "language": "python",
   "name": "python3"
  },
  "language_info": {
   "codemirror_mode": {
    "name": "ipython",
    "version": 3
   },
   "file_extension": ".py",
   "mimetype": "text/x-python",
   "name": "python",
   "nbconvert_exporter": "python",
   "pygments_lexer": "ipython3",
   "version": "3.9.7"
  }
 },
 "nbformat": 4,
 "nbformat_minor": 5
}
