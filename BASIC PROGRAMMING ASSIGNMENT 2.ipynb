{
 "cells": [
  {
   "cell_type": "markdown",
   "id": "0d84e1b3",
   "metadata": {},
   "source": [
    "# QUESTIONS"
   ]
  },
  {
   "cell_type": "markdown",
   "id": "e649f4c9",
   "metadata": {},
   "source": [
    "\n",
    "1.Write a Python program to convert kilometers to miles?\n",
    "\n",
    "2.Write a Python program to convert Celsius to Fahrenheit?\n",
    "\n",
    "3.Write a Python program to display calendar?\n",
    "\n",
    "4.Write a Python program to solve quadratic equation?\n",
    "\n",
    "5.Write a Python program to swap two variables without temp variable?\n"
   ]
  },
  {
   "cell_type": "markdown",
   "id": "c0c90ff1",
   "metadata": {},
   "source": [
    "# ANSWERS"
   ]
  },
  {
   "cell_type": "code",
   "execution_count": 2,
   "id": "7553fdd8",
   "metadata": {},
   "outputs": [
    {
     "name": "stdout",
     "output_type": "stream",
     "text": [
      "enter the value in kilometers : 10\n",
      "6.2137119 miles is equal to 10.0 kilometers.\n"
     ]
    }
   ],
   "source": [
    "# first question's answer\n",
    "\n",
    "kilometers = float(input(\"enter the value in kilometers : \"))\n",
    "\n",
    "x = 0.62137119 # 1 mile is equal to 0.62137119 kilometers\n",
    "\n",
    "miles = kilometers * x\n",
    "\n",
    "print(f\"{miles} miles is equal to {kilometers} kilometers.\")"
   ]
  },
  {
   "cell_type": "code",
   "execution_count": 3,
   "id": "d6c4318b",
   "metadata": {},
   "outputs": [
    {
     "name": "stdout",
     "output_type": "stream",
     "text": [
      "enter the value in celsius : 20\n",
      "20.0 celsius is equal to 68.0 fahrenheit.\n"
     ]
    }
   ],
   "source": [
    "# second question's answer\n",
    "\n",
    "celsius = float(input(\"enter the value in celsius : \"))\n",
    "\n",
    "fahrenheit = (celsius * 1.8) + 32 # original formula is fahrenheit - 32 = celsius * 1.8 .\n",
    "\n",
    "print(f\"{celsius} celsius is equal to {fahrenheit} fahrenheit.\")"
   ]
  },
  {
   "cell_type": "code",
   "execution_count": 8,
   "id": "9dbe875f",
   "metadata": {},
   "outputs": [
    {
     "name": "stdout",
     "output_type": "stream",
     "text": [
      "enter the month : 12\n",
      "enter the year : 2021\n",
      "   December 2021\n",
      "Mo Tu We Th Fr Sa Su\n",
      "       1  2  3  4  5\n",
      " 6  7  8  9 10 11 12\n",
      "13 14 15 16 17 18 19\n",
      "20 21 22 23 24 25 26\n",
      "27 28 29 30 31\n",
      "\n"
     ]
    }
   ],
   "source": [
    "# third question's answer\n",
    "\n",
    "import calendar # to print calendar using calendar inbuilt module\n",
    "\n",
    "x = int(input(\"enter the month : \"))\n",
    "\n",
    "y = int(input(\"enter the year : \"))\n",
    "\n",
    "print(calendar.month(y, x))"
   ]
  },
  {
   "cell_type": "code",
   "execution_count": 15,
   "id": "94b8517c",
   "metadata": {},
   "outputs": [
    {
     "name": "stdout",
     "output_type": "stream",
     "text": [
      "enter the number : 7\n",
      "enter the number : 8\n",
      "enter the number : 9\n",
      "(-0.5714285714285714-0.9793792286287205j)\n",
      "(-0.5714285714285714+0.9793792286287205j)\n"
     ]
    }
   ],
   "source": [
    "# fourth question's answer\n",
    "\n",
    "import cmath # cmath is complex math module is used for complex numbers.\n",
    "\n",
    "a = int(input(\"enter the number : \"))\n",
    "\n",
    "b= int(input(\"enter the number : \"))\n",
    "\n",
    "c= int(input(\"enter the number : \"))\n",
    "\n",
    "d = (b**2) - (4*a*c)\n",
    "\n",
    "answer1 = (-b-cmath.sqrt(d))/(2*a) # in quadratic equation basically two solutions + or - in complex number\n",
    "\n",
    "answer2 = (-b+cmath.sqrt(d))/(2*a)\n",
    "\n",
    "print(answer1)\n",
    "\n",
    "print(answer2)"
   ]
  },
  {
   "cell_type": "code",
   "execution_count": 10,
   "id": "ec0ec1c7",
   "metadata": {},
   "outputs": [
    {
     "name": "stdout",
     "output_type": "stream",
     "text": [
      "enter the number : 23\n",
      "enter the number  : 89\n",
      "After swapping two variables : \n",
      "89.0\n",
      "23.0\n"
     ]
    }
   ],
   "source": [
    "# fifth question's answer\n",
    "\n",
    "# we can solve this question using a third variable\n",
    "\n",
    "a = float(input(\"enter the number : \"))\n",
    "\n",
    "b = float(input(\"enter the number  : \"))\n",
    "\n",
    "print(\"After swapping two variables : \")\n",
    "\n",
    "c = a\n",
    "\n",
    "a = b\n",
    "\n",
    "b = c\n",
    "\n",
    "print(a)\n",
    "\n",
    "print(b)"
   ]
  }
 ],
 "metadata": {
  "kernelspec": {
   "display_name": "Python 3 (ipykernel)",
   "language": "python",
   "name": "python3"
  },
  "language_info": {
   "codemirror_mode": {
    "name": "ipython",
    "version": 3
   },
   "file_extension": ".py",
   "mimetype": "text/x-python",
   "name": "python",
   "nbconvert_exporter": "python",
   "pygments_lexer": "ipython3",
   "version": "3.9.7"
  }
 },
 "nbformat": 4,
 "nbformat_minor": 5
}
