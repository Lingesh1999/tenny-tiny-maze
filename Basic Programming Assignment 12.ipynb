{
 "cells": [
  {
   "cell_type": "markdown",
   "id": "3a239e6c",
   "metadata": {},
   "source": [
    "# QUESTIONS:"
   ]
  },
  {
   "cell_type": "markdown",
   "id": "f423576a",
   "metadata": {},
   "source": [
    "1. Write a Python program to Extract Unique values dictionary values?\n",
    "\n",
    "2. Write a Python program to find the sum of all items in a dictionary?\n",
    "\n",
    "3. Write a Python program to Merging two Dictionaries?\n",
    "\n",
    "4. Write a Python program to convert key-values list to flat dictionary?\n",
    "\n",
    "5. Write a Python program to insertion at the beginning in OrderedDict?\n",
    "\n",
    "6. Write a Python program to check order of character in string using OrderedDict()?\n",
    "\n",
    "7. Write a Python program to sort Python Dictionaries by Key or Value?"
   ]
  },
  {
   "cell_type": "markdown",
   "id": "e9b5dded",
   "metadata": {},
   "source": [
    "# ANSWERS:"
   ]
  },
  {
   "cell_type": "code",
   "execution_count": 2,
   "id": "1c4a6449",
   "metadata": {},
   "outputs": [
    {
     "name": "stdout",
     "output_type": "stream",
     "text": [
      "[1, 2, 3, 4, 5, 6, 7, 8, 10, 11, 12]\n"
     ]
    }
   ],
   "source": [
    "#1). extract unique values dictionary values :\n",
    "\n",
    "a = {'apple' : [1,2,3,4,5],\n",
    "             'ant' : [10, 11, 7, 5],\n",
    "             'aeroplane' : [6, 12, 10, 8],\n",
    "             'air' : [3,5,7,8]}\n",
    "\n",
    "b = (sorted({j for i in a.values() for j in i}))\n",
    "\n",
    "print(b)"
   ]
  },
  {
   "cell_type": "code",
   "execution_count": 7,
   "id": "42e246f2",
   "metadata": {},
   "outputs": [
    {
     "name": "stdout",
     "output_type": "stream",
     "text": [
      "Total :  400\n"
     ]
    }
   ],
   "source": [
    "#2). sum of all items in a dictionary : \n",
    "\n",
    "a = {'apple' : 200,\n",
    "             'banana' : 25,\n",
    "             'pineapple' : 75,\n",
    "             'orange' : 100}\n",
    "\n",
    "l1 = []\n",
    "\n",
    "for i in a.values():\n",
    "    l1.append(i)\n",
    "print(\"Total : \",sum(l1))"
   ]
  },
  {
   "cell_type": "code",
   "execution_count": 8,
   "id": "05e7caac",
   "metadata": {},
   "outputs": [
    {
     "name": "stdout",
     "output_type": "stream",
     "text": [
      "{'a': 25, 'b': 40, 'c': 30, 'd': 12}\n"
     ]
    }
   ],
   "source": [
    "#3) . program to merge two dictionaries : \n",
    "\n",
    "def Merge(dict1, dict2):\n",
    "    merging = dict1 | dict2\n",
    "    return merging\n",
    "\n",
    "\n",
    "dict1 = {'a': 25, 'b': 40}\n",
    "dict2 = {'c': 30, 'd': 12}\n",
    "dict3 = Merge(dict1, dict2)\n",
    "print(dict3)"
   ]
  },
  {
   "cell_type": "code",
   "execution_count": 13,
   "id": "5308382b",
   "metadata": {},
   "outputs": [
    {
     "name": "stdout",
     "output_type": "stream",
     "text": [
      "The original dictionary is  {'month': [1, 2, 3], 'name': ['Jan', 'Feb', 'March']}\n",
      "\n",
      "The flattened dictionary is  {1: 'Jan', 2: 'Feb', 3: 'March'}\n"
     ]
    }
   ],
   "source": [
    "#4). program to convert key value list into a flat dictionary :\n",
    "\n",
    "a = {'month' : [1, 2, 3],\n",
    "    'name' : ['Jan', 'Feb', 'March']}\n",
    "\n",
    "b = dict(zip(a['month'], a['name']))\n",
    "\n",
    "print(\"The original dictionary is \", str(a))\n",
    "\n",
    "print(\"\\nThe flattened dictionary is \", str(b))"
   ]
  },
  {
   "cell_type": "code",
   "execution_count": 14,
   "id": "aa5d0f44",
   "metadata": {},
   "outputs": [
    {
     "name": "stdout",
     "output_type": "stream",
     "text": [
      "OrderedDict([('grapes', '300'), ('apple', '100'), ('orange', '150')])\n"
     ]
    }
   ],
   "source": [
    "#5). program to insert at beginning in ordereddict : \n",
    "\n",
    "from collections import OrderedDict\n",
    "\n",
    "a = OrderedDict([('apple', '100'), ('orange', '150')])\n",
    "\n",
    "a.update({'grapes':'300'})\n",
    "a.move_to_end('grapes', last = False)\n",
    "\n",
    "print(a)"
   ]
  },
  {
   "cell_type": "code",
   "execution_count": 15,
   "id": "fad98db9",
   "metadata": {},
   "outputs": [
    {
     "name": "stdout",
     "output_type": "stream",
     "text": [
      "enter the string : hello there\n",
      "enter the pattern : tho\n",
      "False\n"
     ]
    }
   ],
   "source": [
    "#6). program to check order of the character using ordered dict : \n",
    "\n",
    "from collections import OrderedDict \n",
    "def checkOrder(string, pattern): \n",
    "    dic = OrderedDict.fromkeys(string) \n",
    "    ptr = 0\n",
    "    for key,value in dic.items(): \n",
    "        if (key == pattern[ptr]): \n",
    "            ptr = ptr + 1\n",
    "        if (ptr == (len(pattern))): \n",
    "            return 'True'\n",
    "    return 'False'\n",
    "\n",
    "string = input(\"enter the string : \")\n",
    "pattern = input(\"enter the pattern : \")\n",
    "print (checkOrder(string,pattern))"
   ]
  },
  {
   "cell_type": "code",
   "execution_count": 16,
   "id": "2476b444",
   "metadata": {},
   "outputs": [
    {
     "name": "stdout",
     "output_type": "stream",
     "text": [
      "OrderedDict([('apple', 100), ('apricot', 200), ('banana', 290), ('cashewnut', 65), ('grapes', 56)])\n"
     ]
    }
   ],
   "source": [
    "#7). program to sort dictionaries by key or value : \n",
    "\n",
    "from collections import OrderedDict\n",
    "\n",
    "dict = {\"apricot\" : 200, \"banana\" : 290, \"grapes\" : 56, \"apple\" : 100, \"cashewnut\" : 65}\n",
    "dict1 = OrderedDict(sorted(dict.items()))\n",
    "print(dict1) # it is sorted by key"
   ]
  }
 ],
 "metadata": {
  "kernelspec": {
   "display_name": "Python 3 (ipykernel)",
   "language": "python",
   "name": "python3"
  },
  "language_info": {
   "codemirror_mode": {
    "name": "ipython",
    "version": 3
   },
   "file_extension": ".py",
   "mimetype": "text/x-python",
   "name": "python",
   "nbconvert_exporter": "python",
   "pygments_lexer": "ipython3",
   "version": "3.9.7"
  }
 },
 "nbformat": 4,
 "nbformat_minor": 5
}
