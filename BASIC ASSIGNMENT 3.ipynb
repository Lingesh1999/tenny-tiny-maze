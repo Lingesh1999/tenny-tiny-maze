{
 "cells": [
  {
   "cell_type": "markdown",
   "id": "993339fc",
   "metadata": {},
   "source": [
    "# Questions"
   ]
  },
  {
   "cell_type": "markdown",
   "id": "37a1ba1c",
   "metadata": {},
   "source": [
    "1. Why are functions advantageous to have in your programs?\n",
    "\n",
    "2. When does the code in a function run: when it's specified or when it's called?\n",
    "\n",
    "3. What statement creates a function?\n",
    "\n",
    "4. What is the difference between a function and a function call?\n",
    "\n",
    "5. How many global scopes are there in a Python program? How many local scopes?\n",
    "\n",
    "6. What happens to variables in a local scope when the function call returns?\n",
    "\n",
    "7. What is the concept of a return value? Is it possible to have a return value in an expression?\n",
    "\n",
    "8. If a function does not have a return statement, what is the return value of a call to that function?\n",
    "\n",
    "9. How do you make a function variable refer to the global variable?\n",
    "\n",
    "10. What is the data type of None?\n",
    "\n",
    "11. What does the sentence import areallyourpetsnamederic do?\n",
    "\n",
    "12. If you had a bacon() feature in a spam module, what would you call it after importing spam?\n",
    "\n",
    "13. What can you do to save a programme from crashing if it encounters an error?\n",
    "\n",
    "14. What is the purpose of the try clause? What is the purpose of the except clause?\n"
   ]
  },
  {
   "cell_type": "markdown",
   "id": "52e7b26d",
   "metadata": {},
   "source": [
    "# ANSWERS"
   ]
  },
  {
   "cell_type": "markdown",
   "id": "f9a74668",
   "metadata": {},
   "source": [
    "1. Advantages of function in program:\n",
    "\n",
    "   i) It helps us to reduce time in writing duplicate code.\n",
    "   \n",
    "   ii)without duplicate code in your program makes it easier to read, update ."
   ]
  },
  {
   "cell_type": "markdown",
   "id": "f38c9655",
   "metadata": {},
   "source": [
    "2. The code in the function run when it is called not when it is specified."
   ]
  },
  {
   "cell_type": "markdown",
   "id": "272a16e8",
   "metadata": {},
   "source": [
    "3. The def statement creates a function."
   ]
  },
  {
   "cell_type": "markdown",
   "id": "af9730b4",
   "metadata": {},
   "source": [
    "4. difference between function and function call:\n",
    "\n",
    "function is created by using def statement and it consists of code inside the def clause.\n",
    "\n",
    "function call is nothing but which is used to call the function to execute the code inside it ,in the flow of a program.\n",
    "function call can be used only when a function is created."
   ]
  },
  {
   "cell_type": "markdown",
   "id": "1b98b6a2",
   "metadata": {},
   "source": [
    "5. There is only one global scope and a local scope is created whenever a function is called in python."
   ]
  },
  {
   "cell_type": "markdown",
   "id": "fcec774f",
   "metadata": {},
   "source": [
    "6. When a function returns  the local scope is destroyed and all the variables in it are forgotten."
   ]
  },
  {
   "cell_type": "markdown",
   "id": "ca9f6b34",
   "metadata": {},
   "source": [
    "7.  return function is used to end the function call and return the value to the caller and the code after the return\n",
    "\n",
    "statement will not be executed inside a function. return value can be used as part of expression."
   ]
  },
  {
   "cell_type": "markdown",
   "id": "446db805",
   "metadata": {},
   "source": [
    "8. If the function does not have return statement the value of the function will be in None type."
   ]
  },
  {
   "cell_type": "markdown",
   "id": "fd16fc7a",
   "metadata": {},
   "source": [
    "9. To make a function variable to refer a global variable we need to use global statement on the variable to make it as a \n",
    "\n",
    "global variable."
   ]
  },
  {
   "cell_type": "markdown",
   "id": "f73400cd",
   "metadata": {},
   "source": [
    "10. The data type of None is None type."
   ]
  },
  {
   "cell_type": "markdown",
   "id": "3de0760e",
   "metadata": {},
   "source": [
    "11. Basically import statement is used to import a module to a program. Here module named areallyourpetsnamederic is\n",
    "\n",
    "imported to the progaram."
   ]
  },
  {
   "cell_type": "markdown",
   "id": "c6f6000a",
   "metadata": {},
   "source": [
    "12. To get bacon() function in spam module call spam.bacon()"
   ]
  },
  {
   "cell_type": "markdown",
   "id": "130a3c55",
   "metadata": {},
   "source": [
    "13. To save the program from crashing place a line of code which causes an error in a try clause."
   ]
  },
  {
   "cell_type": "markdown",
   "id": "2ee89857",
   "metadata": {},
   "source": [
    "14. The code which causes an error is placed in try clause and if the error occurs, the code in  except clause will run."
   ]
  },
  {
   "cell_type": "code",
   "execution_count": null,
   "id": "4b006531",
   "metadata": {},
   "outputs": [],
   "source": []
  }
 ],
 "metadata": {
  "kernelspec": {
   "display_name": "Python 3 (ipykernel)",
   "language": "python",
   "name": "python3"
  },
  "language_info": {
   "codemirror_mode": {
    "name": "ipython",
    "version": 3
   },
   "file_extension": ".py",
   "mimetype": "text/x-python",
   "name": "python",
   "nbconvert_exporter": "python",
   "pygments_lexer": "ipython3",
   "version": "3.9.7"
  }
 },
 "nbformat": 4,
 "nbformat_minor": 5
}
