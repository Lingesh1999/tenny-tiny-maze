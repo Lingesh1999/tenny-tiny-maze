{
 "cells": [
  {
   "cell_type": "markdown",
   "id": "e493e411",
   "metadata": {},
   "source": [
    "# QUESTIONS:"
   ]
  },
  {
   "cell_type": "markdown",
   "id": "46fb3d29",
   "metadata": {},
   "source": [
    "1. Write a Python program to find words which are greater than given length k?\n",
    "\n",
    "2. Write a Python program for removing i-th character from a string?\n",
    "\n",
    "3. Write a Python program to split and join a string?\n",
    "\n",
    "4. Write a Python to check if a given string is binary string or not?\n",
    "\n",
    "5. Write a Python program to find uncommon words from two Strings?\n",
    "\n",
    "6. Write a Python to find all duplicate characters in string?\n",
    "\n",
    "7. Write a Python Program to check if a string contains any special character?"
   ]
  },
  {
   "cell_type": "markdown",
   "id": "db6aed85",
   "metadata": {},
   "source": [
    "# ANSWERS:"
   ]
  },
  {
   "cell_type": "code",
   "execution_count": 1,
   "id": "6187c39e",
   "metadata": {},
   "outputs": [
    {
     "name": "stdout",
     "output_type": "stream",
     "text": [
      "enter the no.of characters letters you want to remove : 4\n",
      "enter the string sentence : hey there i am lee\n",
      "['there']\n"
     ]
    }
   ],
   "source": [
    "#1). \n",
    "\n",
    "def string_k(k):\n",
    "    \n",
    "    string = []\n",
    "    text = str.split(\" \")\n",
    "    \n",
    "    for i in text:\n",
    "        if len(i) > k:\n",
    "            string.append(i)\n",
    "    return string\n",
    "\n",
    "k = int(input(\"enter the no.of characters letters you want to remove : \"))\n",
    "str = input(\"enter the string sentence : \")\n",
    "\n",
    "print(string_k(k))"
   ]
  },
  {
   "cell_type": "code",
   "execution_count": 4,
   "id": "a80b1cae",
   "metadata": {},
   "outputs": [
    {
     "name": "stdout",
     "output_type": "stream",
     "text": [
      "enter the string : llionking\n",
      "enter which character you need to remove : 1\n",
      "lionking\n"
     ]
    }
   ],
   "source": [
    "#2).\n",
    "\n",
    "def remove(string, i):\n",
    "    a = string[ : i]\n",
    "    b = string[i + 1: ]\n",
    "    return a + b\n",
    "\n",
    "\n",
    "string = input(\"enter the string : \")\n",
    "i = int(input(\"enter which character you need to remove : \"))\n",
    "if i > len(string):\n",
    "    print(\"out of index error. enter valid number.\")\n",
    "print(remove(string, i))"
   ]
  },
  {
   "cell_type": "code",
   "execution_count": 6,
   "id": "1e182796",
   "metadata": {},
   "outputs": [
    {
     "name": "stdout",
     "output_type": "stream",
     "text": [
      "enter the string sequence : The Greatest Of All Time\n",
      "['The', 'Greatest', 'Of', 'All', 'Time']\n",
      "The-Greatest-Of-All-Time\n"
     ]
    }
   ],
   "source": [
    "#3). \n",
    "\n",
    "def split_string(string):\n",
    "\n",
    "    a = string.split(' ')\n",
    "    return a\n",
    "\n",
    "def join_string(a):\n",
    "    \n",
    "    string = '-'.join(a)\n",
    "    return string\n",
    "\n",
    "string = input(\"enter the string sequence : \")\n",
    "\n",
    "a = split_string(string)\n",
    "print(a)\n",
    "new_string = join_string(a)\n",
    "print(new_string)"
   ]
  },
  {
   "cell_type": "code",
   "execution_count": 7,
   "id": "fc3c3449",
   "metadata": {},
   "outputs": [
    {
     "name": "stdout",
     "output_type": "stream",
     "text": [
      "Yes\n"
     ]
    }
   ],
   "source": [
    "#4).\n",
    "\n",
    "def check(string) :\n",
    "\n",
    "    p = set(string)\n",
    "    s = {'0', '1'} \n",
    "    if s == p or p == {'0'} or p == {'1'}:\n",
    "        print(\"Yes\")\n",
    "    else :\n",
    "        print(\"No\")\n",
    "        \n",
    "string = \"101010000111\"\n",
    "check(string)"
   ]
  },
  {
   "cell_type": "code",
   "execution_count": 8,
   "id": "3de79e4d",
   "metadata": {},
   "outputs": [
    {
     "name": "stdout",
     "output_type": "stream",
     "text": [
      "['soccer', 'basketball']\n"
     ]
    }
   ],
   "source": [
    "#5).\n",
    "\n",
    "def uncommon_words(a,b):\n",
    "    a=a.split()\n",
    "    b=b.split()\n",
    "    c=set(a).symmetric_difference(set(b))\n",
    "    return c\n",
    "\n",
    "a=\"baseball basketball soccer polo\"\n",
    "b=\"polo baseball\"\n",
    "print(list(uncommon_words(a,b)))"
   ]
  },
  {
   "cell_type": "code",
   "execution_count": 23,
   "id": "127c2ead",
   "metadata": {},
   "outputs": [
    {
     "name": "stdout",
     "output_type": "stream",
     "text": [
      "Enter a word = hello\n",
      "l\n"
     ]
    }
   ],
   "source": [
    "#6).\n",
    "\n",
    "from collections import Counter\n",
    "\n",
    "def do_find_duplicates():\n",
    "    x =input(\"Enter a word = \")\n",
    "    for key,val in Counter(x).items():\n",
    "        if val > 1:\n",
    "            print(key)\n",
    "        \n",
    "        \n",
    "do_find_duplicates()"
   ]
  },
  {
   "cell_type": "code",
   "execution_count": 24,
   "id": "b83752d1",
   "metadata": {},
   "outputs": [
    {
     "name": "stdout",
     "output_type": "stream",
     "text": [
      "Enter any string: hey there!!\n",
      "The string contains special characters.\n"
     ]
    }
   ],
   "source": [
    "#7).\n",
    "\n",
    "import re\n",
    "\n",
    "string = input('Enter any string: ')\n",
    " \n",
    "special_char = re.compile('[@_!#$%^&*()<>?/\\|}{~:]')\n",
    "\n",
    "if(special_char.search(string) == None):\n",
    "    print('String does not contain any special characters.')\n",
    "else:\n",
    "    print('The string contains special characters.')"
   ]
  }
 ],
 "metadata": {
  "kernelspec": {
   "display_name": "Python 3 (ipykernel)",
   "language": "python",
   "name": "python3"
  },
  "language_info": {
   "codemirror_mode": {
    "name": "ipython",
    "version": 3
   },
   "file_extension": ".py",
   "mimetype": "text/x-python",
   "name": "python",
   "nbconvert_exporter": "python",
   "pygments_lexer": "ipython3",
   "version": "3.9.7"
  }
 },
 "nbformat": 4,
 "nbformat_minor": 5
}
