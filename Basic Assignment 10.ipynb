{
 "cells": [
  {
   "cell_type": "markdown",
   "id": "94f34472",
   "metadata": {},
   "source": [
    "# QUESTIONS:"
   ]
  },
  {
   "cell_type": "markdown",
   "id": "9416d09c",
   "metadata": {},
   "source": [
    "1. How do you distinguish between shutil.copy() and shutil.copytree()?\n",
    "\n",
    "2. What function is used to rename files??\n",
    "\n",
    "3. What is the difference between the delete functions in the send2trash and shutil modules?\n",
    "\n",
    "4. ZipFile objects have a close() method just like File objects’ close() method. What ZipFile method is equivalent to File objects’ open() method?\n",
    "\n",
    "5. Create a programme that searches a folder tree for files with a certain file extension (such as .pdf or .jpg). Copy these files from whatever location they are in to a new folder."
   ]
  },
  {
   "cell_type": "markdown",
   "id": "dff48042",
   "metadata": {},
   "source": [
    "# ANSWERS:"
   ]
  },
  {
   "cell_type": "markdown",
   "id": "679dc4f8",
   "metadata": {},
   "source": [
    "    1). shutil.copy() will copy a single entire file while shutil.copytree() will copy a entire folder\n",
    "    \n",
    "    along with all it's contents."
   ]
  },
  {
   "cell_type": "markdown",
   "id": "a3396840",
   "metadata": {},
   "source": [
    "    2). shutil.move() can be used rename files as well as it can used to move files."
   ]
  },
  {
   "cell_type": "markdown",
   "id": "b2190ffd",
   "metadata": {},
   "source": [
    "    3). shutil modules will completely delete the files while the send2trash will move the file \n",
    "    \n",
    "    to the recycle bin."
   ]
  },
  {
   "cell_type": "markdown",
   "id": "d1aa1c9a",
   "metadata": {},
   "source": [
    "    4). The zipfile.ZipFile() function is equivalent to the open() function; the first argument is the filename, and the second argument is the mode to open the ZIP file in (read, write, or append).\n"
   ]
  },
  {
   "cell_type": "markdown",
   "id": "c63487c5",
   "metadata": {},
   "source": [
    "    5). \n",
    "    \n",
    "    import os, shutil\n",
    "\n",
    "    def selectiveCopy(folder, extensions, destFolder):\n",
    "        folder = os.path.abspath(folder)\n",
    "        destFolder = os.path.abspath(destFolder)\n",
    "        for foldername, subfolders, filenames in os.walk(folder):\n",
    "            for filename in filenames:\n",
    "                name, extension = os.path.splitext(filename)\n",
    "                if extension in extensions:\n",
    "                    fileAbsPath = foldername + os.path.sep + filename\n",
    "                    print('Coping', fileAbsPath, 'to', destFolder)\n",
    "                    shutil.copy(fileAbsPath, destFolder)\n",
    "\n",
    "\n",
    "    extensions = ['.pdf', '.jpg']\n",
    "    folder = 'randomFolder'\n",
    "    destFolder = 'selectiveFolder'\n",
    "    selectiveCopy(folder, extensions, destFolder)"
   ]
  }
 ],
 "metadata": {
  "kernelspec": {
   "display_name": "Python 3 (ipykernel)",
   "language": "python",
   "name": "python3"
  },
  "language_info": {
   "codemirror_mode": {
    "name": "ipython",
    "version": 3
   },
   "file_extension": ".py",
   "mimetype": "text/x-python",
   "name": "python",
   "nbconvert_exporter": "python",
   "pygments_lexer": "ipython3",
   "version": "3.9.7"
  }
 },
 "nbformat": 4,
 "nbformat_minor": 5
}
