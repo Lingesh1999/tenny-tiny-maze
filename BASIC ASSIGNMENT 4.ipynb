{
 "cells": [
  {
   "cell_type": "markdown",
   "id": "40a1bcf1",
   "metadata": {},
   "source": [
    "# Questions"
   ]
  },
  {
   "cell_type": "markdown",
   "id": "7b1a174b",
   "metadata": {},
   "source": [
    "1. What exactly is []?\n",
    "\n",
    "2. In a list of values stored in a variable called spam, how would you assign the value 'hello' as the third value? (Assume [2, 4, 6, 8, 10] are in spam.)\n",
    "Let's pretend the spam includes the list ['a', 'b', 'c', 'd'] for the next three queries.\n",
    "\n",
    "3. What is the value of spam[int(int('3' * 2) / 11)]?\n",
    "\n",
    "4. What is the value of spam[-1]?\n",
    "\n",
    "5. What is the value of spam[:2]?\n",
    "Let's pretend bacon has the list [3.14, 'cat,' 11, 'cat,' True] for the next three questions.\n",
    "\n",
    "6. What is the value of bacon.index('cat')?\n",
    "\n",
    "7. How does bacon.append(99) change the look of the list value in bacon?\n",
    "\n",
    "8. How does bacon.remove('cat') change the look of the list in bacon?\n",
    "\n",
    "9. What are the list concatenation and list replication operators?\n",
    "\n",
    "10. What is difference between the list methods append() and insert()?\n",
    "\n",
    "11. What are the two methods for removing items from a list?\n",
    "\n",
    "12. Describe how list values and string values are identical.\n",
    "\n",
    "13. What's the difference between tuples and lists?\n",
    "\n",
    "14. How do you type a tuple value that only contains the integer 42?\n",
    "\n",
    "15. How do you get a list value's tuple form? How do you get a tuple value's list form?\n",
    "\n",
    "16. Variables that \"contain\" list values are not necessarily lists themselves. Instead, what do they contain?\n",
    "\n",
    "17. How do you distinguish between copy.copy() and copy.deepcopy()?\n"
   ]
  },
  {
   "cell_type": "markdown",
   "id": "551a4328",
   "metadata": {},
   "source": [
    "# Answers"
   ]
  },
  {
   "cell_type": "markdown",
   "id": "b5331386",
   "metadata": {},
   "source": [
    "1 . The notation which used to create a list is [] . It has no values inside it so it is an empty list.\n",
    "\n",
    "    similar to \"\" and {} which are empty string and empty dictionary."
   ]
  },
  {
   "cell_type": "markdown",
   "id": "8851a765",
   "metadata": {},
   "source": [
    "2 . spam[2] = \"hello\".In list index start from 0. we need third value as 'hello' so assign it in index 2."
   ]
  },
  {
   "cell_type": "markdown",
   "id": "b059d83e",
   "metadata": {},
   "source": [
    "3. The value for the code is 'd'."
   ]
  },
  {
   "cell_type": "markdown",
   "id": "adfe6c10",
   "metadata": {},
   "source": [
    "4. 'd'. It is negative indexing so the last element is -1."
   ]
  },
  {
   "cell_type": "markdown",
   "id": "41c77ed0",
   "metadata": {},
   "source": [
    "5. The value of spam[:2] is ['a', 'b']. Here is slicing is done lower bound is 0 to upper bound 2 (which excludes 2)."
   ]
  },
  {
   "cell_type": "markdown",
   "id": "23ca0ae9",
   "metadata": {},
   "source": [
    "6. The index of 'cat' is 1. Here two 'cat' present but python always give index of first appearance of the value."
   ]
  },
  {
   "cell_type": "markdown",
   "id": "ea6be97c",
   "metadata": {},
   "source": [
    "7. [3.14, 'cat', 11, 'cat', True, 99] . The append function will add the element to the list as a last entry."
   ]
  },
  {
   "cell_type": "markdown",
   "id": "f3cd12ad",
   "metadata": {},
   "source": [
    "8. [3.14, 11, 'cat', True] . The remove function will remove the first element named 'cat'. If we want remove another 'cat' \n",
    "\n",
    "also using remove function call it again."
   ]
  },
  {
   "cell_type": "markdown",
   "id": "8788cdfc",
   "metadata": {},
   "source": [
    "9. The list concatenation operator is + whereas list replication operator is *."
   ]
  },
  {
   "cell_type": "markdown",
   "id": "aad35ec5",
   "metadata": {},
   "source": [
    "10 . The difference between append() and insert() is both used for adding new element to the list but append will add the \n",
    "\n",
    "value to the last of the list whereas insert asks in which index we want to add the value to the list."
   ]
  },
  {
   "cell_type": "markdown",
   "id": "7df5f862",
   "metadata": {},
   "source": [
    "11. To remove values from the list we can use del() statement and remove() function . "
   ]
  },
  {
   "cell_type": "markdown",
   "id": "83a8235e",
   "metadata": {},
   "source": [
    "12. Both list and string values has indexes so we can do operations like concatenation,replication, slicing, for loop ,\n",
    "\n",
    "in and not in ."
   ]
  },
  {
   "cell_type": "markdown",
   "id": "07c4d607",
   "metadata": {},
   "source": [
    "13. Lists are mutable. They are denoted in [](square brackets).The values in list can be changed.\n",
    "\n",
    "Tuples are immutable . They are denoted in ()(open and close parenthesis). The values in tuples cannot be changed."
   ]
  },
  {
   "cell_type": "markdown",
   "id": "44b21c7b",
   "metadata": {},
   "source": [
    "14. It can written as (42,)"
   ]
  },
  {
   "cell_type": "markdown",
   "id": "82b372fb",
   "metadata": {},
   "source": [
    "15. To convert list to tuple, tuple() function is used.\n",
    "\n",
    "To convert tuple to list , list() function is used."
   ]
  },
  {
   "cell_type": "markdown",
   "id": "7149124c",
   "metadata": {},
   "source": [
    "16. They contain reference to the list values."
   ]
  },
  {
   "cell_type": "markdown",
   "id": "9e50ea61",
   "metadata": {},
   "source": [
    "17. copy.copy() function will do a shallow copy of a list whereas copy.deepcopy() function will copy all elements in a \n",
    "\n",
    "list."
   ]
  }
 ],
 "metadata": {
  "kernelspec": {
   "display_name": "Python 3 (ipykernel)",
   "language": "python",
   "name": "python3"
  },
  "language_info": {
   "codemirror_mode": {
    "name": "ipython",
    "version": 3
   },
   "file_extension": ".py",
   "mimetype": "text/x-python",
   "name": "python",
   "nbconvert_exporter": "python",
   "pygments_lexer": "ipython3",
   "version": "3.9.7"
  }
 },
 "nbformat": 4,
 "nbformat_minor": 5
}
