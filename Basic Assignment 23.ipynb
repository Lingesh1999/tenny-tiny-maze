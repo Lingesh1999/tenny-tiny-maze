{
 "cells": [
  {
   "cell_type": "markdown",
   "id": "484a6ddb",
   "metadata": {},
   "source": [
    "# QUESTIONS:"
   ]
  },
  {
   "cell_type": "markdown",
   "id": "fbc2b174",
   "metadata": {},
   "source": [
    "1. What is the result of the code, and why?\n",
    ">>> def func(a, b=6, c=8):\n",
    "print(a, b, c)\n",
    ">>> func(1, 2)\n",
    "2. What is the result of this code, and why?\n",
    ">>> def func(a, b, c=5):\n",
    "print(a, b, c)\n",
    ">>> func(1, c=3, b=2)\n",
    "3. How about this code: what is its result, and why?\n",
    ">>> def func(a, *pargs):\n",
    "print(a, pargs)\n",
    ">>> func(1, 2, 3)\n",
    "4. What does this code print, and why?\n",
    ">>> def func(a, **kargs):\n",
    "print(a, kargs)\n",
    ">>> func(a=1, c=3, b=2)\n",
    "5. What gets printed by this, and explain?\n",
    ">>> def func(a, b, c=8, d=5): print(a, b, c, d)\n",
    ">>> func(1, *(5, 6))\n",
    "6. what is the result of this, and explain?\n",
    ">>> def func(a, b, c): a = 2; b[0] = 'x'; c['a'] = 'y'\n",
    ">>> l=1; m=[1]; n={'a':0}\n",
    ">>> func(l, m, n)\n",
    ">>> l, m, n\n"
   ]
  },
  {
   "cell_type": "markdown",
   "id": "3abfc10d",
   "metadata": {},
   "source": [
    "# ANSWERS:"
   ]
  },
  {
   "cell_type": "markdown",
   "id": "70b43932",
   "metadata": {},
   "source": [
    "    1). The result of the code is 1, 2, 8 .\n",
    "    \n",
    "    c = 8 because c is default argument given in func(). And b is 2 because we called func() with two values 1,2.\n",
    "    \n",
    "    so default argument b is 6 is replaced by 2 and a = 1 is given in the function call. "
   ]
  },
  {
   "cell_type": "markdown",
   "id": "784d6e6b",
   "metadata": {},
   "source": [
    "    2). The output is 1,2,3.\n",
    "    \n",
    "    the function call has three arguments a,b,c. so the default arguments are replaced by function call\n",
    "    arguments. so the output is a =1, b= 2, c = 3."
   ]
  },
  {
   "cell_type": "markdown",
   "id": "62fb0c9e",
   "metadata": {},
   "source": [
    "    3). The output will be 1, (2,3)\n",
    "    \n",
    "    Here the default argument used is *. * basically nothing but multiple arguments. so the first element is a and the \n",
    "    \n",
    "    remaining are tuples which has multiple elements it determines how much the user gives. here 2,3."
   ]
  },
  {
   "cell_type": "markdown",
   "id": "b3eba60e",
   "metadata": {},
   "source": [
    "    4). 1 {'c': 3, 'b': 2}\n",
    "    \n",
    "    Here a=1. **kargs returns as many argument user gives as input in form of dictionary"
   ]
  },
  {
   "cell_type": "markdown",
   "id": "11faf187",
   "metadata": {},
   "source": [
    "    5). The output is 1 5 6 5\n",
    "    \n",
    "    Here a=1. User input is given in the form of kargs. So as many variable is present that many times the value \n",
    "    \n",
    "    passed as kargs input will get printed.So here a=1,b=5,c=6,d=again 5."
   ]
  },
  {
   "cell_type": "markdown",
   "id": "3b46f688",
   "metadata": {},
   "source": [
    "    6). The output is (1, ['x'], {'a': 'y'})\n",
    "    \n",
    "    Here in func(l,m,n) we passed l=1(user input), m is passed as list contain 1 element i.e 'x', n is passed as \n",
    "    \n",
    "    dictionary i.e {'a':'y'}"
   ]
  }
 ],
 "metadata": {
  "kernelspec": {
   "display_name": "Python 3 (ipykernel)",
   "language": "python",
   "name": "python3"
  },
  "language_info": {
   "codemirror_mode": {
    "name": "ipython",
    "version": 3
   },
   "file_extension": ".py",
   "mimetype": "text/x-python",
   "name": "python",
   "nbconvert_exporter": "python",
   "pygments_lexer": "ipython3",
   "version": "3.9.7"
  }
 },
 "nbformat": 4,
 "nbformat_minor": 5
}
