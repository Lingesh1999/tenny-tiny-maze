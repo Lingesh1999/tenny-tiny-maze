{
 "cells": [
  {
   "cell_type": "markdown",
   "id": "2bf2c870",
   "metadata": {},
   "source": [
    "# QUESTIONS:"
   ]
  },
  {
   "cell_type": "markdown",
   "id": "834ae6d4",
   "metadata": {},
   "source": [
    "1. Set the variable test1 to the string 'This is a test of the emergency text system,' and save test1 to a file named test.txt.\n",
    "\n",
    "2. Read the contents of the file test.txt into the variable test2. Is there a difference between test 1 and test 2?\n",
    "\n",
    "3. Create a CSV file called books.csv by using these lines:\n",
    "   title,author,year\n",
    "   The Weirdstone of Brisingamen,Alan Garner,1960\n",
    "   Perdido Street Station,China Miéville,2000\n",
    "   Thud!,Terry Pratchett,2005\n",
    "   The Spellman Files,Lisa Lutz,2007\n",
    "   Small Gods,Terry Pratchett,1992\n",
    "\n",
    "4. Use the sqlite3 module to create a SQLite database called books.db, and a table called books with these fields: title (text), author (text), and year (integer).\n",
    "\n",
    "5. Read books.csv and insert its data into the book table.\n",
    "\n",
    "6. Select and print the title column from the book table in alphabetical order.\n",
    "\n",
    "7. From the book table, select and print all columns in the order of publication.\n",
    "\n",
    "8. Use the sqlalchemy module to connect to the sqlite3 database books.db that you just made in exercise 6.\n",
    "\n",
    "9. Install the Redis server and the Python redis library (pip install redis) on your computer. Create a Redis hash called test with the fields count (1) and name ('Fester Bestertester'). Print all the fields for test.\n",
    "\n",
    "10. Increment the count field of test and print it."
   ]
  },
  {
   "cell_type": "markdown",
   "id": "fd7e9f9a",
   "metadata": {},
   "source": [
    "# ANSWERS:"
   ]
  },
  {
   "cell_type": "code",
   "execution_count": 3,
   "id": "e0106117",
   "metadata": {},
   "outputs": [],
   "source": [
    "#1).\n",
    "\n",
    "test1 = \"This is a test of the emergency text system\"\n",
    "\n",
    "with open (\"test.txt\", \"w\") as f:\n",
    "    f.write(test1)"
   ]
  },
  {
   "cell_type": "code",
   "execution_count": 4,
   "id": "46efd232",
   "metadata": {},
   "outputs": [
    {
     "data": {
      "text/plain": [
       "True"
      ]
     },
     "execution_count": 4,
     "metadata": {},
     "output_type": "execute_result"
    }
   ],
   "source": [
    "#2). \n",
    "\n",
    "with open(\"test.txt\", \"r\") as f1:\n",
    "    test2 = f1.read()\n",
    "    \n",
    "test1 == test2"
   ]
  },
  {
   "cell_type": "code",
   "execution_count": 45,
   "id": "3540dffa",
   "metadata": {},
   "outputs": [],
   "source": [
    "#3).\n",
    "\n",
    "ad = \"\"\" title, author, year\n",
    "The Weirdstone of Brisingamen, Alan Garner, 1960 \n",
    "Perdido Street Station,China Miéville, 2000\n",
    "Thud!, Terry Pratchett, 2005 \n",
    "The Spellman Files, Lisa Lutz, 2007\n",
    "Small Gods, Terry Pratchett, 1992\"\"\"\n",
    "\n",
    "with open(\"books.csv\", \"w\") as a:\n",
    "    a.write(ad)"
   ]
  },
  {
   "cell_type": "code",
   "execution_count": 42,
   "id": "8ef1b298",
   "metadata": {},
   "outputs": [],
   "source": [
    "#4). \n",
    "\n",
    "import sqlite3\n",
    "\n",
    "db = sqlite3.connect(\"books.db\")\n",
    "\n",
    "cursor = db.cursor()\n",
    "\n",
    "cursor.execute(\"create table book (title text, author text, year int)\")\n",
    "\n",
    "db.commit()"
   ]
  },
  {
   "cell_type": "code",
   "execution_count": 46,
   "id": "5d7f9fdd",
   "metadata": {},
   "outputs": [],
   "source": [
    "#5). \n",
    "\n",
    "import sqlite3\n",
    "\n",
    "import csv\n",
    "\n",
    "df = \"insert into book values(?, ?, ?)\"\n",
    "\n",
    "with open(\"books.csv\", \"r\") as adf :\n",
    "    \n",
    "    books = csv.DictReader(adf)\n",
    "    \n",
    "    for book in books:\n",
    "        cursor.execute(df, (book[' title'],book[' author'],book[' year']))\n",
    "        \n",
    "db.commit()"
   ]
  },
  {
   "cell_type": "code",
   "execution_count": 47,
   "id": "7aa2421a",
   "metadata": {},
   "outputs": [
    {
     "data": {
      "text/plain": [
       "[('Perdido Street Station',),\n",
       " ('Small Gods',),\n",
       " ('The Spellman Files',),\n",
       " ('The Weirdstone of Brisingamen',),\n",
       " ('Thud!',)]"
      ]
     },
     "execution_count": 47,
     "metadata": {},
     "output_type": "execute_result"
    }
   ],
   "source": [
    "#6).\n",
    "\n",
    "cursor.execute(\"select title from book order by title asc\")\n",
    "\n",
    "cursor.fetchall()"
   ]
  },
  {
   "cell_type": "code",
   "execution_count": 48,
   "id": "9db9af4c",
   "metadata": {},
   "outputs": [
    {
     "data": {
      "text/plain": [
       "[('The Weirdstone of Brisingamen', ' Alan Garner', 1960),\n",
       " ('Small Gods', ' Terry Pratchett', 1992),\n",
       " ('Perdido Street Station', 'China Miéville', 2000),\n",
       " ('Thud!', ' Terry Pratchett', 2005),\n",
       " ('The Spellman Files', ' Lisa Lutz', 2007)]"
      ]
     },
     "execution_count": 48,
     "metadata": {},
     "output_type": "execute_result"
    }
   ],
   "source": [
    "#7).\n",
    "\n",
    "cursor.execute(\"select * from book order by year\")\n",
    "cursor.fetchall()"
   ]
  },
  {
   "cell_type": "code",
   "execution_count": 49,
   "id": "cc5fff7d",
   "metadata": {},
   "outputs": [
    {
     "name": "stdout",
     "output_type": "stream",
     "text": [
      "Engine(sqlite:///books.db)\n"
     ]
    }
   ],
   "source": [
    "#8).\n",
    "\n",
    "import sqlalchemy\n",
    "\n",
    "connection = sqlalchemy.create_engine(\"sqlite:///books.db\")\n",
    "\n",
    "print(connection)"
   ]
  },
  {
   "cell_type": "code",
   "execution_count": 58,
   "id": "e515f56d",
   "metadata": {},
   "outputs": [],
   "source": [
    "#9). i am not able to install redis server so i try to answer it with online answers in comments \n",
    "\n",
    "\n",
    "import redis \n",
    "\n",
    "conn = redis.Redis()\n",
    "\n",
    "#conn.delete('test')--> output will be 1\n",
    "\n",
    "#conn.hmset('test', {'count': 1, 'name': 'Fester Bestertester'}) --> True\n",
    "\n",
    "#conn.hgetall('test') --> {b'name': b'Fester Bestertester', b'count': b'1'}"
   ]
  },
  {
   "cell_type": "code",
   "execution_count": 59,
   "id": "860a4640",
   "metadata": {},
   "outputs": [],
   "source": [
    "#10)\n",
    "\n",
    "#conn.hincrby('test', 'count', 3) answer for this is 4\n",
    "\n",
    "#conn.hget('test', 'count') answer for this is b'4'"
   ]
  }
 ],
 "metadata": {
  "kernelspec": {
   "display_name": "Python 3 (ipykernel)",
   "language": "python",
   "name": "python3"
  },
  "language_info": {
   "codemirror_mode": {
    "name": "ipython",
    "version": 3
   },
   "file_extension": ".py",
   "mimetype": "text/x-python",
   "name": "python",
   "nbconvert_exporter": "python",
   "pygments_lexer": "ipython3",
   "version": "3.9.7"
  }
 },
 "nbformat": 4,
 "nbformat_minor": 5
}
