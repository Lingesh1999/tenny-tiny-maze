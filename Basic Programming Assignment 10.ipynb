{
 "cells": [
  {
   "cell_type": "markdown",
   "id": "4f4b2b6d",
   "metadata": {},
   "source": [
    "# QUESTIONS:"
   ]
  },
  {
   "cell_type": "markdown",
   "id": "bba48ae1",
   "metadata": {},
   "source": [
    "1. Write a Python program to find sum of elements in list?\n",
    "\n",
    "2. Write a Python program to  Multiply all numbers in the list?\n",
    "\n",
    "3. Write a Python program to find smallest number in a list?\n",
    "\n",
    "4. Write a Python program to find largest number in a list?\n",
    "\n",
    "5. Write a Python program to find second largest number in a list?\n",
    "\n",
    "6. Write a Python program to find N largest elements from a list?\n",
    "\n",
    "7. Write a Python program to print even numbers in a list?\n",
    "\n",
    "8. Write a Python program to print odd numbers in a List?\n",
    "\n",
    "9. Write a Python program to Remove empty List from List?\n",
    "\n",
    "10. Write a Python program to Cloning or Copying a list?\n",
    "\n",
    "11. Write a Python program to Count occurrences of an element in a list?"
   ]
  },
  {
   "cell_type": "markdown",
   "id": "2b4d5f68",
   "metadata": {},
   "source": [
    "# ANSWERS:"
   ]
  },
  {
   "cell_type": "code",
   "execution_count": 4,
   "id": "6966951c",
   "metadata": {},
   "outputs": [
    {
     "name": "stdout",
     "output_type": "stream",
     "text": [
      "enter the no.of elements you want to enter the list : 5\n",
      "enter the elements : 10\n",
      "enter the elements : 12\n",
      "enter the elements : 14\n",
      "enter the elements : 16\n",
      "enter the elements : 18\n",
      "Sum of all elements in given list:  70\n"
     ]
    }
   ],
   "source": [
    "#1).\n",
    "\n",
    "def sum_of_all_elements_in_list():\n",
    "    list0 = []\n",
    "    n = int(input(\"enter the no.of elements you want to enter the list : \"))\n",
    "    for i in range(n):\n",
    "        i = int(input(\"enter the elements : \"))\n",
    "        list0.append(i)\n",
    "\n",
    "    total = 0\n",
    "\n",
    "    for j in range(0, len(list0)):\n",
    "        total = total + list0[j]\n",
    "\n",
    "    print(\"Sum of all elements in given list: \", total)\n",
    "    \n",
    "    \n",
    "sum_of_all_elements_in_list()"
   ]
  },
  {
   "cell_type": "code",
   "execution_count": 6,
   "id": "991c9f53",
   "metadata": {},
   "outputs": [
    {
     "name": "stdout",
     "output_type": "stream",
     "text": [
      "enter the no.of elements you want to enter the list : 5\n",
      "enter the elements : 1\n",
      "enter the elements : 2\n",
      "enter the elements : 3\n",
      "enter the elements : 4\n",
      "enter the elements : 5\n",
      "total multiplication of all elements in given list:  120\n"
     ]
    }
   ],
   "source": [
    "#2).\n",
    "\n",
    "def multiply_of_all_elements_in_list():\n",
    "    list1 = []\n",
    "    n = int(input(\"enter the no.of elements you want to enter the list : \"))\n",
    "    for i in range(n):\n",
    "        i = int(input(\"enter the elements : \"))\n",
    "        list1.append(i)\n",
    "\n",
    "    total = 1\n",
    "\n",
    "    for j in range(0, len(list1)):\n",
    "        total = total * list1[j]\n",
    "\n",
    "    print(\"total multiplication of all elements in given list: \", total)\n",
    "    \n",
    "    \n",
    "multiply_of_all_elements_in_list()"
   ]
  },
  {
   "cell_type": "code",
   "execution_count": 12,
   "id": "b5ad5068",
   "metadata": {},
   "outputs": [
    {
     "name": "stdout",
     "output_type": "stream",
     "text": [
      "enter the no.of elements you want to enter the list : 3\n",
      "enter the elements : 100\n",
      "enter the elements : 23\n",
      "enter the elements : 456\n",
      "Smallest number  is: 23\n"
     ]
    }
   ],
   "source": [
    "#3). \n",
    "\n",
    "def smallest_number_in_a_list():\n",
    "    list1 = []\n",
    "    n = int(input(\"enter the no.of elements you want to enter the list : \"))\n",
    "    for i in range(n):\n",
    "        i = int(input(\"enter the elements : \"))\n",
    "        list1.append(i)\n",
    "\n",
    "    list1.sort()\n",
    "\n",
    "    print(\"Smallest number  is:\", min(list1))\n",
    "\n",
    "    \n",
    "smallest_number_in_a_list()"
   ]
  },
  {
   "cell_type": "code",
   "execution_count": 11,
   "id": "f89a804d",
   "metadata": {},
   "outputs": [
    {
     "name": "stdout",
     "output_type": "stream",
     "text": [
      "enter the no.of elements you want to enter the list : 3\n",
      "enter the elements : 56\n",
      "enter the elements : 234\n",
      "enter the elements : 67\n",
      "largest number is: 234\n"
     ]
    }
   ],
   "source": [
    "#4).\n",
    "\n",
    "def largest_number_in_a_list():\n",
    "    list2 = []\n",
    "    n = int(input(\"enter the no.of elements you want to enter the list : \"))\n",
    "    for i in range(n):\n",
    "        i = int(input(\"enter the elements : \"))\n",
    "        list2.append(i)\n",
    "\n",
    "    list2.sort()\n",
    "\n",
    "    print(\"largest number is:\", max(list2))\n",
    "    \n",
    "    \n",
    "largest_number_in_a_list()"
   ]
  },
  {
   "cell_type": "code",
   "execution_count": 17,
   "id": "fdc93b8e",
   "metadata": {},
   "outputs": [
    {
     "name": "stdout",
     "output_type": "stream",
     "text": [
      "enter the no.of elements you want to enter the list : 2\n",
      "enter the elements : 1000\n",
      "enter the elements : 12\n",
      "second largest number is :  12\n"
     ]
    }
   ],
   "source": [
    "#5).\n",
    "\n",
    "def second_largest_number_in_a_list():\n",
    "    list3 = []\n",
    "    n = int(input(\"enter the no.of elements you want to enter the list : \"))\n",
    "    if n < 2:\n",
    "        print(\"invalid input enter more than 2.\")\n",
    "    for i in range(n):\n",
    "        i = int(input(\"enter the elements : \"))\n",
    "        list3.append(i)\n",
    "\n",
    "    list3.sort()\n",
    "\n",
    "    print(\"second largest number is : \", list3[-2])\n",
    "    \n",
    "    \n",
    "second_largest_number_in_a_list()"
   ]
  },
  {
   "cell_type": "code",
   "execution_count": 19,
   "id": "3e66b7a1",
   "metadata": {},
   "outputs": [
    {
     "name": "stdout",
     "output_type": "stream",
     "text": [
      "enter the no.of elements you want to enter the list : 5\n",
      "enter the elements : 100\n",
      "enter the elements : 123\n",
      "enter the elements : 145\n",
      "enter the elements : 167\n",
      "enter the elements : 200\n",
      "enter the number to which find the largest number : 2\n",
      "[167, 200]\n"
     ]
    }
   ],
   "source": [
    "#6). Python program to find N largest\n",
    "\n",
    "def N_largest_number():\n",
    "    l = []\n",
    "    n1 = int(input(\"enter the no.of elements you want to enter the list : \"))\n",
    "\n",
    "    for i in range(n1):\n",
    "        i = int(input(\"enter the elements : \"))\n",
    "        l.append(i)\n",
    "\n",
    "    n = int(input(\"enter the number to which find the largest number : \"))\n",
    "    if n1 < n:\n",
    "        print(\"please check the size of the list\")\n",
    "\n",
    "    l.sort()\n",
    "    print(l[-n:])\n",
    "    \n",
    "    \n",
    "N_largest_number()"
   ]
  },
  {
   "cell_type": "code",
   "execution_count": 21,
   "id": "93f42c70",
   "metadata": {},
   "outputs": [
    {
     "name": "stdout",
     "output_type": "stream",
     "text": [
      "Even numbers in the list:  [24, 56, 78, 54, 324]\n"
     ]
    }
   ],
   "source": [
    "#7). Python program to print Even Numbers in a List\n",
    "\n",
    "list1 = [24,45,56,78,89,54,324]\n",
    "\n",
    "even_no = list(filter(lambda x: (x % 2 == 0), list1))\n",
    "\n",
    "print(\"Even numbers in the list: \", even_no)"
   ]
  },
  {
   "cell_type": "code",
   "execution_count": 22,
   "id": "6ad73396",
   "metadata": {},
   "outputs": [
    {
     "name": "stdout",
     "output_type": "stream",
     "text": [
      "Odd numbers in the list:  [45, 89]\n"
     ]
    }
   ],
   "source": [
    "#8). Python program to print Odd Numbers in a List\n",
    "\n",
    "list1 = [24,45,56,78,89,54,324]\n",
    "\n",
    "odd_no = list(filter(lambda x: (x % 2 != 0), list1))\n",
    "\n",
    "print(\"Odd numbers in the list: \", odd_no)"
   ]
  },
  {
   "cell_type": "code",
   "execution_count": 23,
   "id": "30165367",
   "metadata": {},
   "outputs": [
    {
     "name": "stdout",
     "output_type": "stream",
     "text": [
      "[['king', 23, 'rock'], ['rose', 'red'], ['pink', 'house'], ['parrot'], ['cricket', 'football']]\n"
     ]
    }
   ],
   "source": [
    "#9).  Python program to remove empty list from a list\n",
    "\n",
    "def Remove(list10):\n",
    "    list10 = [l for l in list10 if l]\n",
    "    return list10\n",
    "\n",
    "list10 = [[], [\"king\",23,\"rock\"], [\"rose\",\"red\"],[\"pink\",\"house\"],\n",
    "          [\"parrot\"],[],[\"cricket\",\"football\"],[]]\n",
    "\n",
    "print(Remove(list10))"
   ]
  },
  {
   "cell_type": "code",
   "execution_count": 24,
   "id": "4053f220",
   "metadata": {},
   "outputs": [
    {
     "name": "stdout",
     "output_type": "stream",
     "text": [
      "Original List: [34, 56, 789, 89, 34]\n",
      "After Cloning: [34, 56, 789, 89, 34]\n"
     ]
    }
   ],
   "source": [
    "#10). Python program to copy or clone a list\n",
    "\n",
    "def Clone(li1):\n",
    "    li_copy = li1[:]\n",
    "    return li_copy\n",
    "\n",
    "li1 = [34, 56, 789, 89, 34]\n",
    "li2 = Clone(li1)\n",
    "\n",
    "print(\"Original List:\", li1)\n",
    "print(\"After Cloning:\", li2)"
   ]
  },
  {
   "cell_type": "code",
   "execution_count": 25,
   "id": "4376ffe8",
   "metadata": {},
   "outputs": [
    {
     "name": "stdout",
     "output_type": "stream",
     "text": [
      "enter which number you need to check occurence 10,23,32,45 : 23\n",
      "23 has occurred 4 times\n"
     ]
    }
   ],
   "source": [
    "#11). \n",
    "\n",
    "from collections import Counter\n",
    "\n",
    "l = [10,23,45,32,23,23,10,32,23,45]\n",
    "\n",
    "x = int(input(\"enter which number you need to check occurence 10,23,32,45 : \"))\n",
    "d = Counter(l)\n",
    "print('{} has occurred {} times'.format(x, d[x]))"
   ]
  }
 ],
 "metadata": {
  "kernelspec": {
   "display_name": "Python 3 (ipykernel)",
   "language": "python",
   "name": "python3"
  },
  "language_info": {
   "codemirror_mode": {
    "name": "ipython",
    "version": 3
   },
   "file_extension": ".py",
   "mimetype": "text/x-python",
   "name": "python",
   "nbconvert_exporter": "python",
   "pygments_lexer": "ipython3",
   "version": "3.9.7"
  }
 },
 "nbformat": 4,
 "nbformat_minor": 5
}
